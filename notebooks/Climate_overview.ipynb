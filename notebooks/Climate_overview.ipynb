{
 "cells": [
  {
   "cell_type": "markdown",
   "id": "4b07924d",
   "metadata": {},
   "source": [
    "# Essential Climate Variables"
   ]
  },
  {
   "cell_type": "markdown",
   "id": "ff10bf18",
   "metadata": {},
   "source": [
    "There are <a href=\"https://gcos.wmo.int/en/essential-climate-variables/table\">54 essential climate variables</a>, divided in 3 categories:\n",
    "- Atmosphere\n",
    "- Land\n",
    "- Ocean"
   ]
  },
  {
   "cell_type": "markdown",
   "id": "b8b2c56d",
   "metadata": {},
   "source": [
    "<img src=\"https://nordicesmhub.github.io/climate-data-tutorial/fig/ECVs_GCOS.png\" alt=\"alt_text\" align=\"left\"\n",
    "\twidth=\"400\" height=\"450\" />"
   ]
  },
  {
   "cell_type": "markdown",
   "id": "d599e920",
   "metadata": {},
   "source": [
    "The WMO State of the Global Climate uses seven Climate Indicators to describe the changing climate:\n",
    "\n",
    "<img src=\"https://ane4bf-datap1.s3.eu-west-1.amazonaws.com/wmod8_gcos/s3fs-public/2018-09/gci_1.png?l6C_ctykqckYTBoNoSCvf_uJdQaPoFtS\" alt=\"alt_text\" align=\"left\"\n",
    "\twidth=\"400\" height=\"450\" />"
   ]
  },
  {
   "cell_type": "markdown",
   "id": "a0efe446",
   "metadata": {},
   "source": [
    "<a href=\"https://cds.climate.copernicus.eu/cdsapp#!/dataset/sis-ecv-cmip5-bias-corrected?tab=form\">Copernicus Climate Data</a>"
   ]
  },
  {
   "cell_type": "markdown",
   "id": "465b1603",
   "metadata": {},
   "source": [
    "# Our variables (10 minutes step)\n",
    "\n",
    "https://worldclim.org/data/worldclim21.html"
   ]
  },
  {
   "cell_type": "markdown",
   "id": "31c00e4b",
   "metadata": {},
   "source": [
    "- Minimum temperature (°C)\n",
    "- Maximum temperature (°C)\n",
    "- Average temperature (°C)\n",
    "- Precipitation (mm)\n",
    "- Solar radiation (kJ m-2 day-1)\n",
    "- Wind speed (m s-1)\n",
    "- Water vapor pressure (kPa)\n",
    "- Bioclimatic variables\n",
    "- Elevation"
   ]
  },
  {
   "cell_type": "code",
   "execution_count": 2,
   "id": "2dc029d9",
   "metadata": {},
   "outputs": [
    {
     "name": "stdout",
     "output_type": "stream",
     "text": [
      "Downloading http://biogeo.ucdavis.edu/data/worldclim/v2.1/base/wc2.1_10m_tavg.zip\n",
      "Extracting /tmp/worldclim_il4flz_u/wc2.1_10m_tavg.zip\n",
      "Saving as netcdf file to /root/.local/share/latlon_utils/tavg_10m.nc\n"
     ]
    },
    {
     "name": "stderr",
     "output_type": "stream",
     "text": [
      "/root/.pyenv/versions/3.10.6/envs/planetary_garden/lib/python3.10/site-packages/netCDF4/utils.py:76: RuntimeWarning: overflow encountered in multiply\n",
      "  datout = np.around(scale*data)/scale\n"
     ]
    },
    {
     "name": "stdout",
     "output_type": "stream",
     "text": [
      "Downloading http://biogeo.ucdavis.edu/data/worldclim/v2.1/base/wc2.1_10m_prec.zip\n",
      "Extracting /tmp/worldclim_1dvcholj/wc2.1_10m_prec.zip\n",
      "Saving as netcdf file to /root/.local/share/latlon_utils/prec_10m.nc\n"
     ]
    },
    {
     "data": {
      "text/plain": [
       "tavg  jan     0.053223\n",
       "      feb     0.958252\n",
       "      mar     4.760742\n",
       "      apr     8.333008\n",
       "      mai    13.220520\n",
       "      jun    16.089722\n",
       "      jul    17.987976\n",
       "      aug    17.847229\n",
       "      sep    13.790222\n",
       "      oct     8.807007\n",
       "      nov     4.054260\n",
       "      dec     1.496521\n",
       "      djf     0.835999\n",
       "      mam     8.771423\n",
       "      jja    17.308309\n",
       "      son     8.883830\n",
       "      ann     8.949890\n",
       "prec  jan    48.000000\n",
       "      feb    42.000000\n",
       "      mar    44.000000\n",
       "      apr    44.000000\n",
       "      mai    56.000000\n",
       "      jun    68.000000\n",
       "      jul    65.000000\n",
       "      aug    52.000000\n",
       "      sep    47.000000\n",
       "      oct    52.000000\n",
       "      nov    52.000000\n",
       "      dec    59.000000\n",
       "      djf    49.666667\n",
       "      mam    48.000000\n",
       "      jja    61.666667\n",
       "      son    50.333333\n",
       "      ann    52.416667\n",
       "Name: (50, 10), dtype: float64"
      ]
     },
     "execution_count": 2,
     "metadata": {},
     "output_type": "execute_result"
    }
   ],
   "source": [
    "# !pip install latlon_utils\n",
    "# !conda install rasterio xarray\n",
    "from latlon_utils import get_climate\n",
    "\n",
    "# limit the number of columns printed by pandas\n",
    "import pandas; pandas.options.display.max_columns = 5\n",
    "\n",
    "get_climate(50, 10)"
   ]
  },
  {
   "cell_type": "code",
   "execution_count": 5,
   "id": "463ab353",
   "metadata": {},
   "outputs": [],
   "source": [
    "import rasterio\n",
    "dat = rasterio.open(\"../raw_data/wc2.1_10m_bio/wc2.1_10m_bio_1.tif\")\n",
    "data = dat.read()\n"
   ]
  },
  {
   "cell_type": "code",
   "execution_count": 7,
   "id": "e7a0339d",
   "metadata": {},
   "outputs": [
    {
     "data": {
      "text/plain": [
       "array([[-3.4000000e+38, -3.4000000e+38, -3.4000000e+38, ...,\n",
       "        -3.4000000e+38, -3.4000000e+38, -3.4000000e+38],\n",
       "       [-3.4000000e+38, -3.4000000e+38, -3.4000000e+38, ...,\n",
       "        -3.4000000e+38, -3.4000000e+38, -3.4000000e+38],\n",
       "       [-3.4000000e+38, -3.4000000e+38, -3.4000000e+38, ...,\n",
       "        -3.4000000e+38, -3.4000000e+38, -3.4000000e+38],\n",
       "       ...,\n",
       "       [-3.3482189e+01, -3.4149395e+01, -3.4149250e+01, ...,\n",
       "        -3.5465843e+01, -3.5463272e+01, -3.4137394e+01],\n",
       "       [-3.0391916e+01, -3.1634781e+01, -3.1634115e+01, ...,\n",
       "        -3.2809155e+01, -3.2810051e+01, -3.0995281e+01],\n",
       "       [-3.1017105e+01, -3.1621531e+01, -3.1622667e+01, ...,\n",
       "        -3.2812908e+01, -3.2812531e+01, -3.1620333e+01]], dtype=float32)"
      ]
     },
     "execution_count": 7,
     "metadata": {},
     "output_type": "execute_result"
    }
   ],
   "source": [
    "data[0]"
   ]
  }
 ],
 "metadata": {
  "kernelspec": {
   "display_name": "Python 3 (ipykernel)",
   "language": "python",
   "name": "python3"
  },
  "language_info": {
   "codemirror_mode": {
    "name": "ipython",
    "version": 3
   },
   "file_extension": ".py",
   "mimetype": "text/x-python",
   "name": "python",
   "nbconvert_exporter": "python",
   "pygments_lexer": "ipython3",
   "version": "3.10.6"
  },
  "toc": {
   "base_numbering": 1,
   "nav_menu": {},
   "number_sections": true,
   "sideBar": true,
   "skip_h1_title": false,
   "title_cell": "Table of Contents",
   "title_sidebar": "Contents",
   "toc_cell": false,
   "toc_position": {},
   "toc_section_display": true,
   "toc_window_display": false
  }
 },
 "nbformat": 4,
 "nbformat_minor": 5
}
