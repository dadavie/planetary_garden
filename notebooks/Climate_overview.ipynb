{
 "cells": [
  {
   "cell_type": "markdown",
   "id": "4b07924d",
   "metadata": {},
   "source": [
    "# Essential Climate Variables"
   ]
  },
  {
   "cell_type": "markdown",
   "id": "ff10bf18",
   "metadata": {},
   "source": [
    "There are <a href=\"https://gcos.wmo.int/en/essential-climate-variables/table\">54 essential climate variables</a>, divided in 3 categories:\n",
    "- Atmosphere\n",
    "- Land\n",
    "- Ocean"
   ]
  },
  {
   "cell_type": "markdown",
   "id": "b8b2c56d",
   "metadata": {},
   "source": [
    "<img src=\"https://nordicesmhub.github.io/climate-data-tutorial/fig/ECVs_GCOS.png\" alt=\"alt_text\" align=\"left\"\n",
    "\twidth=\"400\" height=\"450\" />"
   ]
  },
  {
   "cell_type": "markdown",
   "id": "d599e920",
   "metadata": {},
   "source": [
    "The WMO State of the Global Climate uses seven Climate Indicators to describe the changing climate:\n",
    "\n",
    "<img src=\"https://ane4bf-datap1.s3.eu-west-1.amazonaws.com/wmod8_gcos/s3fs-public/2018-09/gci_1.png?l6C_ctykqckYTBoNoSCvf_uJdQaPoFtS\" alt=\"alt_text\" align=\"left\"\n",
    "\twidth=\"400\" height=\"450\" />"
   ]
  }
 ],
 "metadata": {
  "kernelspec": {
   "display_name": "Python 3 (ipykernel)",
   "language": "python",
   "name": "python3"
  },
  "language_info": {
   "codemirror_mode": {
    "name": "ipython",
    "version": 3
   },
   "file_extension": ".py",
   "mimetype": "text/x-python",
   "name": "python",
   "nbconvert_exporter": "python",
   "pygments_lexer": "ipython3",
   "version": "3.10.6"
  },
  "toc": {
   "base_numbering": 1,
   "nav_menu": {},
   "number_sections": true,
   "sideBar": true,
   "skip_h1_title": false,
   "title_cell": "Table of Contents",
   "title_sidebar": "Contents",
   "toc_cell": false,
   "toc_position": {},
   "toc_section_display": true,
   "toc_window_display": false
  }
 },
 "nbformat": 4,
 "nbformat_minor": 5
}
