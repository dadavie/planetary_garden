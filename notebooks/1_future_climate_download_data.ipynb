{
 "cells": [
  {
   "cell_type": "markdown",
   "id": "252538d4",
   "metadata": {
    "heading_collapsed": true
   },
   "source": [
    "# Load Packages"
   ]
  },
  {
   "cell_type": "code",
   "execution_count": 1,
   "id": "7162c4b4",
   "metadata": {
    "code_folding": [],
    "hidden": true
   },
   "outputs": [],
   "source": [
    "from urllib.request import urlretrieve # Activate to download the data\n",
    "from os import listdir"
   ]
  },
  {
   "cell_type": "markdown",
   "id": "4b07924d",
   "metadata": {
    "heading_collapsed": true
   },
   "source": [
    "# Essential Climate Variables and Climate Models"
   ]
  },
  {
   "cell_type": "markdown",
   "id": "ff10bf18",
   "metadata": {
    "heading_collapsed": true,
    "hidden": true
   },
   "source": [
    "## All 54 variables\n",
    "There are <a href=\"https://gcos.wmo.int/en/essential-climate-variables/table\">54 essential climate variables</a>, divided in 3 categories:\n",
    "- Atmosphere\n",
    "- Land\n",
    "- Ocean"
   ]
  },
  {
   "cell_type": "markdown",
   "id": "b8b2c56d",
   "metadata": {
    "hidden": true
   },
   "source": [
    "<img src=\"https://nordicesmhub.github.io/climate-data-tutorial/fig/ECVs_GCOS.png\" alt=\"alt_text\" align=\"left\"\n",
    "\twidth=\"400\" height=\"450\" />"
   ]
  },
  {
   "cell_type": "markdown",
   "id": "d599e920",
   "metadata": {
    "hidden": true
   },
   "source": [
    "The WMO State of the Global Climate uses seven Climate Indicators to describe the changing climate:\n",
    "\n",
    "<img src=\"https://ane4bf-datap1.s3.eu-west-1.amazonaws.com/wmod8_gcos/s3fs-public/2018-09/gci_1.png?l6C_ctykqckYTBoNoSCvf_uJdQaPoFtS\" alt=\"alt_text\" align=\"left\"\n",
    "\twidth=\"400\" height=\"450\" />"
   ]
  },
  {
   "cell_type": "markdown",
   "id": "d45d9cd8",
   "metadata": {
    "hidden": true
   },
   "source": [
    "<a href=\"https://cds.climate.copernicus.eu/cdsapp#!/dataset/sis-ecv-cmip5-bias-corrected?tab=form\">Copernicus Climate Data</a>"
   ]
  },
  {
   "cell_type": "markdown",
   "id": "c4c079d9",
   "metadata": {
    "heading_collapsed": true,
    "hidden": true
   },
   "source": [
    "## Our variable subset (10 minutes step)\n",
    "\n",
    "https://worldclim.org/data/worldclim21.html"
   ]
  },
  {
   "cell_type": "markdown",
   "id": "8577bc00",
   "metadata": {
    "hidden": true
   },
   "source": [
    "- Minimum temperature (°C)\n",
    "- Maximum temperature (°C)\n",
    "- Average temperature (°C)\n",
    "- Precipitation (mm)\n",
    "- Solar radiation (kJ m-2 day-1)\n",
    "- Wind speed (m s-1)\n",
    "- Water vapor pressure (kPa)\n",
    "- Bioclimatic variables\n",
    "- Elevation"
   ]
  },
  {
   "cell_type": "markdown",
   "id": "48c79f00",
   "metadata": {
    "heading_collapsed": true,
    "hidden": true
   },
   "source": [
    "## Models\n",
    "Global climate models (GCMs) for future 2021-2040, 10 minutes spatial resolution\n",
    "\n",
    "https://worldclim.org/data/cmip6/cmip6_clim10m.html\n",
    "\n",
    "<span style=\"color:green\"><b>GCMs model names:</b></span>\n",
    "\n",
    "ACCESS-CM2, ACCESS-ESM1-5, BCC-CSM2-MR, CanESM5, CanESM5-CanOE, CMCC-ESM2, CNRM-CM6-1, CNRM-CM6-1-HR, CNRM-ESM2-1, EC-Earth3-Veg, EC-Earth3-Veg-LR, FIO-ESM-2-0, GFDL-ESM4, GISS-E2-1-G, GISS-E2-1-H, HadGEM3-GC31-LL, INM-CM4-8, INM-CM5-0, IPSL-CM6A-LR, MIROC-ES2L, MIROC6, MPI-ESM1-2-HR, MPI-ESM1-2-LR, MRI-ESM2-0, UKESM1-0-LL \n",
    "\n",
    "<span style=\"color:green\"><b>Shared socioeconomic pathways (SSPs):</b></span>\n",
    "ssp126, ssp245, ssp370, ssp585\n",
    "\n",
    "<p style=\"margin-bottom: 1em;\"><span style=\"color:green\"><b>The climate variables:</b></span>\n",
    "tmin (tn) - monthly average minimum temperature (°C), tmax (tx) - monthly average maximum temperature (°C), prec (pr) - monthly total precipitation (mm), and bioc (bc) - <span style=\"color:green\">bioclimatic variables</span> (the following 19 variables).</p>\n",
    "    \n",
    "BIO1 = Annual Mean Temperature\n",
    "\n",
    "BIO2 = Mean Diurnal Range (Mean of monthly (max temp - min temp))\n",
    "\n",
    "BIO3 = Isothermality (BIO2/BIO7) (×100)\n",
    "\n",
    "BIO4 = Temperature Seasonality (standard deviation ×100)\n",
    "\n",
    "BIO5 = Max Temperature of Warmest Month\n",
    "\n",
    "BIO6 = Min Temperature of Coldest Month\n",
    "\n",
    "BIO7 = Temperature Annual Range (BIO5-BIO6)\n",
    "\n",
    "BIO8 = Mean Temperature of Wettest Quarter\n",
    "\n",
    "BIO9 = Mean Temperature of Driest Quarter\n",
    "\n",
    "BIO10 = Mean Temperature of Warmest Quarter\n",
    "\n",
    "BIO11 = Mean Temperature of Coldest Quarter\n",
    "\n",
    "BIO12 = Annual Precipitation\n",
    "\n",
    "BIO13 = Precipitation of Wettest Month\n",
    "\n",
    "BIO14 = Precipitation of Driest Month\n",
    "\n",
    "BIO15 = Precipitation Seasonality (Coefficient of Variation)\n",
    "\n",
    "BIO16 = Precipitation of Wettest Quarter\n",
    "\n",
    "BIO17 = Precipitation of Driest Quarter\n",
    "\n",
    "BIO18 = Precipitation of Warmest Quarter\n",
    "\n",
    "BIO19 = Precipitation of Coldest Quarter"
   ]
  },
  {
   "cell_type": "markdown",
   "id": "0126c659",
   "metadata": {},
   "source": [
    "# Download future climate data"
   ]
  },
  {
   "cell_type": "code",
   "execution_count": 2,
   "id": "5410b327",
   "metadata": {
    "code_folding": [
     0
    ]
   },
   "outputs": [],
   "source": [
    "# Define the file name and the url name to retrieve\n",
    "url_base = \"https://geodata.ucdavis.edu/cmip6/10m/\"\n",
    "gcm_model_name = \"ACCESS-CM2\"\n",
    "ssp_model_names = [\"ssp126\",\"ssp585\"]\n",
    "feature_names = [\"tmin\",\"tmax\",\"prec\",\"bioc\"]\n",
    "data_path = \"../raw_data/wc2021-2040/\""
   ]
  },
  {
   "cell_type": "code",
   "execution_count": null,
   "id": "8fbf65f7",
   "metadata": {
    "code_folding": []
   },
   "outputs": [],
   "source": [
    "%%time\n",
    "# Skip this if you have already downloaded the files\n",
    "for feature_name in feature_names:\n",
    "    for ssp_model_name in ssp_model_names:\n",
    "        file_name = 'wc2.1_10m_'+feature_name+'_'+gcm_model_name+'_'+ssp_model_name+'_2021-2040.tif'\n",
    "        remote_url = url_base+gcm_model_name+'/'+ssp_model_name+'/'+file_name\n",
    "        file_path = data_path+file_name\n",
    "        # Download remote and save locally\n",
    "        urlretrieve(remote_url, file_path)"
   ]
  }
 ],
 "metadata": {
  "kernelspec": {
   "display_name": "Python 3 (ipykernel)",
   "language": "python",
   "name": "python3"
  },
  "language_info": {
   "codemirror_mode": {
    "name": "ipython",
    "version": 3
   },
   "file_extension": ".py",
   "mimetype": "text/x-python",
   "name": "python",
   "nbconvert_exporter": "python",
   "pygments_lexer": "ipython3",
   "version": "3.10.6"
  },
  "toc": {
   "base_numbering": 1,
   "nav_menu": {},
   "number_sections": true,
   "sideBar": true,
   "skip_h1_title": false,
   "title_cell": "Table of Contents",
   "title_sidebar": "Contents",
   "toc_cell": false,
   "toc_position": {},
   "toc_section_display": true,
   "toc_window_display": false
  }
 },
 "nbformat": 4,
 "nbformat_minor": 5
}
