{
 "cells": [
  {
   "cell_type": "markdown",
   "id": "1078f568",
   "metadata": {},
   "source": [
    "Geoapify provides Geocoding REST API that searches addresses worldwide. The REST API works via HTTP GET and returns JSON or XML responses. Our free plan includes up to 3000 geocoding requests/day.\n",
    "\n",
    "The request parameter <code>text</code> is\tfor a free-form address to search, e.g.,\n",
    "\n",
    "<code>text=38%20Upper%20Montagu%20Street%2C%20Westminster%20W1H%201LJ%2C%20United%20Kingdom</code>\n",
    "\n",
    "Project name: Planetary Garden\n",
    "\n",
    "API key: To be loaded"
   ]
  },
  {
   "cell_type": "code",
   "execution_count": 1,
   "id": "5b816b1f",
   "metadata": {},
   "outputs": [],
   "source": [
    "import requests\n",
    "from requests.structures import CaseInsensitiveDict\n",
    "import numpy as np\n",
    "import pandas as pd\n",
    "from urllib.parse import quote"
   ]
  },
  {
   "cell_type": "code",
   "execution_count": 2,
   "id": "86c339ad",
   "metadata": {},
   "outputs": [],
   "source": [
    "api_key = pd.read_csv(\"geoapi_key.csv\")['API key'][0]"
   ]
  },
  {
   "cell_type": "code",
   "execution_count": 3,
   "id": "8e9eff6a",
   "metadata": {},
   "outputs": [],
   "source": [
    "def coordinates_from_address(address_search_text):\n",
    "    \"\"\"\n",
    "    Geographical coordinates, corresponding to the entered address information.\n",
    "    Interpunction can be used, but it is not quite important.\n",
    "    Argument:\n",
    "        address_search_text: string\n",
    "    Output:\n",
    "        The first matched lon/lat pair as a list\n",
    "    \"\"\"\n",
    "    address_search_text_conv = quote(address_search_text.encode('utf8'))\n",
    "    headers = CaseInsensitiveDict()\n",
    "    headers[\"Accept\"] = \"application/json\"\n",
    "    base_url = \"https://api.geoapify.com/v1/geocode/search?text=\"\n",
    "    url = base_url+address_search_text_conv+\"&apiKey=\"+api_key\n",
    "    \n",
    "    resp = requests.get(url, headers=headers)\n",
    "    \n",
    "    if resp.status_code == 200:\n",
    "        features = resp.json()['features']\n",
    "        coordinates = [[np.NaN, np.NaN]]\n",
    "        if len(features)>0:\n",
    "            coordinates = [features[i]['geometry']['coordinates'] for i in range(len(features))]\n",
    "            # A list of lon/lat pairs\n",
    "    \n",
    "    return coordinates[0]"
   ]
  },
  {
   "cell_type": "code",
   "execution_count": 4,
   "id": "6af72e47",
   "metadata": {},
   "outputs": [
    {
     "name": "stdout",
     "output_type": "stream",
     "text": [
      "Multiple matches\n",
      "[12.63730490736506, 51.8689093]\n",
      "\n",
      "Unique match\n",
      "[7.4608627, 51.3626454]\n",
      "\n",
      "No matches\n",
      "[nan, nan]\n"
     ]
    }
   ],
   "source": [
    "print(\"Multiple matches\")\n",
    "print(coordinates_from_address(\"Berliner str. 3\"))\n",
    "\n",
    "print(\"\\nUnique match\")\n",
    "print(coordinates_from_address(\"Berliner 3 Hagen\"))\n",
    "\n",
    "print(\"\\nNo matches\")\n",
    "print(coordinates_from_address(\"Berliner 3, Cannes\"))"
   ]
  }
 ],
 "metadata": {
  "kernelspec": {
   "display_name": "Python 3 (ipykernel)",
   "language": "python",
   "name": "python3"
  },
  "language_info": {
   "codemirror_mode": {
    "name": "ipython",
    "version": 3
   },
   "file_extension": ".py",
   "mimetype": "text/x-python",
   "name": "python",
   "nbconvert_exporter": "python",
   "pygments_lexer": "ipython3",
   "version": "3.10.6"
  },
  "toc": {
   "base_numbering": 1,
   "nav_menu": {},
   "number_sections": true,
   "sideBar": true,
   "skip_h1_title": false,
   "title_cell": "Table of Contents",
   "title_sidebar": "Contents",
   "toc_cell": false,
   "toc_position": {},
   "toc_section_display": true,
   "toc_window_display": false
  }
 },
 "nbformat": 4,
 "nbformat_minor": 5
}
