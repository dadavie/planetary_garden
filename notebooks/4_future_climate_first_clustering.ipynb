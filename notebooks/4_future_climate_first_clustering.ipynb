{
 "cells": [
  {
   "cell_type": "markdown",
   "id": "252538d4",
   "metadata": {},
   "source": [
    "# Import Packages and Load Clustering Data"
   ]
  },
  {
   "cell_type": "code",
   "execution_count": 13,
   "id": "9fd3f835",
   "metadata": {},
   "outputs": [],
   "source": [
    "from sklearn.preprocessing import StandardScaler\n",
    "from sklearn.cluster import KMeans\n",
    "import folium as fl\n",
    "from folium.plugins import MarkerCluster\n",
    "import numpy as np\n",
    "import pandas as pd\n",
    "import random"
   ]
  },
  {
   "cell_type": "code",
   "execution_count": 14,
   "id": "7553cb70",
   "metadata": {},
   "outputs": [],
   "source": [
    "plant_data_future_bioclim = pd.read_csv(\"../raw_data/plant_data_inkl_bioclim/plant_data_future_bioclim.csv\")\n",
    "plant_data_future_prec = pd.read_csv(\"../raw_data/plant_data_inkl_bioclim/plant_data_future_prec.csv\")\n",
    "plant_data_future_tmin = pd.read_csv(\"../raw_data/plant_data_inkl_bioclim/plant_data_future_tmin.csv\")\n",
    "plant_data_future_tmax = pd.read_csv(\"../raw_data/plant_data_inkl_bioclim/plant_data_future_tmax.csv\")"
   ]
  },
  {
   "cell_type": "code",
   "execution_count": 15,
   "id": "af4cf43e",
   "metadata": {},
   "outputs": [],
   "source": [
    "bclim_feature_list = [\"bioc\"+str(i) for i in range(1,20)]\n",
    "prec_list = [\"prec\"+str(i) for i in range(1,13)]\n",
    "tmin_list = [\"tmin\"+str(i) for i in range(1,13)]\n",
    "tmax_list = [\"tmax\"+str(i) for i in range(1,13)]"
   ]
  },
  {
   "cell_type": "code",
   "execution_count": 16,
   "id": "2c96f53b",
   "metadata": {},
   "outputs": [],
   "source": [
    "# Scaling\n",
    "scaler = StandardScaler()\n",
    "scaled_plant_data_future_tmin = scaler.fit_transform(plant_data_future_tmin[tmin_list])\n",
    "# Initialize K-Means\n",
    "num_clusters = 10\n",
    "kmeans = KMeans(\n",
    "    init=\"random\",\n",
    "    n_clusters=num_clusters,\n",
    "    n_init=10,\n",
    "    max_iter=300,\n",
    "    random_state=42\n",
    ")"
   ]
  },
  {
   "cell_type": "code",
   "execution_count": 17,
   "id": "0c1d8cf8",
   "metadata": {},
   "outputs": [
    {
     "name": "stdout",
     "output_type": "stream",
     "text": [
      "CPU times: user 6.22 s, sys: 163 ms, total: 6.39 s\n",
      "Wall time: 1.68 s\n"
     ]
    }
   ],
   "source": [
    "%%time\n",
    "kmeans.fit(scaled_plant_data_future_tmin)\n",
    "plant_data_future_tmin['Cluster_No'] = kmeans.labels_\n",
    "# plant_data_future_tmin.head(3)\n",
    "\n",
    "# Get the cluster partition numbers in descending order\n",
    "cluster_count = plant_data_future_tmin['Cluster_No'].value_counts()\n",
    "cluster_count = cluster_count.rename_axis('Cluster_No').reset_index(name='Counts')"
   ]
  },
  {
   "cell_type": "code",
   "execution_count": 18,
   "id": "4f2ad60b",
   "metadata": {},
   "outputs": [],
   "source": [
    "# Cluster colors\n",
    "# Generate random colors\n",
    "rand_colors =np.array([ \"#\"+''.join([random.choice('ABCDEF0123456789') for i in range(6)]) for j in range(num_clusters)])\n",
    "\n",
    "# Set the colors for different clusters\n",
    "cluster_count[\"Color\"] = rand_colors\n",
    "# The first color corresponds to the largest group,..., the last one to the smallest group\n",
    "\n",
    "# Getting the color vector arranged by cluster number\n",
    "colors_vec = cluster_count.sort_values(['Cluster_No'])[[\"Color\"]].values.reshape(-1,).tolist()\n",
    "# colors_vec"
   ]
  },
  {
   "cell_type": "code",
   "execution_count": 23,
   "id": "46add5a0",
   "metadata": {},
   "outputs": [
    {
     "name": "stdout",
     "output_type": "stream",
     "text": [
      "CPU times: user 2min 22s, sys: 4.28 s, total: 2min 27s\n",
      "Wall time: 2min 26s\n"
     ]
    },
    {
     "data": {
      "text/plain": [
       "0        <folium.vector_layers.CircleMarker object at 0...\n",
       "1        <folium.vector_layers.CircleMarker object at 0...\n",
       "2        <folium.vector_layers.CircleMarker object at 0...\n",
       "3        <folium.vector_layers.CircleMarker object at 0...\n",
       "4        <folium.vector_layers.CircleMarker object at 0...\n",
       "                               ...                        \n",
       "74372    <folium.vector_layers.CircleMarker object at 0...\n",
       "74373    <folium.vector_layers.CircleMarker object at 0...\n",
       "74374    <folium.vector_layers.CircleMarker object at 0...\n",
       "74375    <folium.vector_layers.CircleMarker object at 0...\n",
       "74376    <folium.vector_layers.CircleMarker object at 0...\n",
       "Length: 74377, dtype: object"
      ]
     },
     "execution_count": 23,
     "metadata": {},
     "output_type": "execute_result"
    }
   ],
   "source": [
    "%%time\n",
    "# Create a map for the clustered data\n",
    "# Map center\n",
    "center = [plant_data_future_tmin['decimalLatitude'].mean(),\n",
    "          plant_data_future_tmin['decimalLongitude'].mean()]\n",
    "\n",
    "# Create a map\n",
    "map_clustered_data = fl.Map(location = center, zoom_start = 1.7)\n",
    "\n",
    "plant_data_future_tmin.apply(lambda row:fl.CircleMarker(\n",
    "    location=[row[\"decimalLatitude\"],row[\"decimalLongitude\"]],\n",
    "    radius = 0.8,fill=True,\n",
    "    color = colors_vec[row[\"Cluster_No\"]],\n",
    "    popup = fl.Popup(\"tmin1 = \"+str(row[\"tmin1\"])+' C',max_width=115)).add_to(map_clustered_data),axis=1)"
   ]
  },
  {
   "cell_type": "code",
   "execution_count": 24,
   "id": "0a91e766",
   "metadata": {},
   "outputs": [
    {
     "name": "stdout",
     "output_type": "stream",
     "text": [
      "CPU times: user 3min 16s, sys: 3.46 s, total: 3min 19s\n",
      "Wall time: 3min 19s\n"
     ]
    }
   ],
   "source": [
    "%%time\n",
    "map_clustered_data.save(\"../raw_data/plant_data_inkl_bioclim/tmin_map.html\")"
   ]
  }
 ],
 "metadata": {
  "kernelspec": {
   "display_name": "Python 3 (ipykernel)",
   "language": "python",
   "name": "python3"
  },
  "language_info": {
   "codemirror_mode": {
    "name": "ipython",
    "version": 3
   },
   "file_extension": ".py",
   "mimetype": "text/x-python",
   "name": "python",
   "nbconvert_exporter": "python",
   "pygments_lexer": "ipython3",
   "version": "3.10.6"
  },
  "toc": {
   "base_numbering": 1,
   "nav_menu": {},
   "number_sections": true,
   "sideBar": true,
   "skip_h1_title": false,
   "title_cell": "Table of Contents",
   "title_sidebar": "Contents",
   "toc_cell": false,
   "toc_position": {},
   "toc_section_display": true,
   "toc_window_display": false
  }
 },
 "nbformat": 4,
 "nbformat_minor": 5
}
