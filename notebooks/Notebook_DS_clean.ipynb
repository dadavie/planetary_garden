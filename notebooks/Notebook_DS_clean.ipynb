{
 "cells": [
  {
   "cell_type": "markdown",
   "id": "694f6d2f",
   "metadata": {},
   "source": [
    "# Import"
   ]
  },
  {
   "cell_type": "code",
   "execution_count": null,
   "id": "77ae9d64",
   "metadata": {},
   "outputs": [],
   "source": [
    "import gzip\n",
    "import os\n",
    "import shutil\n",
    "import tempfile\n",
    "import netCDF4\n",
    "from netCDF4 import Dataset\n",
    "import numpy as np\n",
    "import pandas as pd\n",
    "import math\n",
    "import requests\n",
    "import time\n",
    "import random\n",
    "from PIL import Image, ImageDraw, ImageFilter\n",
    "import matplotlib.pyplot as plt\n",
    "\n",
    "%load_ext autoreload\n",
    "%autoreload 2"
   ]
  },
  {
   "cell_type": "code",
   "execution_count": null,
   "id": "7339b5b0",
   "metadata": {},
   "outputs": [],
   "source": [
    "val_nam_list = ['cld', 'dtr', 'frs', 'pet', 'pre', 'tmn', 'tmp', 'tmx', 'vap', 'wet']\n",
    "fold_n = '/Users/davidschildberger/03_LeWagon_Datasets/CRU_raw_data_2021/'"
   ]
  },
  {
   "cell_type": "code",
   "execution_count": null,
   "id": "43799363",
   "metadata": {},
   "outputs": [],
   "source": [
    "def get_filename(feat_name):\n",
    "    fi_n = os.listdir(fold_n)\n",
    "    fi_n.remove('.DS_Store')\n",
    "    for i in fi_n: \n",
    "        if(feat_name in i) : \n",
    "            return i"
   ]
  },
  {
   "cell_type": "code",
   "execution_count": null,
   "id": "11536a6e",
   "metadata": {},
   "outputs": [],
   "source": [
    "def open_netcdf(fname):\n",
    "    with gzip.open((fold_n+fname), 'rb') as f:\n",
    "        tmp = tempfile.NamedTemporaryFile(delete=False)\n",
    "        shutil.copyfileobj(f, tmp)\n",
    "\n",
    "        f.close()\n",
    "        tmp.close()\n",
    "        \n",
    "        data = netCDF4.Dataset(tmp.name)\n",
    "        os.unlink(tmp.name)\n",
    "    return data"
   ]
  },
  {
   "cell_type": "markdown",
   "id": "ec7a9e73",
   "metadata": {},
   "source": [
    "# Bioclim - variables - calculation - functions"
   ]
  },
  {
   "cell_type": "markdown",
   "id": "5d02797f",
   "metadata": {},
   "source": [
    "## Bio 1 / Annual Mean Temperature"
   ]
  },
  {
   "cell_type": "code",
   "execution_count": 1,
   "id": "1e018030",
   "metadata": {},
   "outputs": [],
   "source": [
    "def bio_1(year):\n",
    "    val = 'tmp'\n",
    "    data = open_netcdf(get_filename(val))\n",
    "    \n",
    "    year_in_month = (year-1901)*12\n",
    "    \n",
    "    d = data.variables[val][year_in_month:year_in_month+12,:,:].data.mean(axis=0)\n",
    "    d[d > 99999] = np.nan\n",
    "    res = np.flip(d,0)\n",
    "    res = np.around(res, decimals=2)\n",
    "    return res"
   ]
  },
  {
   "cell_type": "markdown",
   "id": "e4dda42b",
   "metadata": {},
   "source": [
    "## Bio 2 / Mean Diurnal Range (Mean of monthly (max temp - min temp))"
   ]
  },
  {
   "cell_type": "code",
   "execution_count": null,
   "id": "1b64071c",
   "metadata": {},
   "outputs": [],
   "source": [
    "def bio_2(year):\n",
    "    data_tmn = open_netcdf(get_filename('tmn'))\n",
    "    data_tmx = open_netcdf(get_filename('tmx'))\n",
    "    year_in_month = (year-1901)*12\n",
    "    \n",
    "    t_min = data_tmn.variables['tmn'][year_in_month:year_in_month+12,:,:].data\n",
    "    t_max = data_tmx.variables['tmx'][year_in_month:year_in_month+12,:,:].data\n",
    "    t_min[t_min > 255] = np.nan\n",
    "    t_max[t_max > 255] = np.nan\n",
    "    d = t_max - t_min\n",
    "    d = d.mean(axis=0)\n",
    "    d[d > 99999] = np.nan\n",
    "    res = np.flip(d,0)\n",
    "    res = np.around(res, decimals=2)\n",
    "    return res"
   ]
  },
  {
   "cell_type": "markdown",
   "id": "2d7858b9",
   "metadata": {},
   "source": [
    "## BIO 3 / Isothermality (BIO2/BIO7) (×100)"
   ]
  },
  {
   "cell_type": "code",
   "execution_count": null,
   "id": "62acea0a",
   "metadata": {},
   "outputs": [],
   "source": [
    "def bio_3(year):\n",
    "    val = bio_2(year)/bio_7(year)\n",
    "    val[val > 99999] = np.nan\n",
    "    res = np.around(val, decimals=2)\n",
    "    return res"
   ]
  },
  {
   "cell_type": "markdown",
   "id": "b1e326da",
   "metadata": {},
   "source": [
    "## BIO 4 / Temperature Seasonality (standard deviation ×100)"
   ]
  },
  {
   "cell_type": "code",
   "execution_count": null,
   "id": "2ab26fb5",
   "metadata": {},
   "outputs": [],
   "source": [
    "def bio_4(year):\n",
    "    data = open_netcdf(get_filename('tmp'))\n",
    "\n",
    "    year_in_month = (year-1901)*12\n",
    "    \n",
    "    t_mp = data.variables['tmp'][year_in_month:year_in_month+12,:,:].data\n",
    "    t_mp[t_mp > 99999] = np.nan\n",
    "    res = np.std(t_mp, axis=0)\n",
    "    res = np.flip(res,0)\n",
    "    res = np.around(res, decimals=2)\n",
    "    return res"
   ]
  },
  {
   "cell_type": "markdown",
   "id": "119ed21f",
   "metadata": {},
   "source": [
    "## BIO 5 / Max Temperature of Warmest Month"
   ]
  },
  {
   "cell_type": "code",
   "execution_count": null,
   "id": "89acd17e",
   "metadata": {},
   "outputs": [],
   "source": [
    "def bio_5(year):\n",
    "    data = open_netcdf(get_filename('tmx'))\n",
    "\n",
    "    year_in_month = (year-1901)*12\n",
    "    \n",
    "    t_max = data.variables['tmx'][year_in_month:year_in_month+12,:,:].data\n",
    "    t_max[t_max > 99999] = np.nan\n",
    "    res = np.max(t_max, axis=0)\n",
    "    res = np.flip(res,0)\n",
    "    res = np.around(res, decimals=2)\n",
    "    return res"
   ]
  },
  {
   "cell_type": "markdown",
   "id": "d13bc965",
   "metadata": {},
   "source": [
    "## BIO 6 / Min Temperature of Coldest Month"
   ]
  },
  {
   "cell_type": "code",
   "execution_count": null,
   "id": "56df9e1c",
   "metadata": {},
   "outputs": [],
   "source": [
    "def bio_6(year):\n",
    "    data = open_netcdf(get_filename('tmn'))\n",
    "\n",
    "    year_in_month = (year-1901)*12\n",
    "    \n",
    "    t_min = data.variables['tmn'][year_in_month:year_in_month+12,:,:].data\n",
    "    t_min[t_min > 99999] = np.nan\n",
    "    res = np.min(t_min, axis=0)\n",
    "    res = np.flip(res,0)\n",
    "    res = np.around(res, decimals=2)\n",
    "    return res"
   ]
  },
  {
   "cell_type": "markdown",
   "id": "814882b9",
   "metadata": {},
   "source": [
    "## BIO 7 / Temperature Annual Range (BIO5-BIO6)"
   ]
  },
  {
   "cell_type": "code",
   "execution_count": null,
   "id": "18671a36",
   "metadata": {},
   "outputs": [],
   "source": [
    "def bio_7(year):\n",
    "    rang_temp = bio_5(1980)-bio_6(1980)\n",
    "    rang_temp[rang_temp > 99999] = np.nan\n",
    "    res = np.around(rang_temp, decimals=2)\n",
    "    return res"
   ]
  },
  {
   "cell_type": "markdown",
   "id": "e018687c",
   "metadata": {},
   "source": [
    "## BIO 8 / Mean Temperature of Wettest Quarter"
   ]
  },
  {
   "cell_type": "code",
   "execution_count": null,
   "id": "62c1c341",
   "metadata": {},
   "outputs": [],
   "source": [
    "def bio_8(year):\n",
    "    data_wet = open_netcdf(get_filename('wet'))\n",
    "    data_tmp = open_netcdf(get_filename('tmp'))\n",
    "    \n",
    "    year_in_month = (year-1901)*12\n",
    "    \n",
    "    temp_wet =  data_wet.variables['wet'][year_in_month:year_in_month+12,:,:].data\n",
    "    \n",
    "    li_temp = []\n",
    "    for i in range(0,11,3):\n",
    "        li_temp.append(np.sum(temp_wet[i:i+3], axis=0))\n",
    "    li_temp = np.array(li_temp)\n",
    "    max_ind = np.argmax(li_temp, axis=0)\n",
    "    \n",
    "    li_q_t = []\n",
    "    for i in range(0,11,3):\n",
    "        li_q_t.append(np.mean(data_tmp.variables['tmp'][year_in_month+i:year_in_month+i+3,:,:].data, axis=0))\n",
    "\n",
    "    li_q_t = np.array(li_q_t)\n",
    "    \n",
    "    res = np.choose(max_ind, li_q_t)\n",
    "    res[res > 99999] = np.nan\n",
    "    res = np.flip(res,0)\n",
    "    res = np.around(res, decimals=2)\n",
    "    return res"
   ]
  },
  {
   "cell_type": "markdown",
   "id": "e6844efe",
   "metadata": {},
   "source": [
    "## BIO 9 / Mean Temperature of Driest Quarter"
   ]
  },
  {
   "cell_type": "code",
   "execution_count": null,
   "id": "70add632",
   "metadata": {},
   "outputs": [],
   "source": [
    "def bio_9(year):\n",
    "    data_wet = open_netcdf(get_filename('wet'))\n",
    "    data_tmp = open_netcdf(get_filename('tmp'))\n",
    "    \n",
    "    year_in_month = (year-1901)*12\n",
    "    \n",
    "    temp_wet =  data_wet.variables['wet'][year_in_month:year_in_month+12,:,:].data\n",
    "    \n",
    "    li_temp = []\n",
    "    for i in range(0,11,3):\n",
    "        li_temp.append(np.sum(temp_wet[i:i+3], axis=0))\n",
    "    li_temp = np.array(li_temp)\n",
    "    min_ind = np.argmin(li_temp, axis=0)\n",
    "    \n",
    "    li_q_t = []\n",
    "    for i in range(0,11,3):\n",
    "        li_q_t.append(np.mean(data_tmp.variables['tmp'][year_in_month+i:year_in_month+i+3,:,:].data, axis=0))\n",
    "\n",
    "    li_q_t = np.array(li_q_t)\n",
    "    \n",
    "    res = np.choose(min_ind, li_q_t)\n",
    "    res[res > 99999] = np.nan\n",
    "    res = np.flip(res,0)\n",
    "    res = np.around(res, decimals=2)\n",
    "    return res"
   ]
  },
  {
   "cell_type": "markdown",
   "id": "63f60515",
   "metadata": {},
   "source": [
    "## BIO10 / Mean Temperature of Warmest Quarter"
   ]
  },
  {
   "cell_type": "code",
   "execution_count": null,
   "id": "8e161b54",
   "metadata": {},
   "outputs": [],
   "source": [
    "def bio_10(year):\n",
    "    data_wet = open_netcdf(get_filename('tmx'))\n",
    "    data_tmp = open_netcdf(get_filename('tmp'))\n",
    "    \n",
    "    year_in_month = (year-1901)*12\n",
    "    \n",
    "    temp_wet =  data_wet.variables['tmx'][year_in_month:year_in_month+12,:,:].data\n",
    "    \n",
    "    li_temp = []\n",
    "    for i in range(0,11,3):\n",
    "        li_temp.append(np.sum(temp_wet[i:i+3], axis=0))\n",
    "    li_temp = np.array(li_temp)\n",
    "    max_ind = np.argmax(li_temp, axis=0)\n",
    "    \n",
    "    li_q_t = []\n",
    "    for i in range(0,11,3):\n",
    "        li_q_t.append(np.mean(data_tmp.variables['tmp'][year_in_month+i:year_in_month+i+3,:,:].data, axis=0))\n",
    "\n",
    "    li_q_t = np.array(li_q_t)\n",
    "    \n",
    "    res = np.choose(max_ind, li_q_t)\n",
    "    res[res > 99999] = np.nan\n",
    "    res = np.flip(res,0)\n",
    "    res = np.around(res, decimals=2)\n",
    "    return res"
   ]
  },
  {
   "cell_type": "markdown",
   "id": "90cf9ad6",
   "metadata": {},
   "source": [
    "## BIO 11 / Mean Temperature of Coldest Quarter"
   ]
  },
  {
   "cell_type": "code",
   "execution_count": null,
   "id": "b3227659",
   "metadata": {},
   "outputs": [],
   "source": [
    "def bio_11(year):\n",
    "    data_wet = open_netcdf(get_filename('tmn'))\n",
    "    data_tmp = open_netcdf(get_filename('tmp'))\n",
    "    \n",
    "    year_in_month = (year-1901)*12\n",
    "    \n",
    "    temp_wet =  data_wet.variables['tmn'][year_in_month:year_in_month+12,:,:].data\n",
    "    \n",
    "    li_temp = []\n",
    "    for i in range(0,11,3):\n",
    "        li_temp.append(np.sum(temp_wet[i:i+3], axis=0))\n",
    "    li_temp = np.array(li_temp)\n",
    "    min_ind = np.argmin(li_temp, axis=0)\n",
    "    \n",
    "    li_q_t = []\n",
    "    for i in range(0,11,3):\n",
    "        li_q_t.append(np.mean(data_tmp.variables['tmp'][year_in_month+i:year_in_month+i+3,:,:].data, axis=0))\n",
    "\n",
    "    li_q_t = np.array(li_q_t)\n",
    "    \n",
    "    res = np.choose(min_ind, li_q_t)\n",
    "    res[res > 99999] = np.nan\n",
    "    res = np.flip(res,0)\n",
    "    res = np.around(res, decimals=2)\n",
    "    return res"
   ]
  },
  {
   "cell_type": "markdown",
   "id": "9dfe11f0",
   "metadata": {},
   "source": [
    "## BIO 12 / Annual Precipitation"
   ]
  },
  {
   "cell_type": "code",
   "execution_count": null,
   "id": "8daa1535",
   "metadata": {},
   "outputs": [],
   "source": [
    "def bio_12(year):\n",
    "    data_pre = open_netcdf(get_filename('pre'))\n",
    "    \n",
    "    year_in_month = (year-1901)*12\n",
    "    \n",
    "    temp_wet =  data_pre.variables['pre'][year_in_month:year_in_month+12,:,:].data\n",
    "    temp_wet[temp_wet > 99999] = np.nan\n",
    "    temp_wet = np.sum(temp_wet, axis=0)\n",
    "    res = np.flip(temp_wet,0)\n",
    "    res = np.around(res, decimals=2)\n",
    "    return res"
   ]
  },
  {
   "cell_type": "markdown",
   "id": "c5d0baf6",
   "metadata": {},
   "source": [
    "## BIO 13 / Precipitation of Wettest Month"
   ]
  },
  {
   "cell_type": "code",
   "execution_count": null,
   "id": "2572e988",
   "metadata": {},
   "outputs": [],
   "source": [
    "def bio_13(year):\n",
    "    data_wet = open_netcdf(get_filename('wet'))\n",
    "    data_tmp = open_netcdf(get_filename('pre'))\n",
    "    \n",
    "    year_in_month = (year-1901)*12\n",
    "    \n",
    "    temp_wet =  data_wet.variables['wet'][year_in_month:year_in_month+12,:,:].data\n",
    "    \n",
    "    max_ind = np.argmax(temp_wet, axis=0)\n",
    "        \n",
    "    res = np.choose(max_ind, data_tmp.variables['pre'][year_in_month:year_in_month+12,:,:].data)\n",
    "    res[res > 99999] = np.nan\n",
    "    res = np.flip(res,0)\n",
    "    res = np.around(res, decimals=2)\n",
    "    return res"
   ]
  },
  {
   "cell_type": "markdown",
   "id": "fd631fe2",
   "metadata": {},
   "source": [
    "## BIO 14 / Precipitation of Driest Month"
   ]
  },
  {
   "cell_type": "code",
   "execution_count": null,
   "id": "f10f49b1",
   "metadata": {},
   "outputs": [],
   "source": [
    "def bio_14(year):\n",
    "    data_wet = open_netcdf(get_filename('wet'))\n",
    "    data_tmp = open_netcdf(get_filename('pre'))\n",
    "    \n",
    "    year_in_month = (year-1901)*12\n",
    "    \n",
    "    temp_wet =  data_wet.variables['wet'][year_in_month:year_in_month+12,:,:].data\n",
    "    \n",
    "    min_ind = np.argmin(temp_wet, axis=0)\n",
    "        \n",
    "    res = np.choose(min_ind, data_tmp.variables['pre'][year_in_month:year_in_month+12,:,:].data)\n",
    "    res[res > 99999] = np.nan\n",
    "    res = np.flip(res,0)\n",
    "    res = np.around(res, decimals=2)\n",
    "    return res"
   ]
  },
  {
   "cell_type": "markdown",
   "id": "5bf7147d",
   "metadata": {},
   "source": [
    "## BIO 15 / Precipitation Seasonality (Coefficient of Variation)"
   ]
  },
  {
   "cell_type": "code",
   "execution_count": null,
   "id": "cd540c1c",
   "metadata": {},
   "outputs": [],
   "source": [
    "def bio_15(year):\n",
    "    val = 'pre'\n",
    "    data = open_netcdf(get_filename(val))\n",
    "    \n",
    "    year_in_month = (year-1901)*12\n",
    "    \n",
    "    d = data.variables[val][year_in_month:year_in_month+12,:,:].data\n",
    "    d[d > 99999] = np.nan\n",
    "    cv = lambda x: np.std(d, ddof=1, axis=0) / np.mean(d, axis=0) * 100\n",
    "    d = cv(d)\n",
    "    res = np.flip(d,0)\n",
    "    res = np.around(res, decimals=2)\n",
    "    return res"
   ]
  },
  {
   "cell_type": "markdown",
   "id": "232571bd",
   "metadata": {},
   "source": [
    "## BIO 16 / Precipitation of Wettest Quarter"
   ]
  },
  {
   "cell_type": "code",
   "execution_count": null,
   "id": "d04abfb6",
   "metadata": {},
   "outputs": [],
   "source": [
    "def bio_16(year):\n",
    "    data_wet = open_netcdf(get_filename('wet'))\n",
    "    data_tmp = open_netcdf(get_filename('pre'))\n",
    "    \n",
    "    year_in_month = (year-1901)*12\n",
    "    \n",
    "    temp_wet =  data_wet.variables['wet'][year_in_month:year_in_month+12,:,:].data\n",
    "    \n",
    "    li_temp = []\n",
    "    for i in range(0,11,3):\n",
    "        li_temp.append(np.sum(temp_wet[i:i+3], axis=0))\n",
    "    li_temp = np.array(li_temp)\n",
    "    max_ind = np.argmax(li_temp, axis=0)\n",
    "    \n",
    "    li_q_t = []\n",
    "    for i in range(0,11,3):\n",
    "        li_q_t.append(np.sum(data_tmp.variables['pre'][year_in_month+i:year_in_month+i+3,:,:].data, axis=0))\n",
    "\n",
    "    li_q_t = np.array(li_q_t)\n",
    "    \n",
    "    res = np.choose(max_ind, li_q_t)\n",
    "    res[res > 99999] = np.nan\n",
    "    res = np.flip(res,0)\n",
    "    res = np.around(res, decimals=2)\n",
    "    return res"
   ]
  },
  {
   "cell_type": "markdown",
   "id": "cb40c6b5",
   "metadata": {},
   "source": [
    "## BIO 17 / Precipitation of Driest Quarter"
   ]
  },
  {
   "cell_type": "code",
   "execution_count": null,
   "id": "cbee5fa0",
   "metadata": {},
   "outputs": [],
   "source": [
    "def bio_17(year):\n",
    "    data_wet = open_netcdf(get_filename('wet'))\n",
    "    data_tmp = open_netcdf(get_filename('pre'))\n",
    "    \n",
    "    year_in_month = (year-1901)*12\n",
    "    \n",
    "    temp_wet =  data_wet.variables['wet'][year_in_month:year_in_month+12,:,:].data\n",
    "    \n",
    "    li_temp = []\n",
    "    for i in range(0,11,3):\n",
    "        li_temp.append(np.sum(temp_wet[i:i+3], axis=0))\n",
    "    li_temp = np.array(li_temp)\n",
    "    min_ind = np.argmin(li_temp, axis=0)\n",
    "    \n",
    "    li_q_t = []\n",
    "    for i in range(0,11,3):\n",
    "        li_q_t.append(np.sum(data_tmp.variables['pre'][year_in_month+i:year_in_month+i+3,:,:].data, axis=0))\n",
    "\n",
    "    li_q_t = np.array(li_q_t)\n",
    "    \n",
    "    res = np.choose(min_ind, li_q_t)\n",
    "    res[res > 99999] = np.nan\n",
    "    res = np.flip(res,0)\n",
    "    res = np.around(res, decimals=2)\n",
    "    return res"
   ]
  },
  {
   "cell_type": "markdown",
   "id": "514253d6",
   "metadata": {},
   "source": [
    "## BIO 18 / Precipitation of Warmest Quarter..."
   ]
  },
  {
   "cell_type": "code",
   "execution_count": null,
   "id": "3aac8e08",
   "metadata": {},
   "outputs": [],
   "source": [
    "def bio_18(year):\n",
    "    data_wet = open_netcdf(get_filename('tmp'))\n",
    "    data_tmp = open_netcdf(get_filename('pre'))\n",
    "    \n",
    "    year_in_month = (year-1901)*12\n",
    "    \n",
    "    temp_wet =  data_wet.variables['tmp'][year_in_month:year_in_month+12,:,:].data\n",
    "    \n",
    "    li_temp = []\n",
    "    for i in range(0,11,3):\n",
    "        li_temp.append(np.sum(temp_wet[i:i+3], axis=0))\n",
    "    li_temp = np.array(li_temp)\n",
    "    max_ind = np.argmax(li_temp, axis=0)\n",
    "    \n",
    "    li_q_t = []\n",
    "    for i in range(0,11,3):\n",
    "        li_q_t.append(np.sum(data_tmp.variables['pre'][year_in_month+i:year_in_month+i+3,:,:].data, axis=0))\n",
    "\n",
    "    li_q_t = np.array(li_q_t)\n",
    "    \n",
    "    res = np.choose(max_ind, li_q_t)\n",
    "    res[res > 99999] = np.nan\n",
    "    res = np.flip(res,0)\n",
    "    res = np.around(res, decimals=2)\n",
    "    return res"
   ]
  },
  {
   "cell_type": "markdown",
   "id": "73ecf296",
   "metadata": {},
   "source": [
    "## BIO19 / Precipitation of Coldest Quarter"
   ]
  },
  {
   "cell_type": "code",
   "execution_count": null,
   "id": "2332faa2",
   "metadata": {},
   "outputs": [],
   "source": [
    "def bio_19(year):\n",
    "    data_wet = open_netcdf(get_filename('tmn'))\n",
    "    data_tmp = open_netcdf(get_filename('pre'))\n",
    "    \n",
    "    year_in_month = (year-1901)*12\n",
    "    \n",
    "    temp_wet =  data_wet.variables['tmn'][year_in_month:year_in_month+12,:,:].data\n",
    "    \n",
    "    li_temp = []\n",
    "    for i in range(0,11,3):\n",
    "        li_temp.append(np.sum(temp_wet[i:i+3], axis=0))\n",
    "    li_temp = np.array(li_temp)\n",
    "    min_ind = np.argmin(li_temp, axis=0)\n",
    "    \n",
    "    li_q_t = []\n",
    "    for i in range(0,11,3):\n",
    "        li_q_t.append(np.sum(data_tmp.variables['pre'][year_in_month+i:year_in_month+i+3,:,:].data, axis=0))\n",
    "\n",
    "    li_q_t = np.array(li_q_t)\n",
    "    \n",
    "    res = np.choose(min_ind, li_q_t)\n",
    "    res[res > 99999] = np.nan\n",
    "    res = np.flip(res,0)\n",
    "    res = np.around(res, decimals=2)\n",
    "    return res"
   ]
  },
  {
   "cell_type": "markdown",
   "id": "22696e9b",
   "metadata": {},
   "source": [
    "# Image scraping"
   ]
  },
  {
   "cell_type": "code",
   "execution_count": null,
   "id": "24f37951",
   "metadata": {},
   "outputs": [],
   "source": [
    "def get_urls_to_scrap():\n",
    "    ## get plant - multimedia data\n",
    "    df_m = pd.read_csv('/Users/davidschildberger/code/dadavie/planetary_garden/raw_data/multimedia.txt', sep='\\t', index_col='gbifID')\n",
    "    df_m = df_m[['identifier']]\n",
    "    ## get plant - info\n",
    "    df_i = pd.read_csv(\"/Users/davidschildberger/code/dadavie/planetary_garden/raw_data/data_inkl_bioclim_grs.csv\")\n",
    "    df_i = df.set_index('gbifID')\n",
    "    media_df = df_i.merge(df_m,  left_index=True, right_index=True)"
   ]
  },
  {
   "cell_type": "code",
   "execution_count": null,
   "id": "2544a173",
   "metadata": {},
   "outputs": [],
   "source": [
    "def img_scraping():\n",
    "    ## foldername for the thumbnails\n",
    "    fold_n_thumb = '/Users/davidschildberger/code/dadavie/planetary_garden/raw_data/thumbnails/'\n",
    "    fi_n = os.listdir(fold_n_thumb)\n",
    "    files = [os.path.splitext(filename)[0] for filename in os.listdir(fold_n_thumb)]\n",
    "    #fi_n.remove('.DS_Store') ## in case you have a mac - this might be necessary\n",
    "    \n",
    "    ## read out the already existing files in the folder...\n",
    "    media_df_nodupl = media_df[~media_df.index.duplicated(keep='first')]\n",
    "    list_indexes = media_df_nodupl.index\n",
    "    diff_li = list(set(list_indexes) - set(files))\n",
    "    \n",
    "    ## shuffle the list - this might be necessary since requests at the same api in a row might deny access\n",
    "    random.shuffle(diff_li)\n",
    "\n",
    "    ## request and store images in \"images\" folder\n",
    "    for i in range(0, 10000):\n",
    "        try:\n",
    "            r = requests.get(media_df_nodupl.loc[int(diff_li[i]),'identifier'], stream=True) #Get request on full_url\n",
    "            with open(f\"/Users/davidschildberger/code/dadavie/planetary_garden/raw_data/images/{int(diff_li[i])}.jpg\", 'wb') as f: \n",
    "                r.raw.decode_content = True\n",
    "                shutil.copyfileobj(r.raw, f)\n",
    "        except:\n",
    "            continue\n",
    "\n",
    "        time.sleep(random.uniform(0.5, 1))"
   ]
  },
  {
   "cell_type": "code",
   "execution_count": null,
   "id": "300fb81f",
   "metadata": {},
   "outputs": [],
   "source": [
    "def img_croping_and_scaling():\n",
    "    ## get images from images folde\n",
    "    fold_n_im = '/Users/davidschildberger/code/dadavie/planetary_garden/raw_data/images/'\n",
    "    fi_n = os.listdir(fold_n_im)\n",
    "    fi_n.remove('.DS_Store')\n",
    "\n",
    "    ## crop and scale images to thumnails folder\n",
    "    for i in range(len(fi_n)):\n",
    "        try:\n",
    "            image = Image.open(f\"/Users/davidschildberger/code/dadavie/planetary_garden/raw_data/images/{fi_n[i]}\")\n",
    "            image = crop_max_square(image).resize((300, 300))\n",
    "            image.save(f\"/Users/davidschildberger/code/dadavie/planetary_garden/raw_data/thumbnails/{fi_n[i]}\") \n",
    "        except:\n",
    "            continue"
   ]
  },
  {
   "cell_type": "code",
   "execution_count": null,
   "id": "44ec628e",
   "metadata": {},
   "outputs": [],
   "source": [
    "def crop_max_square(pil_img):\n",
    "    return crop_center(pil_img, min(pil_img.size), min(pil_img.size))"
   ]
  },
  {
   "cell_type": "code",
   "execution_count": null,
   "id": "c47d5cff",
   "metadata": {},
   "outputs": [],
   "source": [
    "def crop_center(pil_img, crop_width, crop_height):\n",
    "    img_width, img_height = pil_img.size\n",
    "    return pil_img.crop(((img_width - crop_width) // 2,\n",
    "                         (img_height - crop_height) // 2,\n",
    "                         (img_width + crop_width) // 2,\n",
    "                         (img_height + crop_height) // 2))"
   ]
  },
  {
   "cell_type": "code",
   "execution_count": null,
   "id": "e426edec",
   "metadata": {},
   "outputs": [],
   "source": []
  }
 ],
 "metadata": {
  "kernelspec": {
   "display_name": "Python 3 (ipykernel)",
   "language": "python",
   "name": "python3"
  },
  "language_info": {
   "codemirror_mode": {
    "name": "ipython",
    "version": 3
   },
   "file_extension": ".py",
   "mimetype": "text/x-python",
   "name": "python",
   "nbconvert_exporter": "python",
   "pygments_lexer": "ipython3",
   "version": "3.10.6"
  },
  "toc": {
   "base_numbering": 1,
   "nav_menu": {},
   "number_sections": true,
   "sideBar": true,
   "skip_h1_title": false,
   "title_cell": "Table of Contents",
   "title_sidebar": "Contents",
   "toc_cell": false,
   "toc_position": {},
   "toc_section_display": true,
   "toc_window_display": false
  }
 },
 "nbformat": 4,
 "nbformat_minor": 5
}
