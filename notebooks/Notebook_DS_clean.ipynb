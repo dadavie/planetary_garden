{
 "cells": [
  {
   "cell_type": "markdown",
   "id": "8864ed66",
   "metadata": {},
   "source": [
    "# Bioclim - variables - calculation - functions"
   ]
  },
  {
   "cell_type": "markdown",
   "id": "6e546294",
   "metadata": {},
   "source": [
    "## Bio 1 / Annual Mean Temperature"
   ]
  },
  {
   "cell_type": "code",
   "execution_count": 1,
   "id": "a371e41a",
   "metadata": {},
   "outputs": [],
   "source": [
    "def bio_1_annual_mean_temp(year, lon, lat):\n",
    "    temp_mean = 'tmp'\n",
    "    return retrieve_CRU_data(temp_mean, year, lon, lat).mean()"
   ]
  },
  {
   "cell_type": "markdown",
   "id": "3fe30f7b",
   "metadata": {},
   "source": [
    "## Bio 2 / Mean Diurnal Range (Mean of monthly (max temp - min temp))"
   ]
  },
  {
   "cell_type": "code",
   "execution_count": null,
   "id": "4e354ae6",
   "metadata": {},
   "outputs": [],
   "source": [
    "def bio_2_mean_diurnal_range(year, lon, lat):\n",
    "    t_min = retrieve_CRU_data('tmn', year, lon, lat)\n",
    "    t_max = retrieve_CRU_data('tmx', year, lon, lat)\n",
    "    diurnal = t_max-t_min\n",
    "    return diurnal.mean()"
   ]
  },
  {
   "cell_type": "markdown",
   "id": "5dd4270f",
   "metadata": {},
   "source": [
    "## BIO 3 / Isothermality (BIO2/BIO7) (×100)"
   ]
  },
  {
   "cell_type": "code",
   "execution_count": null,
   "id": "e55cb497",
   "metadata": {},
   "outputs": [],
   "source": [
    "def bio_3_isothermality(year, lon, lat):\n",
    "    val = bio_2_mean_diurnal_range(year, lon, lat)/bio_7_temp_range(year, lon, lat)\n",
    "    return val"
   ]
  },
  {
   "cell_type": "markdown",
   "id": "b176daf2",
   "metadata": {},
   "source": [
    "## BIO 4 / Temperature Seasonality (standard deviation ×100)"
   ]
  },
  {
   "cell_type": "code",
   "execution_count": null,
   "id": "613b8077",
   "metadata": {},
   "outputs": [],
   "source": [
    "def bio_4_temperature_seasonality(year, lon, lat):\n",
    "    t_mean = retrieve_CRU_data('tmp', year, lon, lat)\n",
    "    return np.std(t_mean)"
   ]
  },
  {
   "cell_type": "markdown",
   "id": "d913f4cb",
   "metadata": {},
   "source": [
    "## BIO 5 / Max Temperature of Warmest Month"
   ]
  },
  {
   "cell_type": "code",
   "execution_count": null,
   "id": "09fc27b3",
   "metadata": {},
   "outputs": [],
   "source": [
    "def bio_5_max_temp_of_max_month(year, lon, lat):\n",
    "    t_max = retrieve_CRU_data('tmx', year, lon, lat)\n",
    "    return np.max(t_max)"
   ]
  },
  {
   "cell_type": "markdown",
   "id": "d18cd9d1",
   "metadata": {},
   "source": [
    "## BIO 6 / Min Temperature of Coldest Month"
   ]
  },
  {
   "cell_type": "code",
   "execution_count": null,
   "id": "f3310c35",
   "metadata": {},
   "outputs": [],
   "source": [
    "def bio_6_min_temp_of_min_month(year, lon, lat):\n",
    "    t_min = retrieve_CRU_data('tmn', year, lon, lat)\n",
    "    return np.min(t_min)"
   ]
  },
  {
   "cell_type": "markdown",
   "id": "0b7e6994",
   "metadata": {},
   "source": [
    "## BIO 7 / Temperature Annual Range (BIO5-BIO6)"
   ]
  },
  {
   "cell_type": "code",
   "execution_count": null,
   "id": "6211bc5d",
   "metadata": {},
   "outputs": [],
   "source": [
    "def bio_7_temp_range(year, lon, lat):\n",
    "    rang_temp = bio_5_max_temp_of_max_month(year, lon, lat)-bio_6_min_temp_of_min_month(year, lon, lat)\n",
    "    return rang_temp"
   ]
  },
  {
   "cell_type": "markdown",
   "id": "c24bd18b",
   "metadata": {},
   "source": [
    "## BIO 8 / Mean Temperature of Wettest Quarter"
   ]
  },
  {
   "cell_type": "code",
   "execution_count": null,
   "id": "baa9e0aa",
   "metadata": {},
   "outputs": [],
   "source": [
    "def bio_8_mean_temp_wet_q(year, lon, lat):\n",
    "    temp_wet = retrieve_CRU_data('wet', year, lon, lat)\n",
    "    li_temp = []\n",
    "    for i in range(0,11,3):\n",
    "        li_temp.append(temp_wet[i:i+3].sum())\n",
    "    max_index=li_temp.index(max(li_temp))\n",
    "    ll = [0,3,6,9]\n",
    "    st = ll[max_index]\n",
    "    return retrieve_CRU_data('tmp', year, lon, lat)[st:st+3].mean()"
   ]
  },
  {
   "cell_type": "markdown",
   "id": "a6cc6742",
   "metadata": {},
   "source": [
    "## BIO 9 / Mean Temperature of Driest Quarter"
   ]
  },
  {
   "cell_type": "code",
   "execution_count": null,
   "id": "68a36d35",
   "metadata": {},
   "outputs": [],
   "source": [
    "def bio_9_mean_temp_dry_q(year, lon, lat):\n",
    "    temp_wet = retrieve_CRU_data('wet', year, lon, lat)\n",
    "    li_temp = []\n",
    "    for i in range(0,11,3):\n",
    "        li_temp.append(temp_wet[i:i+3].sum())\n",
    "    min_index=li_temp.index(min(li_temp))\n",
    "    ll = [0,3,6,9]\n",
    "    st = ll[min_index]\n",
    "    return retrieve_CRU_data('tmp', year, lon, lat)[st:st+3].mean()"
   ]
  },
  {
   "cell_type": "markdown",
   "id": "32263b72",
   "metadata": {},
   "source": [
    "## BIO10 / Mean Temperature of Warmest Quarter"
   ]
  },
  {
   "cell_type": "code",
   "execution_count": null,
   "id": "471085c5",
   "metadata": {},
   "outputs": [],
   "source": [
    "def bio_10_mean_temp_warm_q(year, lon, lat):\n",
    "    temp_wet = retrieve_CRU_data('tmp', year, lon, lat)\n",
    "    li_temp = []\n",
    "    for i in range(0,11,3):\n",
    "        li_temp.append(temp_wet[i:i+3].sum())\n",
    "    max_index=li_temp.index(max(li_temp))\n",
    "    ll = [0,3,6,9]\n",
    "    st = ll[max_index]\n",
    "    return temp_wet[st:st+3].mean()"
   ]
  },
  {
   "cell_type": "markdown",
   "id": "5c98a634",
   "metadata": {},
   "source": [
    "## BIO 11 / Mean Temperature of Coldest Quarter"
   ]
  },
  {
   "cell_type": "code",
   "execution_count": null,
   "id": "173cc776",
   "metadata": {},
   "outputs": [],
   "source": [
    "def bio_11_mean_temp_cold_q(year, lon, lat):\n",
    "    temp_wet = retrieve_CRU_data('tmp', year, lon, lat)\n",
    "    li_temp = []\n",
    "    for i in range(0,11,3):\n",
    "        li_temp.append(temp_wet[i:i+3].sum())\n",
    "    min_index=li_temp.index(min(li_temp))\n",
    "    ll = [0,3,6,9]\n",
    "    st = ll[min_index]\n",
    "    return temp_wet[st:st+3].mean()"
   ]
  },
  {
   "cell_type": "markdown",
   "id": "028e766e",
   "metadata": {},
   "source": [
    "## BIO 12 / Annual Precipitation"
   ]
  },
  {
   "cell_type": "code",
   "execution_count": null,
   "id": "c74940ab",
   "metadata": {},
   "outputs": [],
   "source": [
    "def bio_12_annual_prec(year, lon, lat):\n",
    "    return retrieve_CRU_data('pre', year, lon, lat).sum()"
   ]
  },
  {
   "cell_type": "markdown",
   "id": "055c541e",
   "metadata": {},
   "source": [
    "## BIO 13 / Precipitation of Wettest Month"
   ]
  },
  {
   "cell_type": "code",
   "execution_count": null,
   "id": "fbcccfab",
   "metadata": {},
   "outputs": [],
   "source": [
    "def bio_13_prec_wet_mo(year, lon, lat):\n",
    "    temp_wet = retrieve_CRU_data('wet', year, lon, lat)\n",
    "    max_index=np.argmax(temp_wet)\n",
    "    return retrieve_CRU_data('pre', year, lon, lat)[max_index]"
   ]
  },
  {
   "cell_type": "markdown",
   "id": "987870d8",
   "metadata": {},
   "source": [
    "## BIO 14 / Precipitation of Driest Month"
   ]
  },
  {
   "cell_type": "code",
   "execution_count": null,
   "id": "26cbf931",
   "metadata": {},
   "outputs": [],
   "source": [
    "def bio_14_prec_dry_mo(year, lon, lat):\n",
    "    temp_wet = retrieve_CRU_data('wet', year, lon, lat)\n",
    "    min_index=np.argmin(temp_wet)\n",
    "    return retrieve_CRU_data('pre', year, lon, lat)[min_index]"
   ]
  },
  {
   "cell_type": "markdown",
   "id": "d27c6959",
   "metadata": {},
   "source": [
    "## BIO 15 / Precipitation Seasonality (Coefficient of Variation)"
   ]
  },
  {
   "cell_type": "code",
   "execution_count": null,
   "id": "ea966bdd",
   "metadata": {},
   "outputs": [],
   "source": [
    "def bio_15_prec_wet_mo(year, lon, lat):\n",
    "    temp_pre = retrieve_CRU_data('pre', year, lon, lat)\n",
    "    cv = lambda x: np.std(temp_pre, ddof=1) / np.mean(temp_pre) * 100\n",
    "    return cv(temp_pre)"
   ]
  },
  {
   "cell_type": "markdown",
   "id": "2d296302",
   "metadata": {},
   "source": [
    "## BIO 16 / Precipitation of Wettest Quarter"
   ]
  },
  {
   "cell_type": "code",
   "execution_count": null,
   "id": "f7663185",
   "metadata": {},
   "outputs": [],
   "source": [
    "def bio_16_pre_wet_q(year, lon, lat):\n",
    "    temp_wet = retrieve_CRU_data('wet', year, lon, lat)\n",
    "    li_temp = []\n",
    "    for i in range(0,11,3):\n",
    "        li_temp.append(temp_wet[i:i+3].sum())\n",
    "    max_index=li_temp.index(max(li_temp))\n",
    "    ll = [0,3,6,9]\n",
    "    st = ll[max_index]\n",
    "    return retrieve_CRU_data('pre', year, lon, lat)[st:st+3].mean()"
   ]
  },
  {
   "cell_type": "markdown",
   "id": "3f7f954e",
   "metadata": {},
   "source": [
    "## BIO 17 / Precipitation of Driest Quarter"
   ]
  },
  {
   "cell_type": "code",
   "execution_count": null,
   "id": "0c9da7be",
   "metadata": {},
   "outputs": [],
   "source": [
    "def bio_17_pre_dry_q(year, lon, lat):\n",
    "    temp_wet = retrieve_CRU_data('wet', year, lon, lat)\n",
    "    li_temp = []\n",
    "    for i in range(0,11,3):\n",
    "        li_temp.append(temp_wet[i:i+3].sum())\n",
    "    min_index=li_temp.index(min(li_temp))\n",
    "    ll = [0,3,6,9]\n",
    "    st = ll[min_index]\n",
    "    return retrieve_CRU_data('pre', year, lon, lat)[st:st+3].mean()"
   ]
  },
  {
   "cell_type": "markdown",
   "id": "9460e7ac",
   "metadata": {},
   "source": [
    "## BIO 18 / Precipitation of Warmest Quarter..."
   ]
  },
  {
   "cell_type": "code",
   "execution_count": null,
   "id": "e0e87d6b",
   "metadata": {},
   "outputs": [],
   "source": [
    "def bio_18_pre_dry_q(year, lon, lat):\n",
    "    temp_wet = retrieve_CRU_data('tmp', year, lon, lat)\n",
    "    li_temp = []\n",
    "    for i in range(0,11,3):\n",
    "        li_temp.append(temp_wet[i:i+3].sum())\n",
    "    max_index=li_temp.index(max(li_temp))\n",
    "    ll = [0,3,6,9]\n",
    "    st = ll[max_index]\n",
    "    return retrieve_CRU_data('pre', year, lon, lat)[st:st+3].mean()"
   ]
  },
  {
   "cell_type": "markdown",
   "id": "897c7f0f",
   "metadata": {},
   "source": [
    "## BIO19 / Precipitation of Coldest Quarter"
   ]
  },
  {
   "cell_type": "code",
   "execution_count": null,
   "id": "cf7d26a5",
   "metadata": {},
   "outputs": [],
   "source": [
    "def bio_19_pre_cld_q(year, lon, lat):\n",
    "    temp_wet = retrieve_CRU_data('tmp', year, lon, lat)\n",
    "    li_temp = []\n",
    "    for i in range(0,11,3):\n",
    "        li_temp.append(temp_wet[i:i+3].sum())\n",
    "    min_index=li_temp.index(min(li_temp))\n",
    "    ll = [0,3,6,9]\n",
    "    st = ll[min_index]\n",
    "    return retrieve_CRU_data('pre', year, lon, lat)[st:st+3].mean()"
   ]
  }
 ],
 "metadata": {
  "kernelspec": {
   "display_name": "Python 3 (ipykernel)",
   "language": "python",
   "name": "python3"
  },
  "language_info": {
   "codemirror_mode": {
    "name": "ipython",
    "version": 3
   },
   "file_extension": ".py",
   "mimetype": "text/x-python",
   "name": "python",
   "nbconvert_exporter": "python",
   "pygments_lexer": "ipython3",
   "version": "3.10.6"
  },
  "toc": {
   "base_numbering": 1,
   "nav_menu": {},
   "number_sections": true,
   "sideBar": true,
   "skip_h1_title": false,
   "title_cell": "Table of Contents",
   "title_sidebar": "Contents",
   "toc_cell": false,
   "toc_position": {},
   "toc_section_display": true,
   "toc_window_display": false
  }
 },
 "nbformat": 4,
 "nbformat_minor": 5
}
