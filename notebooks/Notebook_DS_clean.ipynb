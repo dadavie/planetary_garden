{
 "cells": [
  {
   "cell_type": "markdown",
   "id": "9a6d7dda",
   "metadata": {},
   "source": [
    "# Bioclim - variables - calculation - functions"
   ]
  },
  {
   "cell_type": "markdown",
   "id": "b9859514",
   "metadata": {},
   "source": [
    "## Bio 1 / Annual Mean Temperature"
   ]
  },
  {
   "cell_type": "code",
   "execution_count": 1,
   "id": "ae3d519f",
   "metadata": {},
   "outputs": [],
   "source": [
    "def bio_1_annual_mean_temp(year, lon, lat):\n",
    "    temp_mean = 'tmp'\n",
    "    return retrieve_CRU_data(temp_mean, year, lon, lat).mean()"
   ]
  },
  {
   "cell_type": "markdown",
   "id": "c7d25e5f",
   "metadata": {},
   "source": [
    "## Bio 2 / Mean Diurnal Range (Mean of monthly (max temp - min temp))"
   ]
  },
  {
   "cell_type": "code",
   "execution_count": null,
   "id": "e8dbfd72",
   "metadata": {},
   "outputs": [],
   "source": [
    "def bio_2_mean_diurnal_range(year, lon, lat):\n",
    "    t_min = retrieve_CRU_data('tmn', year, lon, lat)\n",
    "    t_max = retrieve_CRU_data('tmx', year, lon, lat)\n",
    "    diurnal = t_max-t_min\n",
    "    return diurnal.mean()"
   ]
  },
  {
   "cell_type": "markdown",
   "id": "df8cf18f",
   "metadata": {},
   "source": [
    "## BIO3 / Isothermality (BIO2/BIO7) (×100)"
   ]
  },
  {
   "cell_type": "code",
   "execution_count": null,
   "id": "d48d0c4a",
   "metadata": {},
   "outputs": [],
   "source": [
    "def bio_3_isothermality(year, lon, lat):\n",
    "    val = bio_2_mean_diurnal_range(year, lon, lat)/bio_7_temp_range(year, lon, lat)\n",
    "    return val"
   ]
  },
  {
   "cell_type": "markdown",
   "id": "0d85019c",
   "metadata": {},
   "source": [
    "## BIO4 / Temperature Seasonality (standard deviation ×100)"
   ]
  },
  {
   "cell_type": "code",
   "execution_count": null,
   "id": "007476cc",
   "metadata": {},
   "outputs": [],
   "source": [
    "def bio_4_temperature_seasonality(year, lon, lat):\n",
    "    t_mean = retrieve_CRU_data('tmp', year, lon, lat)\n",
    "    return np.std(t_mean)"
   ]
  },
  {
   "cell_type": "markdown",
   "id": "9639e687",
   "metadata": {},
   "source": [
    "## BIO5 / Max Temperature of Warmest Month"
   ]
  },
  {
   "cell_type": "code",
   "execution_count": null,
   "id": "4e60daab",
   "metadata": {},
   "outputs": [],
   "source": [
    "def bio_5_max_temp_of_max_month(year, lon, lat):\n",
    "    t_max = retrieve_CRU_data('tmx', year, lon, lat)\n",
    "    return np.max(t_max)"
   ]
  },
  {
   "cell_type": "code",
   "execution_count": null,
   "id": "c5c0ce5a",
   "metadata": {},
   "outputs": [],
   "source": []
  },
  {
   "cell_type": "code",
   "execution_count": null,
   "id": "e2d86a97",
   "metadata": {},
   "outputs": [],
   "source": []
  },
  {
   "cell_type": "code",
   "execution_count": null,
   "id": "2a71dea6",
   "metadata": {},
   "outputs": [],
   "source": []
  },
  {
   "cell_type": "code",
   "execution_count": null,
   "id": "fbc87fc1",
   "metadata": {},
   "outputs": [],
   "source": []
  }
 ],
 "metadata": {
  "kernelspec": {
   "display_name": "Python 3 (ipykernel)",
   "language": "python",
   "name": "python3"
  },
  "language_info": {
   "codemirror_mode": {
    "name": "ipython",
    "version": 3
   },
   "file_extension": ".py",
   "mimetype": "text/x-python",
   "name": "python",
   "nbconvert_exporter": "python",
   "pygments_lexer": "ipython3",
   "version": "3.10.6"
  },
  "toc": {
   "base_numbering": 1,
   "nav_menu": {},
   "number_sections": true,
   "sideBar": true,
   "skip_h1_title": false,
   "title_cell": "Table of Contents",
   "title_sidebar": "Contents",
   "toc_cell": false,
   "toc_position": {},
   "toc_section_display": true,
   "toc_window_display": false
  }
 },
 "nbformat": 4,
 "nbformat_minor": 5
}
