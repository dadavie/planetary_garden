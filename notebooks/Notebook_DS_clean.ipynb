{
 "cells": [
  {
   "cell_type": "markdown",
   "id": "bcdae645",
   "metadata": {},
   "source": [
    "# Import"
   ]
  },
  {
   "cell_type": "code",
   "execution_count": null,
   "id": "c9e94b83",
   "metadata": {},
   "outputs": [],
   "source": [
    "import gzip\n",
    "import os\n",
    "import shutil\n",
    "import tempfile\n",
    "import netCDF4\n",
    "from netCDF4 import Dataset\n",
    "import numpy as np\n",
    "import pandas as pd\n",
    "import math\n",
    "import requests\n",
    "import time\n",
    "import random\n",
    "from PIL import Image, ImageDraw, ImageFilter\n",
    "import matplotlib.pyplot as plt\n",
    "\n",
    "%load_ext autoreload\n",
    "%autoreload 2"
   ]
  },
  {
   "cell_type": "markdown",
   "id": "abfe5723",
   "metadata": {},
   "source": [
    "# Bioclim - variables - calculation - functions"
   ]
  },
  {
   "cell_type": "markdown",
   "id": "8b41806e",
   "metadata": {},
   "source": [
    "## Bio 1 / Annual Mean Temperature"
   ]
  },
  {
   "cell_type": "code",
   "execution_count": 1,
   "id": "039738dc",
   "metadata": {},
   "outputs": [],
   "source": [
    "def bio_1_annual_mean_temp(year, lon, lat):\n",
    "    temp_mean = 'tmp'\n",
    "    return retrieve_CRU_data(temp_mean, year, lon, lat).mean()"
   ]
  },
  {
   "cell_type": "markdown",
   "id": "2fe348e9",
   "metadata": {},
   "source": [
    "## Bio 2 / Mean Diurnal Range (Mean of monthly (max temp - min temp))"
   ]
  },
  {
   "cell_type": "code",
   "execution_count": null,
   "id": "6f2f375d",
   "metadata": {},
   "outputs": [],
   "source": [
    "def bio_2_mean_diurnal_range(year, lon, lat):\n",
    "    t_min = retrieve_CRU_data('tmn', year, lon, lat)\n",
    "    t_max = retrieve_CRU_data('tmx', year, lon, lat)\n",
    "    diurnal = t_max-t_min\n",
    "    return diurnal.mean()"
   ]
  },
  {
   "cell_type": "markdown",
   "id": "260861f2",
   "metadata": {},
   "source": [
    "## BIO 3 / Isothermality (BIO2/BIO7) (×100)"
   ]
  },
  {
   "cell_type": "code",
   "execution_count": null,
   "id": "2f3c19ee",
   "metadata": {},
   "outputs": [],
   "source": [
    "def bio_3_isothermality(year, lon, lat):\n",
    "    val = bio_2_mean_diurnal_range(year, lon, lat)/bio_7_temp_range(year, lon, lat)\n",
    "    return val"
   ]
  },
  {
   "cell_type": "markdown",
   "id": "18aa2a77",
   "metadata": {},
   "source": [
    "## BIO 4 / Temperature Seasonality (standard deviation ×100)"
   ]
  },
  {
   "cell_type": "code",
   "execution_count": null,
   "id": "666ecac5",
   "metadata": {},
   "outputs": [],
   "source": [
    "def bio_4_temperature_seasonality(year, lon, lat):\n",
    "    t_mean = retrieve_CRU_data('tmp', year, lon, lat)\n",
    "    return np.std(t_mean)"
   ]
  },
  {
   "cell_type": "markdown",
   "id": "8cb0e544",
   "metadata": {},
   "source": [
    "## BIO 5 / Max Temperature of Warmest Month"
   ]
  },
  {
   "cell_type": "code",
   "execution_count": null,
   "id": "ccee879a",
   "metadata": {},
   "outputs": [],
   "source": [
    "def bio_5_max_temp_of_max_month(year, lon, lat):\n",
    "    t_max = retrieve_CRU_data('tmx', year, lon, lat)\n",
    "    return np.max(t_max)"
   ]
  },
  {
   "cell_type": "markdown",
   "id": "6ca166ed",
   "metadata": {},
   "source": [
    "## BIO 6 / Min Temperature of Coldest Month"
   ]
  },
  {
   "cell_type": "code",
   "execution_count": null,
   "id": "7903991d",
   "metadata": {},
   "outputs": [],
   "source": [
    "def bio_6_min_temp_of_min_month(year, lon, lat):\n",
    "    t_min = retrieve_CRU_data('tmn', year, lon, lat)\n",
    "    return np.min(t_min)"
   ]
  },
  {
   "cell_type": "markdown",
   "id": "2ec448dd",
   "metadata": {},
   "source": [
    "## BIO 7 / Temperature Annual Range (BIO5-BIO6)"
   ]
  },
  {
   "cell_type": "code",
   "execution_count": null,
   "id": "a4f1e5bb",
   "metadata": {},
   "outputs": [],
   "source": [
    "def bio_7_temp_range(year, lon, lat):\n",
    "    rang_temp = bio_5_max_temp_of_max_month(year, lon, lat)-bio_6_min_temp_of_min_month(year, lon, lat)\n",
    "    return rang_temp"
   ]
  },
  {
   "cell_type": "markdown",
   "id": "4fbdf3bd",
   "metadata": {},
   "source": [
    "## BIO 8 / Mean Temperature of Wettest Quarter"
   ]
  },
  {
   "cell_type": "code",
   "execution_count": null,
   "id": "f2b07e64",
   "metadata": {},
   "outputs": [],
   "source": [
    "def bio_8_mean_temp_wet_q(year, lon, lat):\n",
    "    temp_wet = retrieve_CRU_data('wet', year, lon, lat)\n",
    "    li_temp = []\n",
    "    for i in range(0,11,3):\n",
    "        li_temp.append(temp_wet[i:i+3].sum())\n",
    "    max_index=li_temp.index(max(li_temp))\n",
    "    ll = [0,3,6,9]\n",
    "    st = ll[max_index]\n",
    "    return retrieve_CRU_data('tmp', year, lon, lat)[st:st+3].mean()"
   ]
  },
  {
   "cell_type": "markdown",
   "id": "97e3a49c",
   "metadata": {},
   "source": [
    "## BIO 9 / Mean Temperature of Driest Quarter"
   ]
  },
  {
   "cell_type": "code",
   "execution_count": null,
   "id": "4cdfe6bc",
   "metadata": {},
   "outputs": [],
   "source": [
    "def bio_9_mean_temp_dry_q(year, lon, lat):\n",
    "    temp_wet = retrieve_CRU_data('wet', year, lon, lat)\n",
    "    li_temp = []\n",
    "    for i in range(0,11,3):\n",
    "        li_temp.append(temp_wet[i:i+3].sum())\n",
    "    min_index=li_temp.index(min(li_temp))\n",
    "    ll = [0,3,6,9]\n",
    "    st = ll[min_index]\n",
    "    return retrieve_CRU_data('tmp', year, lon, lat)[st:st+3].mean()"
   ]
  },
  {
   "cell_type": "markdown",
   "id": "8c9e5496",
   "metadata": {},
   "source": [
    "## BIO10 / Mean Temperature of Warmest Quarter"
   ]
  },
  {
   "cell_type": "code",
   "execution_count": null,
   "id": "e6a96206",
   "metadata": {},
   "outputs": [],
   "source": [
    "def bio_10_mean_temp_warm_q(year, lon, lat):\n",
    "    temp_wet = retrieve_CRU_data('tmp', year, lon, lat)\n",
    "    li_temp = []\n",
    "    for i in range(0,11,3):\n",
    "        li_temp.append(temp_wet[i:i+3].sum())\n",
    "    max_index=li_temp.index(max(li_temp))\n",
    "    ll = [0,3,6,9]\n",
    "    st = ll[max_index]\n",
    "    return temp_wet[st:st+3].mean()"
   ]
  },
  {
   "cell_type": "markdown",
   "id": "ab4fcb62",
   "metadata": {},
   "source": [
    "## BIO 11 / Mean Temperature of Coldest Quarter"
   ]
  },
  {
   "cell_type": "code",
   "execution_count": null,
   "id": "a801019e",
   "metadata": {},
   "outputs": [],
   "source": [
    "def bio_11_mean_temp_cold_q(year, lon, lat):\n",
    "    temp_wet = retrieve_CRU_data('tmp', year, lon, lat)\n",
    "    li_temp = []\n",
    "    for i in range(0,11,3):\n",
    "        li_temp.append(temp_wet[i:i+3].sum())\n",
    "    min_index=li_temp.index(min(li_temp))\n",
    "    ll = [0,3,6,9]\n",
    "    st = ll[min_index]\n",
    "    return temp_wet[st:st+3].mean()"
   ]
  },
  {
   "cell_type": "markdown",
   "id": "997d606b",
   "metadata": {},
   "source": [
    "## BIO 12 / Annual Precipitation"
   ]
  },
  {
   "cell_type": "code",
   "execution_count": null,
   "id": "fd146bbb",
   "metadata": {},
   "outputs": [],
   "source": [
    "def bio_12_annual_prec(year, lon, lat):\n",
    "    return retrieve_CRU_data('pre', year, lon, lat).sum()"
   ]
  },
  {
   "cell_type": "markdown",
   "id": "11487dff",
   "metadata": {},
   "source": [
    "## BIO 13 / Precipitation of Wettest Month"
   ]
  },
  {
   "cell_type": "code",
   "execution_count": null,
   "id": "8cd8c786",
   "metadata": {},
   "outputs": [],
   "source": [
    "def bio_13_prec_wet_mo(year, lon, lat):\n",
    "    temp_wet = retrieve_CRU_data('wet', year, lon, lat)\n",
    "    max_index=np.argmax(temp_wet)\n",
    "    return retrieve_CRU_data('pre', year, lon, lat)[max_index]"
   ]
  },
  {
   "cell_type": "markdown",
   "id": "e6003d54",
   "metadata": {},
   "source": [
    "## BIO 14 / Precipitation of Driest Month"
   ]
  },
  {
   "cell_type": "code",
   "execution_count": null,
   "id": "f1a56732",
   "metadata": {},
   "outputs": [],
   "source": [
    "def bio_14_prec_dry_mo(year, lon, lat):\n",
    "    temp_wet = retrieve_CRU_data('wet', year, lon, lat)\n",
    "    min_index=np.argmin(temp_wet)\n",
    "    return retrieve_CRU_data('pre', year, lon, lat)[min_index]"
   ]
  },
  {
   "cell_type": "markdown",
   "id": "ccecc1d6",
   "metadata": {},
   "source": [
    "## BIO 15 / Precipitation Seasonality (Coefficient of Variation)"
   ]
  },
  {
   "cell_type": "code",
   "execution_count": null,
   "id": "af84f1a0",
   "metadata": {},
   "outputs": [],
   "source": [
    "def bio_15_prec_wet_mo(year, lon, lat):\n",
    "    temp_pre = retrieve_CRU_data('pre', year, lon, lat)\n",
    "    cv = lambda x: np.std(temp_pre, ddof=1) / np.mean(temp_pre) * 100\n",
    "    return cv(temp_pre)"
   ]
  },
  {
   "cell_type": "markdown",
   "id": "dd27f4a5",
   "metadata": {},
   "source": [
    "## BIO 16 / Precipitation of Wettest Quarter"
   ]
  },
  {
   "cell_type": "code",
   "execution_count": null,
   "id": "afe692e1",
   "metadata": {},
   "outputs": [],
   "source": [
    "def bio_16_pre_wet_q(year, lon, lat):\n",
    "    temp_wet = retrieve_CRU_data('wet', year, lon, lat)\n",
    "    li_temp = []\n",
    "    for i in range(0,11,3):\n",
    "        li_temp.append(temp_wet[i:i+3].sum())\n",
    "    max_index=li_temp.index(max(li_temp))\n",
    "    ll = [0,3,6,9]\n",
    "    st = ll[max_index]\n",
    "    return retrieve_CRU_data('pre', year, lon, lat)[st:st+3].mean()"
   ]
  },
  {
   "cell_type": "markdown",
   "id": "bc6c21e6",
   "metadata": {},
   "source": [
    "## BIO 17 / Precipitation of Driest Quarter"
   ]
  },
  {
   "cell_type": "code",
   "execution_count": null,
   "id": "138a3ef7",
   "metadata": {},
   "outputs": [],
   "source": [
    "def bio_17_pre_dry_q(year, lon, lat):\n",
    "    temp_wet = retrieve_CRU_data('wet', year, lon, lat)\n",
    "    li_temp = []\n",
    "    for i in range(0,11,3):\n",
    "        li_temp.append(temp_wet[i:i+3].sum())\n",
    "    min_index=li_temp.index(min(li_temp))\n",
    "    ll = [0,3,6,9]\n",
    "    st = ll[min_index]\n",
    "    return retrieve_CRU_data('pre', year, lon, lat)[st:st+3].mean()"
   ]
  },
  {
   "cell_type": "markdown",
   "id": "1ec246e3",
   "metadata": {},
   "source": [
    "## BIO 18 / Precipitation of Warmest Quarter..."
   ]
  },
  {
   "cell_type": "code",
   "execution_count": null,
   "id": "3184061e",
   "metadata": {},
   "outputs": [],
   "source": [
    "def bio_18_pre_dry_q(year, lon, lat):\n",
    "    temp_wet = retrieve_CRU_data('tmp', year, lon, lat)\n",
    "    li_temp = []\n",
    "    for i in range(0,11,3):\n",
    "        li_temp.append(temp_wet[i:i+3].sum())\n",
    "    max_index=li_temp.index(max(li_temp))\n",
    "    ll = [0,3,6,9]\n",
    "    st = ll[max_index]\n",
    "    return retrieve_CRU_data('pre', year, lon, lat)[st:st+3].mean()"
   ]
  },
  {
   "cell_type": "markdown",
   "id": "38f3b4a2",
   "metadata": {},
   "source": [
    "## BIO19 / Precipitation of Coldest Quarter"
   ]
  },
  {
   "cell_type": "code",
   "execution_count": null,
   "id": "8c04e7fc",
   "metadata": {},
   "outputs": [],
   "source": [
    "def bio_19_pre_cld_q(year, lon, lat):\n",
    "    temp_wet = retrieve_CRU_data('tmp', year, lon, lat)\n",
    "    li_temp = []\n",
    "    for i in range(0,11,3):\n",
    "        li_temp.append(temp_wet[i:i+3].sum())\n",
    "    min_index=li_temp.index(min(li_temp))\n",
    "    ll = [0,3,6,9]\n",
    "    st = ll[min_index]\n",
    "    return retrieve_CRU_data('pre', year, lon, lat)[st:st+3].mean()"
   ]
  },
  {
   "cell_type": "markdown",
   "id": "3e891c3f",
   "metadata": {},
   "source": [
    "# Image scraping"
   ]
  },
  {
   "cell_type": "code",
   "execution_count": null,
   "id": "09d65004",
   "metadata": {},
   "outputs": [],
   "source": [
    "def get_urls_to_scrap():\n",
    "    ## get plant - multimedia data\n",
    "    df_m = pd.read_csv('/Users/davidschildberger/code/dadavie/planetary_garden/raw_data/multimedia.txt', sep='\\t', index_col='gbifID')\n",
    "    df_m = df_m[['identifier']]\n",
    "    ## get plant - info\n",
    "    df_i = pd.read_csv(\"/Users/davidschildberger/code/dadavie/planetary_garden/raw_data/data_inkl_bioclim_grs.csv\")\n",
    "    df_i = df.set_index('gbifID')\n",
    "    media_df = df_i.merge(df_m,  left_index=True, right_index=True)"
   ]
  },
  {
   "cell_type": "code",
   "execution_count": null,
   "id": "a398b749",
   "metadata": {},
   "outputs": [],
   "source": [
    "def img_scraping():\n",
    "    ## foldername for the thumbnails\n",
    "    fold_n_thumb = '/Users/davidschildberger/code/dadavie/planetary_garden/raw_data/thumbnails/'\n",
    "    fi_n = os.listdir(fold_n_thumb)\n",
    "    files = [os.path.splitext(filename)[0] for filename in os.listdir(fold_n_thumb)]\n",
    "    #fi_n.remove('.DS_Store') ## in case you have a mac - this might be necessary\n",
    "    \n",
    "    ## read out the already existing files in the folder...\n",
    "    media_df_nodupl = media_df[~media_df.index.duplicated(keep='first')]\n",
    "    list_indexes = media_df_nodupl.index\n",
    "    diff_li = list(set(list_indexes) - set(files))\n",
    "    \n",
    "    ## shuffle the list - this might be necessary since requests at the same api in a row might deny access\n",
    "    random.shuffle(diff_li)\n",
    "\n",
    "    ## request and store images in \"images\" folder\n",
    "    for i in range(0, 10000):\n",
    "        try:\n",
    "            r = requests.get(media_df_nodupl.loc[int(diff_li[i]),'identifier'], stream=True) #Get request on full_url\n",
    "            with open(f\"/Users/davidschildberger/code/dadavie/planetary_garden/raw_data/images/{int(diff_li[i])}.jpg\", 'wb') as f: \n",
    "                r.raw.decode_content = True\n",
    "                shutil.copyfileobj(r.raw, f)\n",
    "        except:\n",
    "            continue\n",
    "\n",
    "        time.sleep(random.uniform(0.5, 1))"
   ]
  },
  {
   "cell_type": "code",
   "execution_count": null,
   "id": "a836d1ea",
   "metadata": {},
   "outputs": [],
   "source": [
    "def img_croping_and_scaling():\n",
    "    ## get images from images folde\n",
    "    fold_n_im = '/Users/davidschildberger/code/dadavie/planetary_garden/raw_data/images/'\n",
    "    fi_n = os.listdir(fold_n_im)\n",
    "    fi_n.remove('.DS_Store')\n",
    "\n",
    "    ## crop and scale images to thumnails folder\n",
    "    for i in range(len(fi_n)):\n",
    "        try:\n",
    "            image = Image.open(f\"/Users/davidschildberger/code/dadavie/planetary_garden/raw_data/images/{fi_n[i]}\")\n",
    "            image = crop_max_square(image).resize((300, 300))\n",
    "            image.save(f\"/Users/davidschildberger/code/dadavie/planetary_garden/raw_data/thumbnails/{fi_n[i]}\") \n",
    "        except:\n",
    "            continue"
   ]
  },
  {
   "cell_type": "code",
   "execution_count": null,
   "id": "51d400d9",
   "metadata": {},
   "outputs": [],
   "source": [
    "def crop_max_square(pil_img):\n",
    "    return crop_center(pil_img, min(pil_img.size), min(pil_img.size))"
   ]
  },
  {
   "cell_type": "code",
   "execution_count": null,
   "id": "e339a72d",
   "metadata": {},
   "outputs": [],
   "source": [
    "def crop_center(pil_img, crop_width, crop_height):\n",
    "    img_width, img_height = pil_img.size\n",
    "    return pil_img.crop(((img_width - crop_width) // 2,\n",
    "                         (img_height - crop_height) // 2,\n",
    "                         (img_width + crop_width) // 2,\n",
    "                         (img_height + crop_height) // 2))"
   ]
  },
  {
   "cell_type": "code",
   "execution_count": null,
   "id": "347a099e",
   "metadata": {},
   "outputs": [],
   "source": []
  }
 ],
 "metadata": {
  "kernelspec": {
   "display_name": "Python 3 (ipykernel)",
   "language": "python",
   "name": "python3"
  },
  "language_info": {
   "codemirror_mode": {
    "name": "ipython",
    "version": 3
   },
   "file_extension": ".py",
   "mimetype": "text/x-python",
   "name": "python",
   "nbconvert_exporter": "python",
   "pygments_lexer": "ipython3",
   "version": "3.10.6"
  },
  "toc": {
   "base_numbering": 1,
   "nav_menu": {},
   "number_sections": true,
   "sideBar": true,
   "skip_h1_title": false,
   "title_cell": "Table of Contents",
   "title_sidebar": "Contents",
   "toc_cell": false,
   "toc_position": {},
   "toc_section_display": true,
   "toc_window_display": false
  }
 },
 "nbformat": 4,
 "nbformat_minor": 5
}
