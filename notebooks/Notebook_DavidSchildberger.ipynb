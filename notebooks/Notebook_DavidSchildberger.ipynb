{
 "cells": [
  {
   "cell_type": "markdown",
   "id": "3e9415b8",
   "metadata": {},
   "source": [
    "# Data Retrieval - Climate data"
   ]
  },
  {
   "cell_type": "markdown",
   "id": "deafd71b",
   "metadata": {},
   "source": [
    "## WorldClim Data"
   ]
  },
  {
   "cell_type": "code",
   "execution_count": 6,
   "id": "00af57a1",
   "metadata": {},
   "outputs": [],
   "source": [
    "!export LATLONDATA=$Users/davidschildberger/03_LeWagon_Datasets/WorldClim/wc2_tavg_10m"
   ]
  },
  {
   "cell_type": "code",
   "execution_count": 10,
   "id": "99d183c2",
   "metadata": {
    "collapsed": true
   },
   "outputs": [
    {
     "name": "stdout",
     "output_type": "stream",
     "text": [
      "Requirement already satisfied: xarray in /Users/davidschildberger/.pyenv/versions/3.10.6/envs/planetary_garden/lib/python3.10/site-packages (2022.12.0)\n",
      "Requirement already satisfied: pandas>=1.3 in /Users/davidschildberger/.pyenv/versions/3.10.6/envs/planetary_garden/lib/python3.10/site-packages (from xarray) (1.5.2)\n",
      "Requirement already satisfied: packaging>=21.3 in /Users/davidschildberger/.pyenv/versions/3.10.6/envs/planetary_garden/lib/python3.10/site-packages (from xarray) (21.3)\n",
      "Requirement already satisfied: numpy>=1.20 in /Users/davidschildberger/.pyenv/versions/3.10.6/envs/planetary_garden/lib/python3.10/site-packages (from xarray) (1.23.5)\n",
      "Requirement already satisfied: pyparsing!=3.0.5,>=2.0.2 in /Users/davidschildberger/.pyenv/versions/3.10.6/envs/planetary_garden/lib/python3.10/site-packages (from packaging>=21.3->xarray) (3.0.9)\n",
      "Requirement already satisfied: pytz>=2020.1 in /Users/davidschildberger/.pyenv/versions/3.10.6/envs/planetary_garden/lib/python3.10/site-packages (from pandas>=1.3->xarray) (2022.6)\n",
      "Requirement already satisfied: python-dateutil>=2.8.1 in /Users/davidschildberger/.pyenv/versions/3.10.6/envs/planetary_garden/lib/python3.10/site-packages (from pandas>=1.3->xarray) (2.8.2)\n",
      "Requirement already satisfied: six>=1.5 in /Users/davidschildberger/.pyenv/versions/3.10.6/envs/planetary_garden/lib/python3.10/site-packages (from python-dateutil>=2.8.1->pandas>=1.3->xarray) (1.16.0)\n",
      "Collecting rasterio\n",
      "  Downloading rasterio-1.3.4-cp310-cp310-macosx_10_15_x86_64.whl (30.9 MB)\n",
      "\u001b[2K     \u001b[90m━━━━━━━━━━━━━━━━━━━━━━━━━━━━━━━━━━━━━━━━\u001b[0m \u001b[32m30.9/30.9 MB\u001b[0m \u001b[31m4.9 MB/s\u001b[0m eta \u001b[36m0:00:00\u001b[0m00:01\u001b[0m00:01\u001b[0m\n",
      "\u001b[?25hCollecting affine\n",
      "  Downloading affine-2.3.1-py2.py3-none-any.whl (16 kB)\n",
      "Collecting click>=4.0\n",
      "  Using cached click-8.1.3-py3-none-any.whl (96 kB)\n",
      "Collecting click-plugins\n",
      "  Downloading click_plugins-1.1.1-py2.py3-none-any.whl (7.5 kB)\n",
      "Collecting cligj>=0.5\n",
      "  Downloading cligj-0.7.2-py3-none-any.whl (7.1 kB)\n",
      "Requirement already satisfied: attrs in /Users/davidschildberger/.pyenv/versions/3.10.6/envs/planetary_garden/lib/python3.10/site-packages (from rasterio) (22.1.0)\n",
      "Requirement already satisfied: certifi in /Users/davidschildberger/.pyenv/versions/3.10.6/envs/planetary_garden/lib/python3.10/site-packages (from rasterio) (2022.9.24)\n",
      "Requirement already satisfied: setuptools in /Users/davidschildberger/.pyenv/versions/3.10.6/envs/planetary_garden/lib/python3.10/site-packages (from rasterio) (65.5.1)\n",
      "Requirement already satisfied: numpy>=1.18 in /Users/davidschildberger/.pyenv/versions/3.10.6/envs/planetary_garden/lib/python3.10/site-packages (from rasterio) (1.23.5)\n",
      "Collecting snuggs>=1.4.1\n",
      "  Downloading snuggs-1.4.7-py3-none-any.whl (5.4 kB)\n",
      "Requirement already satisfied: pyparsing>=2.1.6 in /Users/davidschildberger/.pyenv/versions/3.10.6/envs/planetary_garden/lib/python3.10/site-packages (from snuggs>=1.4.1->rasterio) (3.0.9)\n",
      "Installing collected packages: affine, snuggs, click, cligj, click-plugins, rasterio\n",
      "Successfully installed affine-2.3.1 click-8.1.3 click-plugins-1.1.1 cligj-0.7.2 rasterio-1.3.4 snuggs-1.4.7\n"
     ]
    }
   ],
   "source": [
    "!pip install xarray\n",
    "!pip install rasterio"
   ]
  },
  {
   "cell_type": "code",
   "execution_count": 3,
   "id": "dd0afa69",
   "metadata": {},
   "outputs": [],
   "source": [
    "from latlon_utils import get_climate"
   ]
  },
  {
   "cell_type": "code",
   "execution_count": 275,
   "id": "a7860466",
   "metadata": {},
   "outputs": [],
   "source": [
    "import pandas as pd\n",
    "import numpy as np\n",
    "import matplotlib.pyplot as plt\n",
    "import rasterio"
   ]
  },
  {
   "cell_type": "code",
   "execution_count": 11,
   "id": "2e7af552",
   "metadata": {},
   "outputs": [
    {
     "name": "stdout",
     "output_type": "stream",
     "text": [
      "Downloading http://biogeo.ucdavis.edu/data/worldclim/v2.1/base/wc2.1_10m_tavg.zip\n",
      "Extracting /var/folders/jj/6lhmrlt15xs297nzzcs7734w0000gn/T/worldclim_psugasm7/wc2.1_10m_tavg.zip\n",
      "Saving as netcdf file to /Users/davidschildberger/.local/share/latlon_utils/tavg_10m.nc\n"
     ]
    },
    {
     "name": "stderr",
     "output_type": "stream",
     "text": [
      "/Users/davidschildberger/.pyenv/versions/3.10.6/envs/planetary_garden/lib/python3.10/site-packages/netCDF4/utils.py:76: RuntimeWarning: overflow encountered in multiply\n",
      "  datout = np.around(scale*data)/scale\n"
     ]
    },
    {
     "name": "stdout",
     "output_type": "stream",
     "text": [
      "Downloading http://biogeo.ucdavis.edu/data/worldclim/v2.1/base/wc2.1_10m_prec.zip\n",
      "Extracting /var/folders/jj/6lhmrlt15xs297nzzcs7734w0000gn/T/worldclim_2bwagfw6/wc2.1_10m_prec.zip\n",
      "Saving as netcdf file to /Users/davidschildberger/.local/share/latlon_utils/prec_10m.nc\n"
     ]
    },
    {
     "data": {
      "text/plain": [
       "tavg  jan     0.053223\n",
       "      feb     0.958252\n",
       "      mar     4.760742\n",
       "      apr     8.333008\n",
       "      mai    13.220520\n",
       "      jun    16.089722\n",
       "      jul    17.987976\n",
       "      aug    17.847229\n",
       "      sep    13.790222\n",
       "      oct     8.807007\n",
       "      nov     4.054260\n",
       "      dec     1.496521\n",
       "      djf     0.835999\n",
       "      mam     8.771423\n",
       "      jja    17.308309\n",
       "      son     8.883830\n",
       "      ann     8.949890\n",
       "prec  jan    48.000000\n",
       "      feb    42.000000\n",
       "      mar    44.000000\n",
       "      apr    44.000000\n",
       "      mai    56.000000\n",
       "      jun    68.000000\n",
       "      jul    65.000000\n",
       "      aug    52.000000\n",
       "      sep    47.000000\n",
       "      oct    52.000000\n",
       "      nov    52.000000\n",
       "      dec    59.000000\n",
       "      djf    49.666667\n",
       "      mam    48.000000\n",
       "      jja    61.666667\n",
       "      son    50.333333\n",
       "      ann    52.416667\n",
       "Name: (50, 10), dtype: float64"
      ]
     },
     "execution_count": 11,
     "metadata": {},
     "output_type": "execute_result"
    }
   ],
   "source": [
    "get_climate(50, 10)"
   ]
  },
  {
   "cell_type": "code",
   "execution_count": 277,
   "id": "beb2a79e",
   "metadata": {},
   "outputs": [],
   "source": [
    "pathf = '/Users/davidschildberger/03_LeWagon_Datasets/WorldClim/wc2_bio/wc2.1_10m_bio_1.tif'"
   ]
  },
  {
   "cell_type": "code",
   "execution_count": 279,
   "id": "53579981",
   "metadata": {},
   "outputs": [],
   "source": [
    "dataset = rasterio.open(pathf)"
   ]
  },
  {
   "cell_type": "code",
   "execution_count": 280,
   "id": "94009343",
   "metadata": {},
   "outputs": [
    {
     "data": {
      "text/plain": [
       "2160"
      ]
     },
     "execution_count": 280,
     "metadata": {},
     "output_type": "execute_result"
    }
   ],
   "source": [
    "dataset.width"
   ]
  },
  {
   "cell_type": "code",
   "execution_count": 281,
   "id": "ecfd2138",
   "metadata": {},
   "outputs": [
    {
     "data": {
      "text/plain": [
       "1080"
      ]
     },
     "execution_count": 281,
     "metadata": {},
     "output_type": "execute_result"
    }
   ],
   "source": [
    "dataset.height"
   ]
  },
  {
   "cell_type": "code",
   "execution_count": 282,
   "id": "f3dc9aff",
   "metadata": {},
   "outputs": [
    {
     "data": {
      "text/plain": [
       "BoundingBox(left=-180.0, bottom=-90.0, right=180.0, top=90.0)"
      ]
     },
     "execution_count": 282,
     "metadata": {},
     "output_type": "execute_result"
    }
   ],
   "source": [
    "dataset.bounds"
   ]
  },
  {
   "cell_type": "code",
   "execution_count": 290,
   "id": "1eeed1c2",
   "metadata": {},
   "outputs": [
    {
     "data": {
      "text/plain": [
       "(1080, 2160)"
      ]
     },
     "execution_count": 290,
     "metadata": {},
     "output_type": "execute_result"
    }
   ],
   "source": [
    "dataset.read(1).shape"
   ]
  },
  {
   "cell_type": "markdown",
   "id": "c1983530",
   "metadata": {},
   "source": [
    "## CRU Data"
   ]
  },
  {
   "cell_type": "code",
   "execution_count": 13,
   "id": "f7c5176d",
   "metadata": {},
   "outputs": [],
   "source": [
    "import gzip\n",
    "import os\n",
    "import shutil\n",
    "import tempfile\n",
    "import netCDF4\n",
    "from netCDF4 import Dataset\n",
    "import numpy as np\n",
    "import pandas as pd"
   ]
  },
  {
   "cell_type": "code",
   "execution_count": 194,
   "id": "691d7a20",
   "metadata": {},
   "outputs": [],
   "source": [
    "lon = 16.363449\n",
    "lat = 48.210033"
   ]
  },
  {
   "cell_type": "code",
   "execution_count": null,
   "id": "3f69bc6e",
   "metadata": {},
   "outputs": [],
   "source": [
    "val_nam_list = ['cld', 'dtr', 'frs', 'pet', 'pre', 'tmn', 'tmp', 'tmx', 'vap', 'wet']"
   ]
  },
  {
   "cell_type": "code",
   "execution_count": 230,
   "id": "d6984c43",
   "metadata": {},
   "outputs": [],
   "source": [
    "def get_filename(feat_name):\n",
    "    fold_n = '/Users/davidschildberger/03_LeWagon_Datasets/CRU_raw_data/'\n",
    "    fi_n = os.listdir(fold_n)\n",
    "    fi_n.remove('.DS_Store')\n",
    "    for i in fi_n: \n",
    "        if(feat_name in i) : \n",
    "            return i"
   ]
  },
  {
   "cell_type": "code",
   "execution_count": null,
   "id": "e1aec85b",
   "metadata": {},
   "outputs": [],
   "source": [
    "def open_netcdf(fname):\n",
    "    with gzip.open((fold_n+fname), 'rb') as f:\n",
    "        tmp = tempfile.NamedTemporaryFile(delete=False)\n",
    "        shutil.copyfileobj(f, tmp)\n",
    "\n",
    "        f.close()\n",
    "        tmp.close()\n",
    "        \n",
    "        data = netCDF4.Dataset(tmp.name)\n",
    "        os.unlink(tmp.name)\n",
    "    return data"
   ]
  },
  {
   "cell_type": "code",
   "execution_count": 259,
   "id": "ceb8a6a8",
   "metadata": {},
   "outputs": [],
   "source": [
    "def retrieve_CRU_data(datatype, year, lon, lat):\n",
    "    \n",
    "    data = open_netcdf(get_filename(datatype)) # 0 = 'cld'\n",
    "    \n",
    "    year_in_month = (year-1901)*12\n",
    "    \n",
    "    c_lat = int(round(np.interp(lat, [-90, 90], [0, 360])))  # check order of values here\n",
    "    c_lon = int(round(np.interp(lon, [-180, 180], [0, 720])))\n",
    "    \n",
    "    temp_dat_date = data.variables[datatype][year_in_month:year_in_month+12,c_lat,c_lon].data\n",
    "    return temp_dat_date"
   ]
  },
  {
   "cell_type": "code",
   "execution_count": 262,
   "id": "b77bb10b",
   "metadata": {},
   "outputs": [
    {
     "data": {
      "text/plain": [
       "(array([76.700005, 73.200005, 72.8     , 67.9     , 54.600002, 67.5     ,\n",
       "        67.8     , 53.3     , 59.8     , 68.700005, 75.8     , 72.3     ],\n",
       "       dtype=float32),\n",
       " 67.53333)"
      ]
     },
     "execution_count": 262,
     "metadata": {},
     "output_type": "execute_result"
    }
   ],
   "source": [
    "sp_dat = retrieve_CRU_data('cld', 1980, lon, lat)\n",
    "sp_dat, sp_dat.mean()"
   ]
  },
  {
   "cell_type": "code",
   "execution_count": 270,
   "id": "f3728fa1",
   "metadata": {},
   "outputs": [],
   "source": [
    "def retrieve_all_features_mean_CRU_data(year, lon, lat):\n",
    "    val_nam_list = ['cld', 'dtr', 'frs', 'pet', 'pre', 'tmn', 'tmp', 'tmx', 'vap', 'wet']\n",
    "    mean_val = []\n",
    "    for val in val_nam_list:\n",
    "        mean_val.append(retrieve_CRU_data(val, year, lon, lat).mean())\n",
    "    return dict(zip(val_nam_list, mean_val))"
   ]
  },
  {
   "cell_type": "code",
   "execution_count": 272,
   "id": "9022cde3",
   "metadata": {},
   "outputs": [
    {
     "data": {
      "text/plain": [
       "{'cld': 67.53333,\n",
       " 'dtr': 7.6083336,\n",
       " 'frs': 9.624166,\n",
       " 'pet': 1.9583334,\n",
       " 'pre': 49.899998,\n",
       " 'tmn': 5.066667,\n",
       " 'tmp': 8.841666,\n",
       " 'tmx': 12.675,\n",
       " 'vap': 9.216666,\n",
       " 'wet': 12.561666}"
      ]
     },
     "execution_count": 272,
     "metadata": {},
     "output_type": "execute_result"
    }
   ],
   "source": [
    "retrieve_all_features_mean_CRU_data(1980, lon, lat)"
   ]
  },
  {
   "cell_type": "code",
   "execution_count": 295,
   "id": "fd117414",
   "metadata": {},
   "outputs": [],
   "source": [
    "## BIO1 = Annual Mean Temperature\n",
    "def bio_1_annual_mean_temp(year, lon, lat):\n",
    "    temp_mean = 'tmp'\n",
    "    return retrieve_CRU_data(temp_mean, year, lon, lat).mean()"
   ]
  },
  {
   "cell_type": "code",
   "execution_count": 296,
   "id": "fa1af0a3",
   "metadata": {},
   "outputs": [
    {
     "data": {
      "text/plain": [
       "8.841666"
      ]
     },
     "execution_count": 296,
     "metadata": {},
     "output_type": "execute_result"
    }
   ],
   "source": [
    "bio_1_annual_mean_temp(1980, lon, lat)"
   ]
  },
  {
   "cell_type": "code",
   "execution_count": 298,
   "id": "489bbbe8",
   "metadata": {},
   "outputs": [],
   "source": [
    "## Mean Diurnal Range (Mean of monthly (max temp - min temp))\n",
    "def bio_2_mean_diurnal_range(year, lon, lat):\n",
    "    t_min = retrieve_CRU_data('tmn', year, lon, lat)\n",
    "    t_max = retrieve_CRU_data('tmx', year, lon, lat)\n",
    "    diurnal = t_max-t_min\n",
    "    return diurnal.mean()"
   ]
  },
  {
   "cell_type": "code",
   "execution_count": 299,
   "id": "6d4d68d9",
   "metadata": {},
   "outputs": [
    {
     "data": {
      "text/plain": [
       "7.6083336"
      ]
     },
     "execution_count": 299,
     "metadata": {},
     "output_type": "execute_result"
    }
   ],
   "source": [
    "bio_2_mean_diurnal_range(1980, lon, lat)"
   ]
  },
  {
   "cell_type": "code",
   "execution_count": null,
   "id": "028b91e7",
   "metadata": {},
   "outputs": [],
   "source": [
    "## BIO3 = Isothermality (BIO2/BIO7) (×100)"
   ]
  },
  {
   "cell_type": "code",
   "execution_count": 311,
   "id": "f0767401",
   "metadata": {},
   "outputs": [],
   "source": [
    "## BIO4 = Temperature Seasonality (standard deviation ×100)\n",
    "def bio_4_temperature_seasonality(year, lon, lat):\n",
    "    t_mean = retrieve_CRU_data('tmp', year, lon, lat)\n",
    "    return np.std(t_mean)"
   ]
  },
  {
   "cell_type": "code",
   "execution_count": 312,
   "id": "0351c42e",
   "metadata": {},
   "outputs": [
    {
     "data": {
      "text/plain": [
       "7.3900223"
      ]
     },
     "execution_count": 312,
     "metadata": {},
     "output_type": "execute_result"
    }
   ],
   "source": [
    "bio_4_temperature_seasonality(1980, lon, lat)"
   ]
  },
  {
   "cell_type": "code",
   "execution_count": 314,
   "id": "36261bd1",
   "metadata": {},
   "outputs": [],
   "source": [
    "## BIO5 = Max Temperature of Warmest Month\n",
    "def bio_5_max_temp_of_max_month(year, lon, lat):\n",
    "    t_max = retrieve_CRU_data('tmx', year, lon, lat)\n",
    "    return np.max(t_max)"
   ]
  },
  {
   "cell_type": "code",
   "execution_count": 316,
   "id": "06461afe",
   "metadata": {},
   "outputs": [
    {
     "data": {
      "text/plain": [
       "24.9"
      ]
     },
     "execution_count": 316,
     "metadata": {},
     "output_type": "execute_result"
    }
   ],
   "source": [
    "bio_5_max_temp_of_max_month(1980, lon, lat)"
   ]
  },
  {
   "cell_type": "code",
   "execution_count": 328,
   "id": "a0807058",
   "metadata": {},
   "outputs": [],
   "source": [
    "## BIO6 = Min Temperature of Coldest Month\n",
    "def bio_6_min_temp_of_min_month(year, lon, lat):\n",
    "    t_min = retrieve_CRU_data('tmn', year, lon, lat)\n",
    "    return np.min(t_min)"
   ]
  },
  {
   "cell_type": "code",
   "execution_count": 329,
   "id": "7850977b",
   "metadata": {},
   "outputs": [
    {
     "data": {
      "text/plain": [
       "-5.7000003"
      ]
     },
     "execution_count": 329,
     "metadata": {},
     "output_type": "execute_result"
    }
   ],
   "source": [
    "bio_6_min_temp_of_min_month(1980, lon, lat)"
   ]
  },
  {
   "cell_type": "code",
   "execution_count": 330,
   "id": "52331a50",
   "metadata": {},
   "outputs": [],
   "source": [
    "## BIO7 = Temperature Annual Range (BIO5-BIO6)\n",
    "def bio_7_temp_range(year, lon, lat):\n",
    "    rang_temp = bio_5_max_temp_of_max_month(year, lon, lat)-bio_6_min_temp_of_min_month(year, lon, lat)\n",
    "    return rang_temp"
   ]
  },
  {
   "cell_type": "code",
   "execution_count": 331,
   "id": "bb1c805a",
   "metadata": {},
   "outputs": [
    {
     "data": {
      "text/plain": [
       "30.6"
      ]
     },
     "execution_count": 331,
     "metadata": {},
     "output_type": "execute_result"
    }
   ],
   "source": [
    "bio_7_temp_range(1980, lon, lat)"
   ]
  },
  {
   "cell_type": "code",
   "execution_count": 351,
   "id": "b691f282",
   "metadata": {},
   "outputs": [],
   "source": [
    "## BIO8 = Mean Temperature of Wettest Quarter\n",
    "def bio_8_mean_temp_wet_q(year, lon, lat):\n",
    "    temp_wet = retrieve_CRU_data('wet', year, lon, lat)\n",
    "    li_temp = []\n",
    "    for i in range(0,11,3):\n",
    "        li_temp.append(temp_wet[i:i+3].sum())\n",
    "    max_index=li_temp.index(max(li_temp))\n",
    "    ll = [0,3,6,9]\n",
    "    st = ll[max_index]\n",
    "    return retrieve_CRU_data('tmp', year, lon, lat)[st:st+3].mean()"
   ]
  },
  {
   "cell_type": "code",
   "execution_count": 352,
   "id": "bccddae3",
   "metadata": {},
   "outputs": [
    {
     "data": {
      "text/plain": [
       "4.1666665"
      ]
     },
     "execution_count": 352,
     "metadata": {},
     "output_type": "execute_result"
    }
   ],
   "source": [
    "bio_8_mean_temp_wet_q(1980, lon, lat)"
   ]
  },
  {
   "cell_type": "code",
   "execution_count": 353,
   "id": "178936b5",
   "metadata": {},
   "outputs": [],
   "source": [
    "## BIO9 = Mean Temperature of Driest Quarter\n",
    "def bio_9_mean_temp_dry_q(year, lon, lat):\n",
    "    temp_wet = retrieve_CRU_data('wet', year, lon, lat)\n",
    "    li_temp = []\n",
    "    for i in range(0,11,3):\n",
    "        li_temp.append(temp_wet[i:i+3].sum())\n",
    "    min_index=li_temp.index(min(li_temp))\n",
    "    ll = [0,3,6,9]\n",
    "    st = ll[min_index]\n",
    "    return retrieve_CRU_data('tmp', year, lon, lat)[st:st+3].mean()"
   ]
  },
  {
   "cell_type": "code",
   "execution_count": 354,
   "id": "9320af68",
   "metadata": {},
   "outputs": [
    {
     "data": {
      "text/plain": [
       "17.7"
      ]
     },
     "execution_count": 354,
     "metadata": {},
     "output_type": "execute_result"
    }
   ],
   "source": [
    "bio_9_mean_temp_dry_q(1980, lon, lat)"
   ]
  },
  {
   "cell_type": "code",
   "execution_count": 340,
   "id": "880e5441",
   "metadata": {},
   "outputs": [],
   "source": [
    "## BIO10 = Mean Temperature of Warmest Quarter\n",
    "def bio_10_mean_temp_warm_q(year, lon, lat):\n",
    "    temp_wet = retrieve_CRU_data('tmp', year, lon, lat)\n",
    "    li_temp = []\n",
    "    for i in range(0,11,3):\n",
    "        li_temp.append(temp_wet[i:i+3].sum())\n",
    "    max_index=li_temp.index(max(li_temp))\n",
    "    ll = [0,3,6,9]\n",
    "    st = ll[max_index]\n",
    "    return temp_wet[st:st+3].mean()"
   ]
  },
  {
   "cell_type": "code",
   "execution_count": 341,
   "id": "a6bfd4c4",
   "metadata": {},
   "outputs": [
    {
     "data": {
      "text/plain": [
       "17.7"
      ]
     },
     "execution_count": 341,
     "metadata": {},
     "output_type": "execute_result"
    }
   ],
   "source": [
    "bio_10_mean_temp_warm_q(1980, lon, lat)"
   ]
  },
  {
   "cell_type": "code",
   "execution_count": 343,
   "id": "3a66ef07",
   "metadata": {},
   "outputs": [],
   "source": [
    "## BIO11 = Mean Temperature of Coldest Quarter\n",
    "def bio_11_mean_temp_cold_q(year, lon, lat):\n",
    "    temp_wet = retrieve_CRU_data('tmp', year, lon, lat)\n",
    "    li_temp = []\n",
    "    for i in range(0,11,3):\n",
    "        li_temp.append(temp_wet[i:i+3].sum())\n",
    "    min_index=li_temp.index(min(li_temp))\n",
    "    ll = [0,3,6,9]\n",
    "    st = ll[min_index]\n",
    "    return temp_wet[st:st+3].mean()"
   ]
  },
  {
   "cell_type": "code",
   "execution_count": 344,
   "id": "2b95de91",
   "metadata": {},
   "outputs": [
    {
     "data": {
      "text/plain": [
       "1.1"
      ]
     },
     "execution_count": 344,
     "metadata": {},
     "output_type": "execute_result"
    }
   ],
   "source": [
    "bio_11_mean_temp_cold_q(1980, lon, lat)"
   ]
  },
  {
   "cell_type": "code",
   "execution_count": 349,
   "id": "74fced67",
   "metadata": {},
   "outputs": [],
   "source": [
    "## BIO12 = Annual Precipitation\n",
    "def bio_12_annual_prec(year, lon, lat):\n",
    "    return retrieve_CRU_data('pre', year, lon, lat).sum()"
   ]
  },
  {
   "cell_type": "code",
   "execution_count": 350,
   "id": "03837e01",
   "metadata": {},
   "outputs": [
    {
     "data": {
      "text/plain": [
       "598.8"
      ]
     },
     "execution_count": 350,
     "metadata": {},
     "output_type": "execute_result"
    }
   ],
   "source": [
    "bio_12_annual_prec(1980, lon, lat)"
   ]
  },
  {
   "cell_type": "code",
   "execution_count": 361,
   "id": "c18a3409",
   "metadata": {},
   "outputs": [],
   "source": [
    "## BIO13 = Precipitation of Wettest Month\n",
    "def bio_13_prec_wet_mo(year, lon, lat):\n",
    "    temp_wet = retrieve_CRU_data('wet', year, lon, lat)\n",
    "    max_index=np.argmax(temp_wet)\n",
    "    return retrieve_CRU_data('pre', year, lon, lat)[max_index]"
   ]
  },
  {
   "cell_type": "code",
   "execution_count": 362,
   "id": "40e4764b",
   "metadata": {},
   "outputs": [
    {
     "data": {
      "text/plain": [
       "75.1"
      ]
     },
     "execution_count": 362,
     "metadata": {},
     "output_type": "execute_result"
    }
   ],
   "source": [
    "bio_13_prec_wet_mo(1980, lon, lat)"
   ]
  },
  {
   "cell_type": "code",
   "execution_count": 363,
   "id": "ce264c76",
   "metadata": {},
   "outputs": [],
   "source": [
    "## BIO14 = Precipitation of Driest Month\n",
    "def bio_14_prec_dry_mo(year, lon, lat):\n",
    "    temp_wet = retrieve_CRU_data('wet', year, lon, lat)\n",
    "    min_index=np.argmin(temp_wet)\n",
    "    return retrieve_CRU_data('pre', year, lon, lat)[min_index]"
   ]
  },
  {
   "cell_type": "code",
   "execution_count": 364,
   "id": "76503262",
   "metadata": {},
   "outputs": [
    {
     "data": {
      "text/plain": [
       "34.7"
      ]
     },
     "execution_count": 364,
     "metadata": {},
     "output_type": "execute_result"
    }
   ],
   "source": [
    "bio_14_prec_dry_mo(1980, lon, lat)"
   ]
  },
  {
   "cell_type": "code",
   "execution_count": 375,
   "id": "9638cd29",
   "metadata": {},
   "outputs": [],
   "source": [
    "## BIO15 = Precipitation Seasonality (Coefficient of Variation)\n",
    "def bio_15_prec_wet_mo(year, lon, lat):\n",
    "    temp_pre = retrieve_CRU_data('pre', year, lon, lat)\n",
    "    cv = lambda x: np.std(temp_pre, ddof=1) / np.mean(temp_pre) * 100\n",
    "    return cv(temp_pre)"
   ]
  },
  {
   "cell_type": "code",
   "execution_count": 376,
   "id": "37ac838a",
   "metadata": {},
   "outputs": [
    {
     "data": {
      "text/plain": [
       "46.613526344299316"
      ]
     },
     "execution_count": 376,
     "metadata": {},
     "output_type": "execute_result"
    }
   ],
   "source": [
    "bio_15_prec_wet_mo(1980, lon, lat)"
   ]
  },
  {
   "cell_type": "code",
   "execution_count": 377,
   "id": "afe537ad",
   "metadata": {},
   "outputs": [],
   "source": [
    "## BIO16 = Precipitation of Wettest Quarter\n",
    "def bio_16_pre_wet_q(year, lon, lat):\n",
    "    temp_wet = retrieve_CRU_data('wet', year, lon, lat)\n",
    "    li_temp = []\n",
    "    for i in range(0,11,3):\n",
    "        li_temp.append(temp_wet[i:i+3].sum())\n",
    "    max_index=li_temp.index(max(li_temp))\n",
    "    ll = [0,3,6,9]\n",
    "    st = ll[max_index]\n",
    "    return retrieve_CRU_data('pre', year, lon, lat)[st:st+3].mean()"
   ]
  },
  {
   "cell_type": "code",
   "execution_count": 378,
   "id": "6a802c7e",
   "metadata": {},
   "outputs": [
    {
     "data": {
      "text/plain": [
       "57.333332"
      ]
     },
     "execution_count": 378,
     "metadata": {},
     "output_type": "execute_result"
    }
   ],
   "source": [
    "bio_16_pre_wet_q(1980, lon, lat)"
   ]
  },
  {
   "cell_type": "code",
   "execution_count": 385,
   "id": "11341e0a",
   "metadata": {},
   "outputs": [],
   "source": [
    "## BIO17 = Precipitation of Driest Quarter\n",
    "def bio_17_pre_dry_q(year, lon, lat):\n",
    "    temp_wet = retrieve_CRU_data('wet', year, lon, lat)\n",
    "    li_temp = []\n",
    "    for i in range(0,11,3):\n",
    "        li_temp.append(temp_wet[i:i+3].sum())\n",
    "    min_index=li_temp.index(min(li_temp))\n",
    "    ll = [0,3,6,9]\n",
    "    st = ll[min_index]\n",
    "    return retrieve_CRU_data('pre', year, lon, lat)[st:st+3].mean()"
   ]
  },
  {
   "cell_type": "code",
   "execution_count": 386,
   "id": "2df92fd4",
   "metadata": {},
   "outputs": [
    {
     "data": {
      "text/plain": [
       "47.766666"
      ]
     },
     "execution_count": 386,
     "metadata": {},
     "output_type": "execute_result"
    }
   ],
   "source": [
    "bio_17_pre_dry_q(1980, lon, lat)"
   ]
  },
  {
   "cell_type": "code",
   "execution_count": 387,
   "id": "36ac9fd7",
   "metadata": {},
   "outputs": [],
   "source": [
    "## BIO18  Precipitation of Warmest Quarter...\n",
    "def bio_18_pre_dry_q(year, lon, lat):\n",
    "    temp_wet = retrieve_CRU_data('tmp', year, lon, lat)\n",
    "    li_temp = []\n",
    "    for i in range(0,11,3):\n",
    "        li_temp.append(temp_wet[i:i+3].sum())\n",
    "    max_index=li_temp.index(max(li_temp))\n",
    "    ll = [0,3,6,9]\n",
    "    st = ll[max_index]\n",
    "    return retrieve_CRU_data('pre', year, lon, lat)[st:st+3].mean()"
   ]
  },
  {
   "cell_type": "code",
   "execution_count": 388,
   "id": "e4c4858a",
   "metadata": {},
   "outputs": [
    {
     "data": {
      "text/plain": [
       "47.766666"
      ]
     },
     "execution_count": 388,
     "metadata": {},
     "output_type": "execute_result"
    }
   ],
   "source": [
    "bio_18_pre_dry_q(1980, lon, lat)"
   ]
  },
  {
   "cell_type": "code",
   "execution_count": 389,
   "id": "896e3c2f",
   "metadata": {},
   "outputs": [],
   "source": [
    "## BIO19 = Precipitation of Coldest Quarter...\n",
    "def bio_18_pre_cld_q(year, lon, lat):\n",
    "    temp_wet = retrieve_CRU_data('tmp', year, lon, lat)\n",
    "    li_temp = []\n",
    "    for i in range(0,11,3):\n",
    "        li_temp.append(temp_wet[i:i+3].sum())\n",
    "    min_index=li_temp.index(min(li_temp))\n",
    "    ll = [0,3,6,9]\n",
    "    st = ll[min_index]\n",
    "    return retrieve_CRU_data('pre', year, lon, lat)[st:st+3].mean()"
   ]
  },
  {
   "cell_type": "code",
   "execution_count": 390,
   "id": "64cc7438",
   "metadata": {},
   "outputs": [
    {
     "data": {
      "text/plain": [
       "47.766666"
      ]
     },
     "execution_count": 390,
     "metadata": {},
     "output_type": "execute_result"
    }
   ],
   "source": [
    "bio_18_pre_dry_q(1980, lon, lat)"
   ]
  }
 ],
 "metadata": {
  "kernelspec": {
   "display_name": "Python 3 (ipykernel)",
   "language": "python",
   "name": "python3"
  },
  "language_info": {
   "codemirror_mode": {
    "name": "ipython",
    "version": 3
   },
   "file_extension": ".py",
   "mimetype": "text/x-python",
   "name": "python",
   "nbconvert_exporter": "python",
   "pygments_lexer": "ipython3",
   "version": "3.10.6"
  },
  "toc": {
   "base_numbering": 1,
   "nav_menu": {},
   "number_sections": true,
   "sideBar": true,
   "skip_h1_title": false,
   "title_cell": "Table of Contents",
   "title_sidebar": "Contents",
   "toc_cell": false,
   "toc_position": {},
   "toc_section_display": true,
   "toc_window_display": false
  }
 },
 "nbformat": 4,
 "nbformat_minor": 5
}
