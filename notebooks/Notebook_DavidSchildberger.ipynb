{
 "cells": [
  {
   "cell_type": "markdown",
   "id": "3e9415b8",
   "metadata": {},
   "source": [
    "# Data Retrieval - Climate data"
   ]
  },
  {
   "cell_type": "markdown",
   "id": "c1983530",
   "metadata": {},
   "source": [
    "## CRU Data"
   ]
  },
  {
   "cell_type": "markdown",
   "id": "62864fcc",
   "metadata": {},
   "source": [
    "### Import packages"
   ]
  },
  {
   "cell_type": "code",
   "execution_count": 30,
   "id": "1a7d30a9",
   "metadata": {},
   "outputs": [
    {
     "name": "stdout",
     "output_type": "stream",
     "text": [
      "Requirement already satisfied: Pillow in /Users/davidschildberger/.pyenv/versions/3.10.6/envs/planetary_garden/lib/python3.10/site-packages (9.3.0)\r\n"
     ]
    }
   ],
   "source": [
    "!pip install Pillow"
   ]
  },
  {
   "cell_type": "code",
   "execution_count": 54,
   "id": "f7c5176d",
   "metadata": {},
   "outputs": [
    {
     "name": "stdout",
     "output_type": "stream",
     "text": [
      "The autoreload extension is already loaded. To reload it, use:\n",
      "  %reload_ext autoreload\n"
     ]
    }
   ],
   "source": [
    "import gzip\n",
    "import os\n",
    "import shutil\n",
    "import tempfile\n",
    "import netCDF4\n",
    "from netCDF4 import Dataset\n",
    "import numpy as np\n",
    "import pandas as pd\n",
    "import math\n",
    "import requests\n",
    "import time\n",
    "import random\n",
    "from PIL import Image, ImageDraw, ImageFilter\n",
    "\n",
    "%load_ext autoreload\n",
    "%autoreload 2"
   ]
  },
  {
   "cell_type": "markdown",
   "id": "cb1c5793",
   "metadata": {},
   "source": [
    "### Import functions"
   ]
  },
  {
   "cell_type": "code",
   "execution_count": null,
   "id": "691d7a20",
   "metadata": {},
   "outputs": [],
   "source": [
    "lon = 16.363449\n",
    "lat = 48.210033"
   ]
  },
  {
   "cell_type": "code",
   "execution_count": null,
   "id": "3f69bc6e",
   "metadata": {},
   "outputs": [],
   "source": [
    "val_nam_list = ['cld', 'dtr', 'frs', 'pet', 'pre', 'tmn', 'tmp', 'tmx', 'vap', 'wet']\n",
    "fold_n = '/Users/davidschildberger/03_LeWagon_Datasets/CRU_raw_data_2021/'"
   ]
  },
  {
   "cell_type": "code",
   "execution_count": 83,
   "id": "d6984c43",
   "metadata": {},
   "outputs": [],
   "source": [
    "def get_filename(feat_name):\n",
    "    fi_n = os.listdir(fold_n)\n",
    "    fi_n.remove('.DS_Store')\n",
    "    for i in fi_n: \n",
    "        if(feat_name in i) : \n",
    "            return i"
   ]
  },
  {
   "cell_type": "code",
   "execution_count": null,
   "id": "e1aec85b",
   "metadata": {},
   "outputs": [],
   "source": [
    "def open_netcdf(fname):\n",
    "    with gzip.open((fold_n+fname), 'rb') as f:\n",
    "        tmp = tempfile.NamedTemporaryFile(delete=False)\n",
    "        shutil.copyfileobj(f, tmp)\n",
    "\n",
    "        f.close()\n",
    "        tmp.close()\n",
    "        \n",
    "        data = netCDF4.Dataset(tmp.name)\n",
    "        os.unlink(tmp.name)\n",
    "    return data"
   ]
  },
  {
   "cell_type": "code",
   "execution_count": null,
   "id": "ceb8a6a8",
   "metadata": {},
   "outputs": [],
   "source": [
    "def retrieve_CRU_data(datatype, year, lon, lat):\n",
    "    \n",
    "    data = open_netcdf(get_filename(datatype)) # 0 = 'cld'\n",
    "    \n",
    "    year_in_month = (year-1901)*12\n",
    "    \n",
    "    c_lat = int(round(np.interp(lat, [-90, 90], [0, 360])))  # check order of values here\n",
    "    c_lon = int(round(np.interp(lon, [-180, 180], [0, 720])))\n",
    "    \n",
    "    temp_dat_date = data.variables[datatype][year_in_month:year_in_month+12,c_lat,c_lon].data\n",
    "    return temp_dat_date"
   ]
  },
  {
   "cell_type": "code",
   "execution_count": null,
   "id": "b77bb10b",
   "metadata": {},
   "outputs": [],
   "source": [
    "sp_dat = retrieve_CRU_data('cld', 1980, lon, lat)\n",
    "sp_dat, sp_dat.mean()"
   ]
  },
  {
   "cell_type": "code",
   "execution_count": null,
   "id": "f3728fa1",
   "metadata": {},
   "outputs": [],
   "source": [
    "def retrieve_all_features_mean_CRU_data(year, lon, lat):\n",
    "    val_nam_list = ['cld', 'dtr', 'frs', 'pet', 'pre', 'tmn', 'tmp', 'tmx', 'vap', 'wet']\n",
    "    mean_val = []\n",
    "    for val in val_nam_list:\n",
    "        mean_val.append(retrieve_CRU_data(val, year, lon, lat).mean())\n",
    "    return dict(zip(val_nam_list, mean_val))"
   ]
  },
  {
   "cell_type": "code",
   "execution_count": null,
   "id": "9022cde3",
   "metadata": {},
   "outputs": [],
   "source": [
    "retrieve_all_features_mean_CRU_data(1980, lon, lat)"
   ]
  },
  {
   "cell_type": "markdown",
   "id": "a1dd1955",
   "metadata": {
    "heading_collapsed": true
   },
   "source": [
    "### Bio Variables / slow?!"
   ]
  },
  {
   "cell_type": "code",
   "execution_count": null,
   "id": "fd117414",
   "metadata": {
    "hidden": true
   },
   "outputs": [],
   "source": [
    "## BIO1 = Annual Mean Temperature\n",
    "def bio_1_annual_mean_temp(year, lon, lat):\n",
    "    temp_mean = 'tmp'\n",
    "    return retrieve_CRU_data(temp_mean, year, lon, lat).mean()"
   ]
  },
  {
   "cell_type": "code",
   "execution_count": null,
   "id": "fa1af0a3",
   "metadata": {
    "hidden": true
   },
   "outputs": [],
   "source": [
    "bio_1_annual_mean_temp(1980, lon, lat)"
   ]
  },
  {
   "cell_type": "code",
   "execution_count": null,
   "id": "489bbbe8",
   "metadata": {
    "hidden": true
   },
   "outputs": [],
   "source": [
    "## Mean Diurnal Range (Mean of monthly (max temp - min temp))\n",
    "def bio_2_mean_diurnal_range(year, lon, lat):\n",
    "    t_min = retrieve_CRU_data('tmn', year, lon, lat)\n",
    "    t_max = retrieve_CRU_data('tmx', year, lon, lat)\n",
    "    diurnal = t_max-t_min\n",
    "    return diurnal.mean()"
   ]
  },
  {
   "cell_type": "code",
   "execution_count": null,
   "id": "6d4d68d9",
   "metadata": {
    "hidden": true
   },
   "outputs": [],
   "source": [
    "bio_2_mean_diurnal_range(1980, lon, lat)"
   ]
  },
  {
   "cell_type": "code",
   "execution_count": null,
   "id": "028b91e7",
   "metadata": {
    "hidden": true
   },
   "outputs": [],
   "source": [
    "## BIO3 = Isothermality (BIO2/BIO7) (×100)\n",
    "def bio_3_isothermality(year, lon, lat):\n",
    "    val = bio_2_mean_diurnal_range(year, lon, lat)/bio_7_temp_range(year, lon, lat)\n",
    "    return val"
   ]
  },
  {
   "cell_type": "code",
   "execution_count": null,
   "id": "d0d3d7b9",
   "metadata": {
    "hidden": true
   },
   "outputs": [],
   "source": [
    "bio_3_isothermality(1980, lon, lat)"
   ]
  },
  {
   "cell_type": "code",
   "execution_count": null,
   "id": "f0767401",
   "metadata": {
    "hidden": true
   },
   "outputs": [],
   "source": [
    "## BIO4 = Temperature Seasonality (standard deviation ×100)\n",
    "def bio_4_temperature_seasonality(year, lon, lat):\n",
    "    t_mean = retrieve_CRU_data('tmp', year, lon, lat)\n",
    "    return np.std(t_mean)"
   ]
  },
  {
   "cell_type": "code",
   "execution_count": null,
   "id": "0351c42e",
   "metadata": {
    "hidden": true
   },
   "outputs": [],
   "source": [
    "bio_4_temperature_seasonality(1980, lon, lat)"
   ]
  },
  {
   "cell_type": "code",
   "execution_count": null,
   "id": "36261bd1",
   "metadata": {
    "hidden": true
   },
   "outputs": [],
   "source": [
    "## BIO5 = Max Temperature of Warmest Month\n",
    "def bio_5_max_temp_of_max_month(year, lon, lat):\n",
    "    t_max = retrieve_CRU_data('tmx', year, lon, lat)\n",
    "    return np.max(t_max)"
   ]
  },
  {
   "cell_type": "code",
   "execution_count": null,
   "id": "06461afe",
   "metadata": {
    "hidden": true
   },
   "outputs": [],
   "source": [
    "bio_5_max_temp_of_max_month(1980, lon, lat)"
   ]
  },
  {
   "cell_type": "code",
   "execution_count": null,
   "id": "a0807058",
   "metadata": {
    "hidden": true
   },
   "outputs": [],
   "source": [
    "## BIO6 = Min Temperature of Coldest Month\n",
    "def bio_6_min_temp_of_min_month(year, lon, lat):\n",
    "    t_min = retrieve_CRU_data('tmn', year, lon, lat)\n",
    "    return np.min(t_min)"
   ]
  },
  {
   "cell_type": "code",
   "execution_count": null,
   "id": "7850977b",
   "metadata": {
    "hidden": true
   },
   "outputs": [],
   "source": [
    "bio_6_min_temp_of_min_month(1980, lon, lat)"
   ]
  },
  {
   "cell_type": "code",
   "execution_count": null,
   "id": "52331a50",
   "metadata": {
    "hidden": true
   },
   "outputs": [],
   "source": [
    "## BIO7 = Temperature Annual Range (BIO5-BIO6)\n",
    "def bio_7_temp_range(year, lon, lat):\n",
    "    rang_temp = bio_5_max_temp_of_max_month(year, lon, lat)-bio_6_min_temp_of_min_month(year, lon, lat)\n",
    "    return rang_temp"
   ]
  },
  {
   "cell_type": "code",
   "execution_count": null,
   "id": "bb1c805a",
   "metadata": {
    "hidden": true
   },
   "outputs": [],
   "source": [
    "bio_7_temp_range(1980, lon, lat)"
   ]
  },
  {
   "cell_type": "code",
   "execution_count": null,
   "id": "b691f282",
   "metadata": {
    "hidden": true
   },
   "outputs": [],
   "source": [
    "## BIO8 = Mean Temperature of Wettest Quarter\n",
    "def bio_8_mean_temp_wet_q(year, lon, lat):\n",
    "    temp_wet = retrieve_CRU_data('wet', year, lon, lat)\n",
    "    li_temp = []\n",
    "    for i in range(0,11,3):\n",
    "        li_temp.append(temp_wet[i:i+3].sum())\n",
    "    max_index=li_temp.index(max(li_temp))\n",
    "    ll = [0,3,6,9]\n",
    "    st = ll[max_index]\n",
    "    return retrieve_CRU_data('tmp', year, lon, lat)[st:st+3].mean()"
   ]
  },
  {
   "cell_type": "code",
   "execution_count": null,
   "id": "bccddae3",
   "metadata": {
    "hidden": true
   },
   "outputs": [],
   "source": [
    "bio_8_mean_temp_wet_q(1980, lon, lat)"
   ]
  },
  {
   "cell_type": "code",
   "execution_count": null,
   "id": "178936b5",
   "metadata": {
    "hidden": true
   },
   "outputs": [],
   "source": [
    "## BIO9 = Mean Temperature of Driest Quarter\n",
    "def bio_9_mean_temp_dry_q(year, lon, lat):\n",
    "    temp_wet = retrieve_CRU_data('wet', year, lon, lat)\n",
    "    li_temp = []\n",
    "    for i in range(0,11,3):\n",
    "        li_temp.append(temp_wet[i:i+3].sum())\n",
    "    min_index=li_temp.index(min(li_temp))\n",
    "    ll = [0,3,6,9]\n",
    "    st = ll[min_index]\n",
    "    return retrieve_CRU_data('tmp', year, lon, lat)[st:st+3].mean()"
   ]
  },
  {
   "cell_type": "code",
   "execution_count": null,
   "id": "9320af68",
   "metadata": {
    "hidden": true
   },
   "outputs": [],
   "source": [
    "bio_9_mean_temp_dry_q(1980, lon, lat)"
   ]
  },
  {
   "cell_type": "code",
   "execution_count": null,
   "id": "880e5441",
   "metadata": {
    "hidden": true
   },
   "outputs": [],
   "source": [
    "## BIO10 = Mean Temperature of Warmest Quarter\n",
    "def bio_10_mean_temp_warm_q(year, lon, lat):\n",
    "    temp_wet = retrieve_CRU_data('tmp', year, lon, lat)\n",
    "    li_temp = []\n",
    "    for i in range(0,11,3):\n",
    "        li_temp.append(temp_wet[i:i+3].sum())\n",
    "    max_index=li_temp.index(max(li_temp))\n",
    "    ll = [0,3,6,9]\n",
    "    st = ll[max_index]\n",
    "    return temp_wet[st:st+3].mean()"
   ]
  },
  {
   "cell_type": "code",
   "execution_count": null,
   "id": "a6bfd4c4",
   "metadata": {
    "hidden": true
   },
   "outputs": [],
   "source": [
    "bio_10_mean_temp_warm_q(1980, lon, lat)"
   ]
  },
  {
   "cell_type": "code",
   "execution_count": null,
   "id": "3a66ef07",
   "metadata": {
    "hidden": true
   },
   "outputs": [],
   "source": [
    "## BIO11 = Mean Temperature of Coldest Quarter\n",
    "def bio_11_mean_temp_cold_q(year, lon, lat):\n",
    "    temp_wet = retrieve_CRU_data('tmp', year, lon, lat)\n",
    "    li_temp = []\n",
    "    for i in range(0,11,3):\n",
    "        li_temp.append(temp_wet[i:i+3].sum())\n",
    "    min_index=li_temp.index(min(li_temp))\n",
    "    ll = [0,3,6,9]\n",
    "    st = ll[min_index]\n",
    "    return temp_wet[st:st+3].mean()"
   ]
  },
  {
   "cell_type": "code",
   "execution_count": null,
   "id": "2b95de91",
   "metadata": {
    "hidden": true
   },
   "outputs": [],
   "source": [
    "bio_11_mean_temp_cold_q(1980, lon, lat)"
   ]
  },
  {
   "cell_type": "code",
   "execution_count": null,
   "id": "74fced67",
   "metadata": {
    "hidden": true
   },
   "outputs": [],
   "source": [
    "## BIO12 = Annual Precipitation\n",
    "def bio_12_annual_prec(year, lon, lat):\n",
    "    return retrieve_CRU_data('pre', year, lon, lat).sum()"
   ]
  },
  {
   "cell_type": "code",
   "execution_count": null,
   "id": "03837e01",
   "metadata": {
    "hidden": true
   },
   "outputs": [],
   "source": [
    "bio_12_annual_prec(1980, lon, lat)"
   ]
  },
  {
   "cell_type": "code",
   "execution_count": null,
   "id": "c18a3409",
   "metadata": {
    "hidden": true
   },
   "outputs": [],
   "source": [
    "## BIO13 = Precipitation of Wettest Month\n",
    "def bio_13_prec_wet_mo(year, lon, lat):\n",
    "    temp_wet = retrieve_CRU_data('wet', year, lon, lat)\n",
    "    max_index=np.argmax(temp_wet)\n",
    "    return retrieve_CRU_data('pre', year, lon, lat)[max_index]"
   ]
  },
  {
   "cell_type": "code",
   "execution_count": null,
   "id": "40e4764b",
   "metadata": {
    "hidden": true
   },
   "outputs": [],
   "source": [
    "bio_13_prec_wet_mo(1980, lon, lat)"
   ]
  },
  {
   "cell_type": "code",
   "execution_count": null,
   "id": "ce264c76",
   "metadata": {
    "hidden": true
   },
   "outputs": [],
   "source": [
    "## BIO14 = Precipitation of Driest Month\n",
    "def bio_14_prec_dry_mo(year, lon, lat):\n",
    "    temp_wet = retrieve_CRU_data('wet', year, lon, lat)\n",
    "    min_index=np.argmin(temp_wet)\n",
    "    return retrieve_CRU_data('pre', year, lon, lat)[min_index]"
   ]
  },
  {
   "cell_type": "code",
   "execution_count": null,
   "id": "76503262",
   "metadata": {
    "hidden": true
   },
   "outputs": [],
   "source": [
    "bio_14_prec_dry_mo(1980, lon, lat)"
   ]
  },
  {
   "cell_type": "code",
   "execution_count": null,
   "id": "9638cd29",
   "metadata": {
    "hidden": true
   },
   "outputs": [],
   "source": [
    "## BIO15 = Precipitation Seasonality (Coefficient of Variation)\n",
    "def bio_15_prec_wet_mo(year, lon, lat):\n",
    "    temp_pre = retrieve_CRU_data('pre', year, lon, lat)\n",
    "    cv = lambda x: np.std(temp_pre, ddof=1) / np.mean(temp_pre) * 100\n",
    "    return cv(temp_pre)"
   ]
  },
  {
   "cell_type": "code",
   "execution_count": null,
   "id": "37ac838a",
   "metadata": {
    "hidden": true
   },
   "outputs": [],
   "source": [
    "bio_15_prec_wet_mo(1980, lon, lat)"
   ]
  },
  {
   "cell_type": "code",
   "execution_count": null,
   "id": "afe537ad",
   "metadata": {
    "hidden": true
   },
   "outputs": [],
   "source": [
    "## BIO16 = Precipitation of Wettest Quarter\n",
    "def bio_16_pre_wet_q(year, lon, lat):\n",
    "    temp_wet = retrieve_CRU_data('wet', year, lon, lat)\n",
    "    li_temp = []\n",
    "    for i in range(0,11,3):\n",
    "        li_temp.append(temp_wet[i:i+3].sum())\n",
    "    max_index=li_temp.index(max(li_temp))\n",
    "    ll = [0,3,6,9]\n",
    "    st = ll[max_index]\n",
    "    return retrieve_CRU_data('pre', year, lon, lat)[st:st+3].mean()"
   ]
  },
  {
   "cell_type": "code",
   "execution_count": null,
   "id": "6a802c7e",
   "metadata": {
    "hidden": true
   },
   "outputs": [],
   "source": [
    "bio_16_pre_wet_q(1980, lon, lat)"
   ]
  },
  {
   "cell_type": "code",
   "execution_count": null,
   "id": "11341e0a",
   "metadata": {
    "hidden": true
   },
   "outputs": [],
   "source": [
    "## BIO17 = Precipitation of Driest Quarter\n",
    "def bio_17_pre_dry_q(year, lon, lat):\n",
    "    temp_wet = retrieve_CRU_data('wet', year, lon, lat)\n",
    "    li_temp = []\n",
    "    for i in range(0,11,3):\n",
    "        li_temp.append(temp_wet[i:i+3].sum())\n",
    "    min_index=li_temp.index(min(li_temp))\n",
    "    ll = [0,3,6,9]\n",
    "    st = ll[min_index]\n",
    "    return retrieve_CRU_data('pre', year, lon, lat)[st:st+3].mean()"
   ]
  },
  {
   "cell_type": "code",
   "execution_count": null,
   "id": "2df92fd4",
   "metadata": {
    "hidden": true
   },
   "outputs": [],
   "source": [
    "bio_17_pre_dry_q(1980, lon, lat)"
   ]
  },
  {
   "cell_type": "code",
   "execution_count": null,
   "id": "36ac9fd7",
   "metadata": {
    "hidden": true
   },
   "outputs": [],
   "source": [
    "## BIO18  Precipitation of Warmest Quarter...\n",
    "def bio_18_pre_dry_q(year, lon, lat):\n",
    "    temp_wet = retrieve_CRU_data('tmp', year, lon, lat)\n",
    "    li_temp = []\n",
    "    for i in range(0,11,3):\n",
    "        li_temp.append(temp_wet[i:i+3].sum())\n",
    "    max_index=li_temp.index(max(li_temp))\n",
    "    ll = [0,3,6,9]\n",
    "    st = ll[max_index]\n",
    "    return retrieve_CRU_data('pre', year, lon, lat)[st:st+3].mean()"
   ]
  },
  {
   "cell_type": "code",
   "execution_count": null,
   "id": "e4c4858a",
   "metadata": {
    "hidden": true
   },
   "outputs": [],
   "source": [
    "bio_18_pre_dry_q(1980, lon, lat)"
   ]
  },
  {
   "cell_type": "code",
   "execution_count": null,
   "id": "896e3c2f",
   "metadata": {
    "hidden": true
   },
   "outputs": [],
   "source": [
    "## BIO19 = Precipitation of Coldest Quarter...\n",
    "def bio_19_pre_cld_q(year, lon, lat):\n",
    "    temp_wet = retrieve_CRU_data('tmp', year, lon, lat)\n",
    "    li_temp = []\n",
    "    for i in range(0,11,3):\n",
    "        li_temp.append(temp_wet[i:i+3].sum())\n",
    "    min_index=li_temp.index(min(li_temp))\n",
    "    ll = [0,3,6,9]\n",
    "    st = ll[min_index]\n",
    "    return retrieve_CRU_data('pre', year, lon, lat)[st:st+3].mean()"
   ]
  },
  {
   "cell_type": "code",
   "execution_count": null,
   "id": "64cc7438",
   "metadata": {
    "hidden": true
   },
   "outputs": [],
   "source": [
    "bio_19_pre_cld_q(1980, lon, lat)"
   ]
  },
  {
   "cell_type": "code",
   "execution_count": null,
   "id": "5a1cf5a0",
   "metadata": {
    "hidden": true
   },
   "outputs": [],
   "source": [
    "def get_bioclim_var(year, lon, lat):\n",
    "    temp_li = []\n",
    "    temp_li.append(bio_1_annual_mean_temp(year, lon, lat))\n",
    "    temp_li.append(bio_2_mean_diurnal_range(year, lon, lat))\n",
    "    temp_li.append(bio_3_isothermality(year, lon, lat))\n",
    "    temp_li.append(bio_4_temperature_seasonality(year, lon, lat))\n",
    "    temp_li.append(bio_5_max_temp_of_max_month(year, lon, lat))\n",
    "    temp_li.append(bio_6_min_temp_of_min_month(year, lon, lat))\n",
    "    temp_li.append(bio_7_temp_range(year, lon, lat))\n",
    "    temp_li.append(bio_8_mean_temp_wet_q(year, lon, lat))\n",
    "    temp_li.append(bio_9_mean_temp_dry_q(year, lon, lat))\n",
    "    temp_li.append(bio_10_mean_temp_warm_q(year, lon, lat))\n",
    "    temp_li.append(bio_11_mean_temp_cold_q(year, lon, lat))\n",
    "    temp_li.append(bio_12_annual_prec(year, lon, lat))\n",
    "    temp_li.append(bio_13_prec_wet_mo(year, lon, lat))\n",
    "    temp_li.append(bio_14_prec_dry_mo(year, lon, lat))\n",
    "    temp_li.append(bio_15_prec_wet_mo(year, lon, lat))\n",
    "    temp_li.append(bio_16_pre_wet_q(year, lon, lat))\n",
    "    temp_li.append(bio_17_pre_dry_q(year, lon, lat))\n",
    "    temp_li.append(bio_18_pre_cld_q(year, lon, lat))\n",
    "    temp_li.append(bio_19_pre_cld_q(year, lon, lat))\n",
    "    return temp_li"
   ]
  },
  {
   "cell_type": "code",
   "execution_count": null,
   "id": "19618d05",
   "metadata": {
    "hidden": true
   },
   "outputs": [],
   "source": [
    "get_bioclim_var(1980, lon, lat)"
   ]
  },
  {
   "cell_type": "markdown",
   "id": "47170240",
   "metadata": {
    "heading_collapsed": true
   },
   "source": [
    "### Bio variables / optimized"
   ]
  },
  {
   "cell_type": "code",
   "execution_count": null,
   "id": "bdf4c02f",
   "metadata": {
    "hidden": true
   },
   "outputs": [],
   "source": [
    "def retrieve_CRU_data_all(datatype, year):\n",
    "    data = open_netcdf(get_filename(datatype))\n",
    "    return data.variables[datatype][year_in_month:year_in_month+12,:,:].data"
   ]
  },
  {
   "cell_type": "code",
   "execution_count": null,
   "id": "e1e52470",
   "metadata": {
    "hidden": true
   },
   "outputs": [],
   "source": [
    "dat_t = retrieve_CRU_data_all('cld', 1980)\n",
    "dat_t.shape"
   ]
  },
  {
   "cell_type": "code",
   "execution_count": null,
   "id": "14372572",
   "metadata": {
    "hidden": true
   },
   "outputs": [],
   "source": [
    "def retrieve_all_features_CRU_data(year):\n",
    "    val_nam_list = ['cld', 'dtr', 'frs', 'pet', 'pre', 'tmn', 'tmp', 'tmx', 'vap', 'wet']\n",
    "    val_t = []\n",
    "    for val in val_nam_list:\n",
    "        val_t.append(retrieve_CRU_data_all(val, year))\n",
    "    return np.array(val_t)"
   ]
  },
  {
   "cell_type": "code",
   "execution_count": null,
   "id": "f6edf405",
   "metadata": {
    "hidden": true
   },
   "outputs": [],
   "source": [
    "dat_ = retrieve_all_features_mean_CRU_data(1980)\n",
    "dat_"
   ]
  },
  {
   "cell_type": "code",
   "execution_count": null,
   "id": "a9796365",
   "metadata": {
    "hidden": true
   },
   "outputs": [],
   "source": [
    "dat_.shape"
   ]
  },
  {
   "cell_type": "code",
   "execution_count": null,
   "id": "ec9c9889",
   "metadata": {
    "hidden": true
   },
   "outputs": [],
   "source": [
    "def retrieve_all_features_all_years_CRU_data(year_start, year_stop):\n",
    "    val_nam_list = ['cld', 'dtr', 'frs', 'pet', 'pre', 'tmn', 'tmp', 'tmx', 'vap', 'wet']\n",
    "    \n",
    "    year_start_in_month = (year_start-1901)*12\n",
    "    year_stop_in_month = (year_stop-1901)*12\n",
    "    \n",
    "    val_t = []\n",
    "    for val in val_nam_list:\n",
    "        data = open_netcdf(get_filename(val))\n",
    "        val_t.append(data.variables[val][year_start_in_month:year_stop_in_month,:,:].data)\n",
    "    return np.array(val_t)"
   ]
  },
  {
   "cell_type": "code",
   "execution_count": null,
   "id": "6dc70701",
   "metadata": {
    "hidden": true,
    "scrolled": false
   },
   "outputs": [],
   "source": [
    "dt = retrieve_all_features_all_years_CRU_data(1980,1982)\n",
    "dt.shape"
   ]
  },
  {
   "cell_type": "code",
   "execution_count": null,
   "id": "0ab205d8",
   "metadata": {
    "hidden": true
   },
   "outputs": [],
   "source": [
    "plt.imshow(np.flip(dt[0,0,:,:],0));"
   ]
  },
  {
   "cell_type": "markdown",
   "id": "3e741002",
   "metadata": {
    "heading_collapsed": true
   },
   "source": [
    "### Bio variables / individual features"
   ]
  },
  {
   "cell_type": "code",
   "execution_count": null,
   "id": "801fcc21",
   "metadata": {
    "hidden": true
   },
   "outputs": [],
   "source": [
    "## BIO1 = Annual Mean Temperature\n",
    "def bio_1(year):\n",
    "    val = 'tmp'\n",
    "    data = open_netcdf(get_filename(val))\n",
    "    \n",
    "    year_in_month = (year-1901)*12\n",
    "    \n",
    "    d = data.variables[val][year_in_month:year_in_month+12,:,:].data.mean(axis=0)\n",
    "    d[d > 50000] = np.nan\n",
    "    res = np.flip(d,0)\n",
    "    return res"
   ]
  },
  {
   "cell_type": "code",
   "execution_count": null,
   "id": "1876dcd9",
   "metadata": {
    "hidden": true
   },
   "outputs": [],
   "source": [
    "b1 = bio_1(1980)\n",
    "b1.shape"
   ]
  },
  {
   "cell_type": "code",
   "execution_count": null,
   "id": "a588c4fa",
   "metadata": {
    "hidden": true
   },
   "outputs": [],
   "source": [
    "plt.imshow(b1);"
   ]
  },
  {
   "cell_type": "code",
   "execution_count": null,
   "id": "75984cfa",
   "metadata": {
    "hidden": true
   },
   "outputs": [],
   "source": [
    "## Mean Diurnal Range (Mean of monthly (max temp - min temp))\n",
    "def bio_2(year):\n",
    "    data_tmn = open_netcdf(get_filename('tmn'))\n",
    "    data_tmx = open_netcdf(get_filename('tmx'))\n",
    "    year_in_month = (year-1901)*12\n",
    "    \n",
    "    t_min = data_tmn.variables['tmn'][year_in_month:year_in_month+12,:,:].data\n",
    "    t_max = data_tmx.variables['tmx'][year_in_month:year_in_month+12,:,:].data\n",
    "    t_min[t_min > 255] = np.nan\n",
    "    t_max[t_max > 255] = np.nan\n",
    "    d = t_max - t_min\n",
    "    d = d.mean(axis=0)\n",
    "    d[d > 50000] = np.nan\n",
    "    res = np.flip(d,0)\n",
    "    return res"
   ]
  },
  {
   "cell_type": "code",
   "execution_count": null,
   "id": "59992e5b",
   "metadata": {
    "hidden": true
   },
   "outputs": [],
   "source": [
    "b2 = bio_2(1980)"
   ]
  },
  {
   "cell_type": "code",
   "execution_count": null,
   "id": "fc0c9c4b",
   "metadata": {
    "hidden": true
   },
   "outputs": [],
   "source": [
    "b2.shape"
   ]
  },
  {
   "cell_type": "code",
   "execution_count": null,
   "id": "12c3f416",
   "metadata": {
    "hidden": true
   },
   "outputs": [],
   "source": [
    "plt.imshow(b2);"
   ]
  },
  {
   "cell_type": "code",
   "execution_count": null,
   "id": "987b345f",
   "metadata": {
    "hidden": true
   },
   "outputs": [],
   "source": [
    "## BIO3 = Isothermality (BIO2/BIO7) (×100)\n",
    "def bio_3(year):\n",
    "    val = bio_2(year)/bio_7(year)\n",
    "    val[val > 50000] = np.nan\n",
    "    return val"
   ]
  },
  {
   "cell_type": "code",
   "execution_count": null,
   "id": "6bb4bb17",
   "metadata": {
    "hidden": true
   },
   "outputs": [],
   "source": [
    "b3 = bio_3(1980)"
   ]
  },
  {
   "cell_type": "code",
   "execution_count": null,
   "id": "2fbc6011",
   "metadata": {
    "hidden": true
   },
   "outputs": [],
   "source": [
    "b3.shape"
   ]
  },
  {
   "cell_type": "code",
   "execution_count": null,
   "id": "b608feff",
   "metadata": {
    "hidden": true
   },
   "outputs": [],
   "source": [
    "plt.imshow(b3);"
   ]
  },
  {
   "cell_type": "code",
   "execution_count": null,
   "id": "3227fae2",
   "metadata": {
    "hidden": true
   },
   "outputs": [],
   "source": [
    "## BIO4 = Temperature Seasonality (standard deviation ×100)\n",
    "def bio_4(year):\n",
    "    data = open_netcdf(get_filename('tmp'))\n",
    "\n",
    "    year_in_month = (year-1901)*12\n",
    "    \n",
    "    t_mp = data.variables['tmp'][year_in_month:year_in_month+12,:,:].data\n",
    "    t_mp[t_mp > 50000] = np.nan\n",
    "    res = np.std(t_mp, axis=0)\n",
    "    res = np.flip(res,0)\n",
    "    return res"
   ]
  },
  {
   "cell_type": "code",
   "execution_count": null,
   "id": "ffe42141",
   "metadata": {
    "hidden": true
   },
   "outputs": [],
   "source": [
    "b4 = bio_4(1980)"
   ]
  },
  {
   "cell_type": "code",
   "execution_count": null,
   "id": "4b4492d6",
   "metadata": {
    "hidden": true
   },
   "outputs": [],
   "source": [
    "b4.shape"
   ]
  },
  {
   "cell_type": "code",
   "execution_count": null,
   "id": "6be72a28",
   "metadata": {
    "hidden": true
   },
   "outputs": [],
   "source": [
    "plt.imshow(b4);"
   ]
  },
  {
   "cell_type": "code",
   "execution_count": null,
   "id": "c32bb548",
   "metadata": {
    "hidden": true
   },
   "outputs": [],
   "source": [
    "## BIO5 = Max Temperature of Warmest Month\n",
    "def bio_5(year):\n",
    "    data = open_netcdf(get_filename('tmx'))\n",
    "\n",
    "    year_in_month = (year-1901)*12\n",
    "    \n",
    "    t_max = data.variables['tmx'][year_in_month:year_in_month+12,:,:].data\n",
    "    t_max[t_max > 50000] = np.nan\n",
    "    res = np.max(t_max, axis=0)\n",
    "    res = np.flip(res,0)\n",
    "    return res"
   ]
  },
  {
   "cell_type": "code",
   "execution_count": null,
   "id": "db6b7457",
   "metadata": {
    "hidden": true
   },
   "outputs": [],
   "source": [
    "b5 = bio_5(1980)"
   ]
  },
  {
   "cell_type": "code",
   "execution_count": null,
   "id": "67cafc06",
   "metadata": {
    "hidden": true
   },
   "outputs": [],
   "source": [
    "b5.shape"
   ]
  },
  {
   "cell_type": "code",
   "execution_count": null,
   "id": "892b6247",
   "metadata": {
    "hidden": true
   },
   "outputs": [],
   "source": [
    "plt.imshow(b5);"
   ]
  },
  {
   "cell_type": "code",
   "execution_count": null,
   "id": "4d13ed1c",
   "metadata": {
    "hidden": true
   },
   "outputs": [],
   "source": [
    "## BIO6 = Min Temperature of Coldest Month\n",
    "def bio_6(year):\n",
    "    data = open_netcdf(get_filename('tmn'))\n",
    "\n",
    "    year_in_month = (year-1901)*12\n",
    "    \n",
    "    t_min = data.variables['tmn'][year_in_month:year_in_month+12,:,:].data\n",
    "    t_min[t_min > 50000] = np.nan\n",
    "    res = np.min(t_min, axis=0)\n",
    "    res = np.flip(res,0)\n",
    "    return res"
   ]
  },
  {
   "cell_type": "code",
   "execution_count": null,
   "id": "390f221c",
   "metadata": {
    "hidden": true
   },
   "outputs": [],
   "source": [
    "b6 = bio_6(1980)"
   ]
  },
  {
   "cell_type": "code",
   "execution_count": null,
   "id": "6951dfe9",
   "metadata": {
    "hidden": true
   },
   "outputs": [],
   "source": [
    "b6.shape"
   ]
  },
  {
   "cell_type": "code",
   "execution_count": null,
   "id": "b4162ff6",
   "metadata": {
    "hidden": true
   },
   "outputs": [],
   "source": [
    "plt.imshow(b6);"
   ]
  },
  {
   "cell_type": "code",
   "execution_count": null,
   "id": "a032a154",
   "metadata": {
    "hidden": true
   },
   "outputs": [],
   "source": [
    "## BIO7 = Temperature Annual Range (BIO5-BIO6)\n",
    "def bio_7(year):\n",
    "    rang_temp = bio_5(1980)-bio_6(1980)\n",
    "    rang_temp[rang_temp > 50000] = np.nan\n",
    "    return rang_temp"
   ]
  },
  {
   "cell_type": "code",
   "execution_count": null,
   "id": "e462fe4e",
   "metadata": {
    "hidden": true
   },
   "outputs": [],
   "source": [
    "b7 = bio_7(1980)"
   ]
  },
  {
   "cell_type": "code",
   "execution_count": null,
   "id": "3fda68c0",
   "metadata": {
    "hidden": true
   },
   "outputs": [],
   "source": [
    "b7.shape"
   ]
  },
  {
   "cell_type": "code",
   "execution_count": null,
   "id": "11c12fb9",
   "metadata": {
    "hidden": true
   },
   "outputs": [],
   "source": [
    "plt.imshow(b7);"
   ]
  },
  {
   "cell_type": "code",
   "execution_count": null,
   "id": "0fd222ad",
   "metadata": {
    "hidden": true
   },
   "outputs": [],
   "source": [
    "## BIO8 = Mean Temperature of Wettest Quarter\n",
    "def bio_8(year):\n",
    "    data_wet = open_netcdf(get_filename('wet'))\n",
    "    data_tmp = open_netcdf(get_filename('tmp'))\n",
    "    \n",
    "    year_in_month = (year-1901)*12\n",
    "    \n",
    "    temp_wet =  data_wet.variables['wet'][year_in_month:year_in_month+12,:,:].data\n",
    "    \n",
    "    li_temp = []\n",
    "    for i in range(0,11,3):\n",
    "        li_temp.append(np.sum(temp_wet[i:i+3], axis=0))\n",
    "    li_temp = np.array(li_temp)\n",
    "    max_ind = np.argmax(li_temp, axis=0)\n",
    "    \n",
    "    li_q_t = []\n",
    "    for i in range(0,11,3):\n",
    "        li_q_t.append(np.mean(data_tmp.variables['tmp'][year_in_month+i:year_in_month+i+3,:,:].data, axis=0))\n",
    "\n",
    "    li_q_t = np.array(li_q_t)\n",
    "    \n",
    "    res = np.choose(max_ind, li_q_t)\n",
    "    res[res > 50000] = np.nan\n",
    "    res = np.flip(res,0)\n",
    "    return res"
   ]
  },
  {
   "cell_type": "code",
   "execution_count": null,
   "id": "d2f6a5c5",
   "metadata": {
    "hidden": true
   },
   "outputs": [],
   "source": [
    "b8 = bio_8(1980)"
   ]
  },
  {
   "cell_type": "code",
   "execution_count": null,
   "id": "bfc3e5d9",
   "metadata": {
    "hidden": true
   },
   "outputs": [],
   "source": [
    "b8.shape"
   ]
  },
  {
   "cell_type": "code",
   "execution_count": null,
   "id": "2774fefb",
   "metadata": {
    "hidden": true
   },
   "outputs": [],
   "source": [
    "plt.imshow(b8);"
   ]
  },
  {
   "cell_type": "code",
   "execution_count": null,
   "id": "4d0197c4",
   "metadata": {
    "hidden": true
   },
   "outputs": [],
   "source": [
    "## BIO9 = Mean Temperature of Driest Quarter\n",
    "def bio_9(year):\n",
    "    data_wet = open_netcdf(get_filename('wet'))\n",
    "    data_tmp = open_netcdf(get_filename('tmp'))\n",
    "    \n",
    "    year_in_month = (year-1901)*12\n",
    "    \n",
    "    temp_wet =  data_wet.variables['wet'][year_in_month:year_in_month+12,:,:].data\n",
    "    \n",
    "    li_temp = []\n",
    "    for i in range(0,11,3):\n",
    "        li_temp.append(np.sum(temp_wet[i:i+3], axis=0))\n",
    "    li_temp = np.array(li_temp)\n",
    "    min_ind = np.argmin(li_temp, axis=0)\n",
    "    \n",
    "    li_q_t = []\n",
    "    for i in range(0,11,3):\n",
    "        li_q_t.append(np.mean(data_tmp.variables['tmp'][year_in_month+i:year_in_month+i+3,:,:].data, axis=0))\n",
    "\n",
    "    li_q_t = np.array(li_q_t)\n",
    "    \n",
    "    res = np.choose(min_ind, li_q_t)\n",
    "    res[res > 50000] = np.nan\n",
    "    res = np.flip(res,0)\n",
    "    return res"
   ]
  },
  {
   "cell_type": "code",
   "execution_count": null,
   "id": "6afec122",
   "metadata": {
    "hidden": true
   },
   "outputs": [],
   "source": [
    "b9 = bio_9(1980)"
   ]
  },
  {
   "cell_type": "code",
   "execution_count": null,
   "id": "630cfde5",
   "metadata": {
    "hidden": true
   },
   "outputs": [],
   "source": [
    "b9.shape"
   ]
  },
  {
   "cell_type": "code",
   "execution_count": null,
   "id": "bd476469",
   "metadata": {
    "hidden": true
   },
   "outputs": [],
   "source": [
    "plt.imshow(b9);"
   ]
  },
  {
   "cell_type": "code",
   "execution_count": null,
   "id": "7dd3816a",
   "metadata": {
    "hidden": true
   },
   "outputs": [],
   "source": [
    "## BIO10 = Mean Temperature of Warmest Quarter\n",
    "def bio_10(year):\n",
    "    data_wet = open_netcdf(get_filename('tmx'))\n",
    "    data_tmp = open_netcdf(get_filename('tmp'))\n",
    "    \n",
    "    year_in_month = (year-1901)*12\n",
    "    \n",
    "    temp_wet =  data_wet.variables['tmx'][year_in_month:year_in_month+12,:,:].data\n",
    "    \n",
    "    li_temp = []\n",
    "    for i in range(0,11,3):\n",
    "        li_temp.append(np.sum(temp_wet[i:i+3], axis=0))\n",
    "    li_temp = np.array(li_temp)\n",
    "    max_ind = np.argmax(li_temp, axis=0)\n",
    "    \n",
    "    li_q_t = []\n",
    "    for i in range(0,11,3):\n",
    "        li_q_t.append(np.mean(data_tmp.variables['tmp'][year_in_month+i:year_in_month+i+3,:,:].data, axis=0))\n",
    "\n",
    "    li_q_t = np.array(li_q_t)\n",
    "    \n",
    "    res = np.choose(max_ind, li_q_t)\n",
    "    res[res > 50000] = np.nan\n",
    "    res = np.flip(res,0)\n",
    "    return res"
   ]
  },
  {
   "cell_type": "code",
   "execution_count": null,
   "id": "a648d33a",
   "metadata": {
    "hidden": true
   },
   "outputs": [],
   "source": [
    "b10 = bio_10(1980)"
   ]
  },
  {
   "cell_type": "code",
   "execution_count": null,
   "id": "d117fb7c",
   "metadata": {
    "hidden": true
   },
   "outputs": [],
   "source": [
    "b10.shape"
   ]
  },
  {
   "cell_type": "code",
   "execution_count": null,
   "id": "f3007fa3",
   "metadata": {
    "hidden": true
   },
   "outputs": [],
   "source": [
    "plt.imshow(b10);"
   ]
  },
  {
   "cell_type": "code",
   "execution_count": null,
   "id": "cb235c20",
   "metadata": {
    "hidden": true
   },
   "outputs": [],
   "source": [
    "## BIO11 = Mean Temperature of Coldest Quarter\n",
    "def bio_11(year):\n",
    "    data_wet = open_netcdf(get_filename('tmn'))\n",
    "    data_tmp = open_netcdf(get_filename('tmp'))\n",
    "    \n",
    "    year_in_month = (year-1901)*12\n",
    "    \n",
    "    temp_wet =  data_wet.variables['tmn'][year_in_month:year_in_month+12,:,:].data\n",
    "    \n",
    "    li_temp = []\n",
    "    for i in range(0,11,3):\n",
    "        li_temp.append(np.sum(temp_wet[i:i+3], axis=0))\n",
    "    li_temp = np.array(li_temp)\n",
    "    min_ind = np.argmin(li_temp, axis=0)\n",
    "    \n",
    "    li_q_t = []\n",
    "    for i in range(0,11,3):\n",
    "        li_q_t.append(np.mean(data_tmp.variables['tmp'][year_in_month+i:year_in_month+i+3,:,:].data, axis=0))\n",
    "\n",
    "    li_q_t = np.array(li_q_t)\n",
    "    \n",
    "    res = np.choose(min_ind, li_q_t)\n",
    "    res[res > 50000] = np.nan\n",
    "    res = np.flip(res,0)\n",
    "    return res"
   ]
  },
  {
   "cell_type": "code",
   "execution_count": null,
   "id": "eab9a64e",
   "metadata": {
    "hidden": true
   },
   "outputs": [],
   "source": [
    "b11 = bio_11(1980)"
   ]
  },
  {
   "cell_type": "code",
   "execution_count": null,
   "id": "bde936ef",
   "metadata": {
    "hidden": true
   },
   "outputs": [],
   "source": [
    "b11.shape"
   ]
  },
  {
   "cell_type": "code",
   "execution_count": null,
   "id": "2d89c517",
   "metadata": {
    "hidden": true
   },
   "outputs": [],
   "source": [
    "plt.imshow(b11);"
   ]
  },
  {
   "cell_type": "code",
   "execution_count": null,
   "id": "8e6bcbb6",
   "metadata": {
    "hidden": true
   },
   "outputs": [],
   "source": [
    "## BIO12 = Annual Precipitation\n",
    "def bio_12(year):\n",
    "    data_pre = open_netcdf(get_filename('pre'))\n",
    "    \n",
    "    year_in_month = (year-1901)*12\n",
    "    \n",
    "    temp_wet =  data_pre.variables['pre'][year_in_month:year_in_month+12,:,:].data\n",
    "    temp_wet[temp_wet > 50000000] = np.nan\n",
    "    temp_wet = np.sum(temp_wet, axis=0)\n",
    "    res = np.flip(temp_wet,0)\n",
    "    return res"
   ]
  },
  {
   "cell_type": "code",
   "execution_count": null,
   "id": "a981534d",
   "metadata": {
    "hidden": true
   },
   "outputs": [],
   "source": [
    "b12 = bio_12(1980)"
   ]
  },
  {
   "cell_type": "code",
   "execution_count": null,
   "id": "df79c263",
   "metadata": {
    "hidden": true
   },
   "outputs": [],
   "source": [
    "b12.shape"
   ]
  },
  {
   "cell_type": "code",
   "execution_count": null,
   "id": "27c29cbe",
   "metadata": {
    "hidden": true
   },
   "outputs": [],
   "source": [
    "plt.imshow(b12);"
   ]
  },
  {
   "cell_type": "code",
   "execution_count": null,
   "id": "3a623df5",
   "metadata": {
    "hidden": true
   },
   "outputs": [],
   "source": [
    "## BIO13 = Precipitation of Wettest Month\n",
    "def bio_13(year):\n",
    "    data_wet = open_netcdf(get_filename('wet'))\n",
    "    data_tmp = open_netcdf(get_filename('pre'))\n",
    "    \n",
    "    year_in_month = (year-1901)*12\n",
    "    \n",
    "    temp_wet =  data_wet.variables['wet'][year_in_month:year_in_month+12,:,:].data\n",
    "    \n",
    "    max_ind = np.argmax(temp_wet, axis=0)\n",
    "        \n",
    "    res = np.choose(max_ind, data_tmp.variables['pre'][year_in_month:year_in_month+12,:,:].data)\n",
    "    res[res > 50000] = np.nan\n",
    "    res = np.flip(res,0)\n",
    "    return res"
   ]
  },
  {
   "cell_type": "code",
   "execution_count": null,
   "id": "068ad6ee",
   "metadata": {
    "hidden": true
   },
   "outputs": [],
   "source": [
    "b13 = bio_13(1980)"
   ]
  },
  {
   "cell_type": "code",
   "execution_count": null,
   "id": "2a9a427d",
   "metadata": {
    "hidden": true
   },
   "outputs": [],
   "source": [
    "b13.shape"
   ]
  },
  {
   "cell_type": "code",
   "execution_count": null,
   "id": "97b72458",
   "metadata": {
    "hidden": true
   },
   "outputs": [],
   "source": [
    "plt.imshow(b13);"
   ]
  },
  {
   "cell_type": "code",
   "execution_count": null,
   "id": "d48d1b13",
   "metadata": {
    "hidden": true
   },
   "outputs": [],
   "source": [
    "## BIO14 = Precipitation of Driest Month\n",
    "def bio_14(year):\n",
    "    data_wet = open_netcdf(get_filename('wet'))\n",
    "    data_tmp = open_netcdf(get_filename('pre'))\n",
    "    \n",
    "    year_in_month = (year-1901)*12\n",
    "    \n",
    "    temp_wet =  data_wet.variables['wet'][year_in_month:year_in_month+12,:,:].data\n",
    "    \n",
    "    min_ind = np.argmin(temp_wet, axis=0)\n",
    "        \n",
    "    res = np.choose(min_ind, data_tmp.variables['pre'][year_in_month:year_in_month+12,:,:].data)\n",
    "    res[res > 50000] = np.nan\n",
    "    res = np.flip(res,0)\n",
    "    return res"
   ]
  },
  {
   "cell_type": "code",
   "execution_count": null,
   "id": "91ccb732",
   "metadata": {
    "hidden": true
   },
   "outputs": [],
   "source": [
    "b14 = bio_14(1980)"
   ]
  },
  {
   "cell_type": "code",
   "execution_count": null,
   "id": "efb341e6",
   "metadata": {
    "hidden": true
   },
   "outputs": [],
   "source": [
    "b14.shape"
   ]
  },
  {
   "cell_type": "code",
   "execution_count": null,
   "id": "dfc479a4",
   "metadata": {
    "hidden": true
   },
   "outputs": [],
   "source": [
    "plt.imshow(b14);"
   ]
  },
  {
   "cell_type": "code",
   "execution_count": null,
   "id": "cfecbc2f",
   "metadata": {
    "hidden": true
   },
   "outputs": [],
   "source": [
    "## BIO15 = Precipitation Seasonality (Coefficient of Variation)\n",
    "def bio_15(year):\n",
    "    val = 'pre'\n",
    "    data = open_netcdf(get_filename(val))\n",
    "    \n",
    "    year_in_month = (year-1901)*12\n",
    "    \n",
    "    d = data.variables[val][year_in_month:year_in_month+12,:,:].data\n",
    "    d[d > 500000] = np.nan\n",
    "    cv = lambda x: np.std(d, ddof=1, axis=0) / np.mean(d, axis=0) * 100\n",
    "    d = cv(d)\n",
    "    res = np.flip(d,0)\n",
    "    return res"
   ]
  },
  {
   "cell_type": "code",
   "execution_count": null,
   "id": "f87300a6",
   "metadata": {
    "hidden": true
   },
   "outputs": [],
   "source": [
    "b15 = bio_15(1980)"
   ]
  },
  {
   "cell_type": "code",
   "execution_count": null,
   "id": "0e29a27d",
   "metadata": {
    "hidden": true
   },
   "outputs": [],
   "source": [
    "b15.shape"
   ]
  },
  {
   "cell_type": "code",
   "execution_count": null,
   "id": "1887716d",
   "metadata": {
    "hidden": true
   },
   "outputs": [],
   "source": [
    "plt.imshow(b15);"
   ]
  },
  {
   "cell_type": "code",
   "execution_count": null,
   "id": "9b268672",
   "metadata": {
    "hidden": true
   },
   "outputs": [],
   "source": [
    "## BIO16 = Precipitation of Wettest Quarter\n",
    "def bio_16(year):\n",
    "    data_wet = open_netcdf(get_filename('wet'))\n",
    "    data_tmp = open_netcdf(get_filename('pre'))\n",
    "    \n",
    "    year_in_month = (year-1901)*12\n",
    "    \n",
    "    temp_wet =  data_wet.variables['wet'][year_in_month:year_in_month+12,:,:].data\n",
    "    \n",
    "    li_temp = []\n",
    "    for i in range(0,11,3):\n",
    "        li_temp.append(np.sum(temp_wet[i:i+3], axis=0))\n",
    "    li_temp = np.array(li_temp)\n",
    "    max_ind = np.argmax(li_temp, axis=0)\n",
    "    \n",
    "    li_q_t = []\n",
    "    for i in range(0,11,3):\n",
    "        li_q_t.append(np.sum(data_tmp.variables['pre'][year_in_month+i:year_in_month+i+3,:,:].data, axis=0))\n",
    "\n",
    "    li_q_t = np.array(li_q_t)\n",
    "    \n",
    "    res = np.choose(max_ind, li_q_t)\n",
    "    res[res > 500000] = np.nan\n",
    "    res = np.flip(res,0)\n",
    "    return res"
   ]
  },
  {
   "cell_type": "code",
   "execution_count": null,
   "id": "cc3273e9",
   "metadata": {
    "hidden": true
   },
   "outputs": [],
   "source": [
    "b16 = bio_16(1980)"
   ]
  },
  {
   "cell_type": "code",
   "execution_count": null,
   "id": "c0f07251",
   "metadata": {
    "hidden": true
   },
   "outputs": [],
   "source": [
    "b16.shape"
   ]
  },
  {
   "cell_type": "code",
   "execution_count": null,
   "id": "32db3cb9",
   "metadata": {
    "hidden": true
   },
   "outputs": [],
   "source": [
    "plt.imshow(b16);"
   ]
  },
  {
   "cell_type": "code",
   "execution_count": null,
   "id": "b5da321f",
   "metadata": {
    "hidden": true
   },
   "outputs": [],
   "source": [
    "## BIO17 = Precipitation of Driest Quarter\n",
    "def bio_17(year):\n",
    "    data_wet = open_netcdf(get_filename('wet'))\n",
    "    data_tmp = open_netcdf(get_filename('pre'))\n",
    "    \n",
    "    year_in_month = (year-1901)*12\n",
    "    \n",
    "    temp_wet =  data_wet.variables['wet'][year_in_month:year_in_month+12,:,:].data\n",
    "    \n",
    "    li_temp = []\n",
    "    for i in range(0,11,3):\n",
    "        li_temp.append(np.sum(temp_wet[i:i+3], axis=0))\n",
    "    li_temp = np.array(li_temp)\n",
    "    min_ind = np.argmin(li_temp, axis=0)\n",
    "    \n",
    "    li_q_t = []\n",
    "    for i in range(0,11,3):\n",
    "        li_q_t.append(np.sum(data_tmp.variables['pre'][year_in_month+i:year_in_month+i+3,:,:].data, axis=0))\n",
    "\n",
    "    li_q_t = np.array(li_q_t)\n",
    "    \n",
    "    res = np.choose(min_ind, li_q_t)\n",
    "    res[res > 500000] = np.nan\n",
    "    res = np.flip(res,0)\n",
    "    return res"
   ]
  },
  {
   "cell_type": "code",
   "execution_count": null,
   "id": "0ecd1787",
   "metadata": {
    "hidden": true
   },
   "outputs": [],
   "source": [
    "b17 = bio_17(1980)"
   ]
  },
  {
   "cell_type": "code",
   "execution_count": null,
   "id": "21237f27",
   "metadata": {
    "hidden": true
   },
   "outputs": [],
   "source": [
    "b17.shape"
   ]
  },
  {
   "cell_type": "code",
   "execution_count": null,
   "id": "98b507f7",
   "metadata": {
    "hidden": true
   },
   "outputs": [],
   "source": [
    "plt.imshow(b17);"
   ]
  },
  {
   "cell_type": "code",
   "execution_count": null,
   "id": "e6fcd830",
   "metadata": {
    "hidden": true
   },
   "outputs": [],
   "source": [
    "## BIO18  Precipitation of Warmest Quarter...\n",
    "def bio_18(year):\n",
    "    data_wet = open_netcdf(get_filename('tmp'))\n",
    "    data_tmp = open_netcdf(get_filename('pre'))\n",
    "    \n",
    "    year_in_month = (year-1901)*12\n",
    "    \n",
    "    temp_wet =  data_wet.variables['tmp'][year_in_month:year_in_month+12,:,:].data\n",
    "    \n",
    "    li_temp = []\n",
    "    for i in range(0,11,3):\n",
    "        li_temp.append(np.sum(temp_wet[i:i+3], axis=0))\n",
    "    li_temp = np.array(li_temp)\n",
    "    max_ind = np.argmax(li_temp, axis=0)\n",
    "    \n",
    "    li_q_t = []\n",
    "    for i in range(0,11,3):\n",
    "        li_q_t.append(np.sum(data_tmp.variables['pre'][year_in_month+i:year_in_month+i+3,:,:].data, axis=0))\n",
    "\n",
    "    li_q_t = np.array(li_q_t)\n",
    "    \n",
    "    res = np.choose(max_ind, li_q_t)\n",
    "    res[res > 500000] = np.nan\n",
    "    res = np.flip(res,0)\n",
    "    return res"
   ]
  },
  {
   "cell_type": "code",
   "execution_count": null,
   "id": "177a4ce2",
   "metadata": {
    "hidden": true
   },
   "outputs": [],
   "source": [
    "b18 = bio_18(1980)"
   ]
  },
  {
   "cell_type": "code",
   "execution_count": null,
   "id": "952cb1ed",
   "metadata": {
    "hidden": true
   },
   "outputs": [],
   "source": [
    "b18.shape"
   ]
  },
  {
   "cell_type": "code",
   "execution_count": null,
   "id": "ad955f95",
   "metadata": {
    "hidden": true
   },
   "outputs": [],
   "source": [
    "plt.imshow(b18);"
   ]
  },
  {
   "cell_type": "code",
   "execution_count": null,
   "id": "31c6dc43",
   "metadata": {
    "hidden": true
   },
   "outputs": [],
   "source": [
    "## BIO19 = Precipitation of Coldest Quarter...\n",
    "def bio_19(year):\n",
    "    data_wet = open_netcdf(get_filename('tmn'))\n",
    "    data_tmp = open_netcdf(get_filename('pre'))\n",
    "    \n",
    "    year_in_month = (year-1901)*12\n",
    "    \n",
    "    temp_wet =  data_wet.variables['tmn'][year_in_month:year_in_month+12,:,:].data\n",
    "    \n",
    "    li_temp = []\n",
    "    for i in range(0,11,3):\n",
    "        li_temp.append(np.sum(temp_wet[i:i+3], axis=0))\n",
    "    li_temp = np.array(li_temp)\n",
    "    min_ind = np.argmin(li_temp, axis=0)\n",
    "    \n",
    "    li_q_t = []\n",
    "    for i in range(0,11,3):\n",
    "        li_q_t.append(np.sum(data_tmp.variables['pre'][year_in_month+i:year_in_month+i+3,:,:].data, axis=0))\n",
    "\n",
    "    li_q_t = np.array(li_q_t)\n",
    "    \n",
    "    res = np.choose(min_ind, li_q_t)\n",
    "    res[res > 500000] = np.nan\n",
    "    res = np.flip(res,0)\n",
    "    return res"
   ]
  },
  {
   "cell_type": "code",
   "execution_count": null,
   "id": "fdf5890f",
   "metadata": {
    "hidden": true
   },
   "outputs": [],
   "source": [
    "b19 = bio_19(1980)"
   ]
  },
  {
   "cell_type": "code",
   "execution_count": null,
   "id": "bc417db5",
   "metadata": {
    "hidden": true
   },
   "outputs": [],
   "source": [
    "b19.shape"
   ]
  },
  {
   "cell_type": "code",
   "execution_count": null,
   "id": "16fd166c",
   "metadata": {
    "hidden": true
   },
   "outputs": [],
   "source": [
    "plt.imshow(b19);"
   ]
  },
  {
   "cell_type": "markdown",
   "id": "47432c0e",
   "metadata": {
    "heading_collapsed": true
   },
   "source": [
    "### Create and save bioclim files for each year"
   ]
  },
  {
   "cell_type": "code",
   "execution_count": null,
   "id": "51bd3609",
   "metadata": {
    "hidden": true
   },
   "outputs": [],
   "source": [
    "for i in range(19):\n",
    "    F\"bio_{i}\"\""
   ]
  },
  {
   "cell_type": "code",
   "execution_count": null,
   "id": "dc2cbd03",
   "metadata": {
    "hidden": true
   },
   "outputs": [],
   "source": [
    "def create_and_save_bioclim():\n",
    "    for i in range(20,122):\n",
    "        st = 1901+i\n",
    "        os.makedirs(f\"../raw_data/bioclim/{st}\")\n",
    "        np.savetxt(f\"/Users/davidschildberger/code/dadavie/planetary_garden/raw_data/bioclim/{st}/bio_1.csv\", \n",
    "                   bio_1(st), delimiter=\",\")\n",
    "        np.savetxt(f\"/Users/davidschildberger/code/dadavie/planetary_garden/raw_data/bioclim/{st}/bio_2.csv\", \n",
    "                   bio_2(st), delimiter=\",\")\n",
    "        np.savetxt(f\"/Users/davidschildberger/code/dadavie/planetary_garden/raw_data/bioclim/{st}/bio_3.csv\", \n",
    "                   bio_3(st), delimiter=\",\")\n",
    "        np.savetxt(f\"/Users/davidschildberger/code/dadavie/planetary_garden/raw_data/bioclim/{st}/bio_4.csv\", \n",
    "                   bio_4(st), delimiter=\",\")\n",
    "        np.savetxt(f\"/Users/davidschildberger/code/dadavie/planetary_garden/raw_data/bioclim/{st}/bio_5.csv\", \n",
    "                   bio_5(st), delimiter=\",\")\n",
    "        np.savetxt(f\"/Users/davidschildberger/code/dadavie/planetary_garden/raw_data/bioclim/{st}/bio_6.csv\", \n",
    "                   bio_6(st), delimiter=\",\")\n",
    "        np.savetxt(f\"/Users/davidschildberger/code/dadavie/planetary_garden/raw_data/bioclim/{st}/bio_7.csv\", \n",
    "                   bio_7(st), delimiter=\",\")\n",
    "        np.savetxt(f\"/Users/davidschildberger/code/dadavie/planetary_garden/raw_data/bioclim/{st}/bio_8.csv\", \n",
    "                   bio_8(st), delimiter=\",\")\n",
    "        np.savetxt(f\"/Users/davidschildberger/code/dadavie/planetary_garden/raw_data/bioclim/{st}/bio_9.csv\", \n",
    "                   bio_9(st), delimiter=\",\")\n",
    "        np.savetxt(f\"/Users/davidschildberger/code/dadavie/planetary_garden/raw_data/bioclim/{st}/bio_10.csv\", \n",
    "                   bio_10(st), delimiter=\",\")\n",
    "        np.savetxt(f\"/Users/davidschildberger/code/dadavie/planetary_garden/raw_data/bioclim/{st}/bio_11.csv\", \n",
    "                   bio_11(st), delimiter=\",\")\n",
    "        np.savetxt(f\"/Users/davidschildberger/code/dadavie/planetary_garden/raw_data/bioclim/{st}/bio_12.csv\", \n",
    "                   bio_12(st), delimiter=\",\")\n",
    "        np.savetxt(f\"/Users/davidschildberger/code/dadavie/planetary_garden/raw_data/bioclim/{st}/bio_13.csv\", \n",
    "                   bio_13(st), delimiter=\",\")\n",
    "        np.savetxt(f\"/Users/davidschildberger/code/dadavie/planetary_garden/raw_data/bioclim/{st}/bio_14.csv\", \n",
    "                   bio_14(st), delimiter=\",\")\n",
    "        np.savetxt(f\"/Users/davidschildberger/code/dadavie/planetary_garden/raw_data/bioclim/{st}/bio_15.csv\", \n",
    "                   bio_15(st), delimiter=\",\")\n",
    "        np.savetxt(f\"/Users/davidschildberger/code/dadavie/planetary_garden/raw_data/bioclim/{st}/bio_16.csv\", \n",
    "                   bio_16(st), delimiter=\",\")\n",
    "        np.savetxt(f\"/Users/davidschildberger/code/dadavie/planetary_garden/raw_data/bioclim/{st}/bio_17.csv\", \n",
    "                   bio_17(st), delimiter=\",\")\n",
    "        np.savetxt(f\"/Users/davidschildberger/code/dadavie/planetary_garden/raw_data/bioclim/{st}/bio_18.csv\", \n",
    "                   bio_18(st), delimiter=\",\")\n",
    "        np.savetxt(f\"/Users/davidschildberger/code/dadavie/planetary_garden/raw_data/bioclim/{st}/bio_19.csv\", \n",
    "                   bio_19(st), delimiter=\",\")"
   ]
  },
  {
   "cell_type": "code",
   "execution_count": null,
   "id": "dc2fcec6",
   "metadata": {
    "hidden": true,
    "scrolled": true
   },
   "outputs": [],
   "source": [
    "create_and_save_bioclim()"
   ]
  },
  {
   "cell_type": "markdown",
   "id": "e06ef707",
   "metadata": {},
   "source": [
    "### Retrieve Bioclim Data for plants"
   ]
  },
  {
   "cell_type": "code",
   "execution_count": null,
   "id": "7421f72e",
   "metadata": {},
   "outputs": [],
   "source": [
    "def get_plant_features():\n",
    "    df = pd.read_csv(\"/Users/davidschildberger/code/dadavie/planetary_garden/raw_data/data_clean_subset_5_cont.csv\", on_bad_lines='skip')\n",
    "    #df = df[['gbifID', 'kingdom', 'species', 'scientificName', 'decimalLatitude', 'decimalLongitude','countryCode', 'year']]\n",
    "    return df"
   ]
  },
  {
   "cell_type": "code",
   "execution_count": null,
   "id": "145b6bf3",
   "metadata": {},
   "outputs": [],
   "source": [
    "def get_bioclim_from_plants(df):\n",
    "    df[['b1', 'b2', 'b3', 'b4', 'b5','b6','b7','b8','b9','b10','b11','b12','b13','b14',\n",
    "            'b15','b16','b17','b18','b19']] = np.nan\n",
    "    for i in range(len(df)):\n",
    "        lat = df.loc[i, 'decimalLatitude']\n",
    "        lon = df.loc[i, 'decimalLongitude']\n",
    "        c_lat = int(round(np.interp(lat, [-89, 89], [359, 0])))  # check order of values here\n",
    "        c_lon = int(round(np.interp(lon, [-179, 179], [1, 719])))\n",
    "        df.loc[i, 'b1'] = b1[c_lat, c_lon]\n",
    "        df.loc[i, 'b2'] = b2[c_lat, c_lon]\n",
    "        df.loc[i, 'b3'] = b3[c_lat, c_lon]\n",
    "        df.loc[i, 'b4'] = b4[c_lat, c_lon]\n",
    "        df.loc[i, 'b5'] = b5[c_lat, c_lon]\n",
    "        df.loc[i, 'b6'] = b6[c_lat, c_lon]\n",
    "        df.loc[i, 'b7'] = b7[c_lat, c_lon]\n",
    "        df.loc[i, 'b8'] = b8[c_lat, c_lon]\n",
    "        df.loc[i, 'b9'] = b9[c_lat, c_lon]\n",
    "        df.loc[i, 'b10'] = b10[c_lat, c_lon]\n",
    "        df.loc[i, 'b11'] = b11[c_lat, c_lon]\n",
    "        df.loc[i, 'b12'] = b12[c_lat, c_lon]\n",
    "        df.loc[i, 'b13'] = b13[c_lat, c_lon]\n",
    "        df.loc[i, 'b14'] = b14[c_lat, c_lon]\n",
    "        df.loc[i, 'b15'] = b15[c_lat, c_lon]\n",
    "        df.loc[i, 'b16'] = b16[c_lat, c_lon]\n",
    "        df.loc[i, 'b17'] = b17[c_lat, c_lon]\n",
    "        df.loc[i, 'b18'] = b18[c_lat, c_lon]\n",
    "        df.loc[i, 'b19'] = b19[c_lat, c_lon]\n",
    "    df.dropna(inplace=True)\n",
    "    df.to_csv(\"/Users/davidschildberger/code/dadavie/planetary_garden/raw_data/plant_data_inkl_bioclim.csv\")\n",
    "    return df"
   ]
  },
  {
   "cell_type": "code",
   "execution_count": null,
   "id": "b0e597c6",
   "metadata": {},
   "outputs": [],
   "source": [
    "df = get_bioclim_from_plants(df_init)\n",
    "df.head()"
   ]
  },
  {
   "cell_type": "markdown",
   "id": "7b433a64",
   "metadata": {},
   "source": [
    "### Retrieve Bioclim Data for plants from files"
   ]
  },
  {
   "cell_type": "code",
   "execution_count": null,
   "id": "bcc340a5",
   "metadata": {},
   "outputs": [],
   "source": [
    "dd = get_plant_features()"
   ]
  },
  {
   "cell_type": "code",
   "execution_count": null,
   "id": "bfa26f37",
   "metadata": {},
   "outputs": [],
   "source": [
    "dd.head()"
   ]
  },
  {
   "cell_type": "code",
   "execution_count": null,
   "id": "5915810b",
   "metadata": {
    "scrolled": true
   },
   "outputs": [],
   "source": [
    "dd.shape"
   ]
  },
  {
   "cell_type": "code",
   "execution_count": null,
   "id": "bd5995aa",
   "metadata": {},
   "outputs": [],
   "source": [
    "dd = dd[dd['year']>1901]"
   ]
  },
  {
   "cell_type": "code",
   "execution_count": null,
   "id": "bc498e95",
   "metadata": {},
   "outputs": [],
   "source": [
    "dd.replace([np.inf, -np.inf], np.nan, inplace=True)\n",
    "# Drop rows with NaN\n",
    "dd.dropna(inplace=True)\n",
    "dd['year'] = dd['year'].astype('int')\n",
    "dd.reset_index(inplace=True, drop=True)"
   ]
  },
  {
   "cell_type": "code",
   "execution_count": null,
   "id": "9b211afe",
   "metadata": {},
   "outputs": [],
   "source": [
    "dd.shape"
   ]
  },
  {
   "cell_type": "code",
   "execution_count": null,
   "id": "bf7fe80f",
   "metadata": {},
   "outputs": [],
   "source": [
    "dd['year'] = dd['year'].astype('int')"
   ]
  },
  {
   "cell_type": "code",
   "execution_count": null,
   "id": "883b7031",
   "metadata": {
    "scrolled": true
   },
   "outputs": [],
   "source": [
    "dd.drop(columns='Unnamed: 0', inplace=True)\n",
    "dd"
   ]
  },
  {
   "cell_type": "markdown",
   "id": "af02fc37",
   "metadata": {
    "heading_collapsed": true
   },
   "source": [
    "#### Dumb version from .csv - Retrieve Bioclim Data for plants from files"
   ]
  },
  {
   "cell_type": "code",
   "execution_count": null,
   "id": "f92848f1",
   "metadata": {
    "hidden": true
   },
   "outputs": [],
   "source": [
    "def get_bioclim_from_plants_with_year(df):\n",
    "    df[['b1', 'b2', 'b3', 'b4', 'b5','b6','b7','b8','b9','b10','b11','b12','b13','b14',\n",
    "            'b15','b16','b17','b18','b19']] = np.nan\n",
    "    for i in range(len(df)):\n",
    "        print(i)\n",
    "        \n",
    "        lat = df.loc[i, 'decimalLatitude']\n",
    "        lon = df.loc[i, 'decimalLongitude']\n",
    "        year = int(df.loc[i, 'year'])\n",
    "        c_lat = int(round(np.interp(lat, [-89, 89], [359, 0])))  # check order of values here\n",
    "        c_lon = int(round(np.interp(lon, [-179, 179], [1, 719])))\n",
    "        \n",
    "        path = f\"/Users/davidschildberger/code/dadavie/planetary_garden/raw_data/bioclim/{year}/\"\n",
    "        \n",
    "        filen = 'bio_1.csv'\n",
    "        bio_1 = np.genfromtxt(path+filen, delimiter=',')\n",
    "        df.loc[i, 'b1'] = bio_1[c_lat, c_lon]\n",
    "        \n",
    "        filen = 'bio_2.csv'\n",
    "        bio_2 = np.genfromtxt(path+filen, delimiter=',')\n",
    "        df.loc[i, 'b2'] = bio_2[c_lat, c_lon]\n",
    "        \n",
    "        filen = 'bio_3.csv'\n",
    "        bio_3 = np.genfromtxt(path+filen, delimiter=',')\n",
    "        df.loc[i, 'b3'] = bio_3[c_lat, c_lon]\n",
    "        \n",
    "        filen = 'bio_4.csv'\n",
    "        bio_4 = np.genfromtxt(path+filen, delimiter=',')\n",
    "        df.loc[i, 'b4'] = bio_4[c_lat, c_lon]\n",
    "        \n",
    "        filen = 'bio_5.csv'\n",
    "        bio_5 = np.genfromtxt(path+filen, delimiter=',')\n",
    "        df.loc[i, 'b5'] = bio_5[c_lat, c_lon]\n",
    "        \n",
    "        filen = 'bio_6.csv'\n",
    "        bio_6 = np.genfromtxt(path+filen, delimiter=',')\n",
    "        df.loc[i, 'b6'] = bio_6[c_lat, c_lon]\n",
    "        \n",
    "        filen = 'bio_7.csv'\n",
    "        bio_7 = np.genfromtxt(path+filen, delimiter=',')\n",
    "        df.loc[i, 'b7'] = bio_7[c_lat, c_lon]\n",
    "        \n",
    "        filen = 'bio_8.csv'\n",
    "        bio_8 = np.genfromtxt(path+filen, delimiter=',')\n",
    "        df.loc[i, 'b8'] = bio_8[c_lat, c_lon]\n",
    "        \n",
    "        filen = 'bio_9.csv'\n",
    "        bio_9 = np.genfromtxt(path+filen, delimiter=',')\n",
    "        df.loc[i, 'b9'] = bio_9[c_lat, c_lon]\n",
    "        \n",
    "        filen = 'bio_10.csv'\n",
    "        bio_10 = np.genfromtxt(path+filen, delimiter=',')\n",
    "        df.loc[i, 'b10'] = bio_10[c_lat, c_lon]\n",
    "        \n",
    "        filen = 'bio_11.csv'\n",
    "        bio_11 = np.genfromtxt(path+filen, delimiter=',')\n",
    "        df.loc[i, 'b11'] = bio_11[c_lat, c_lon]\n",
    "        \n",
    "        filen = 'bio_12.csv'\n",
    "        bio_12 = np.genfromtxt(path+filen, delimiter=',')\n",
    "        df.loc[i, 'b12'] = bio_12[c_lat, c_lon]\n",
    "        \n",
    "        filen = 'bio_13.csv'\n",
    "        bio_13 = np.genfromtxt(path+filen, delimiter=',')\n",
    "        df.loc[i, 'b13'] = bio_13[c_lat, c_lon]\n",
    "        \n",
    "        filen = 'bio_14.csv'\n",
    "        bio_14 = np.genfromtxt(path+filen, delimiter=',')\n",
    "        df.loc[i, 'b14'] = bio_14[c_lat, c_lon]\n",
    "        \n",
    "        filen = 'bio_15.csv'\n",
    "        bio_15 = np.genfromtxt(path+filen, delimiter=',')\n",
    "        df.loc[i, 'b15'] = bio_15[c_lat, c_lon]\n",
    "        \n",
    "        filen = 'bio_16.csv'\n",
    "        bio_16 = np.genfromtxt(path+filen, delimiter=',')\n",
    "        df.loc[i, 'b16'] = bio_16[c_lat, c_lon]\n",
    "        \n",
    "        filen = 'bio_17.csv'\n",
    "        bio_17 = np.genfromtxt(path+filen, delimiter=',')\n",
    "        df.loc[i, 'b17'] = bio_17[c_lat, c_lon]\n",
    "        \n",
    "        filen = 'bio_18.csv'\n",
    "        bio_18 = np.genfromtxt(path+filen, delimiter=',')\n",
    "        df.loc[i, 'b18'] = bio_18[c_lat, c_lon]\n",
    "        \n",
    "        filen = 'bio_19.csv'\n",
    "        bio_19 = np.genfromtxt(path+filen, delimiter=',')\n",
    "        df.loc[i, 'b19'] = bio_19[c_lat, c_lon]\n",
    "        \n",
    "    #df.dropna(inplace=True)\n",
    "    #df.to_csv(\"/Users/davidschildberger/code/dadavie/planetary_garden/raw_data/plant_data_inkl_bioclim.csv\")\n",
    "    return df"
   ]
  },
  {
   "cell_type": "code",
   "execution_count": null,
   "id": "ae9af52a",
   "metadata": {
    "hidden": true
   },
   "outputs": [],
   "source": [
    "bio_clim_df = get_bioclim_from_plants_with_year(dd)"
   ]
  },
  {
   "cell_type": "markdown",
   "id": "3655f6fa",
   "metadata": {},
   "source": [
    "#### Retrieve Bioclim Data for plants from files - .npy file"
   ]
  },
  {
   "cell_type": "code",
   "execution_count": null,
   "id": "76b44f6c",
   "metadata": {},
   "outputs": [],
   "source": [
    "def get_plant_features():\n",
    "    df = pd.read_csv(\"/Users/davidschildberger/code/dadavie/planetary_garden/raw_data/data_clean_5_continent_Animal_plants.csv\", on_bad_lines='skip')\n",
    "    return df"
   ]
  },
  {
   "cell_type": "code",
   "execution_count": null,
   "id": "84017aba",
   "metadata": {},
   "outputs": [],
   "source": [
    "dd_set = get_plant_features()"
   ]
  },
  {
   "cell_type": "code",
   "execution_count": null,
   "id": "5d9c8dbe",
   "metadata": {},
   "outputs": [],
   "source": [
    "dd_set = dd_set[(dd_set['year']>=1901) & (dd_set['year']<=2021)]\n",
    "dd_set.reset_index(inplace=True)"
   ]
  },
  {
   "cell_type": "code",
   "execution_count": null,
   "id": "ff3591aa",
   "metadata": {},
   "outputs": [],
   "source": [
    "dd_set.head()"
   ]
  },
  {
   "cell_type": "code",
   "execution_count": null,
   "id": "09f76a7c",
   "metadata": {},
   "outputs": [],
   "source": [
    "dd_set.shape"
   ]
  },
  {
   "cell_type": "code",
   "execution_count": null,
   "id": "af2bb271",
   "metadata": {},
   "outputs": [],
   "source": [
    "def get_bioclim_from_plants(df):\n",
    "    #df[['b1', 'b2', 'b3', 'b4', 'b5','b6','b7','b8','b9','b10','b11','b12','b13','b14',\n",
    "     #       'b15','b16','b17','b18','b19']] = np.nan\n",
    "    \n",
    "    path = f\"/Users/davidschildberger/code/dadavie/planetary_garden/raw_data/bioclim_np/\"\n",
    "    filen = 'bioclim.npy'\n",
    "    bioclim = np.load(path+filen)\n",
    "    \n",
    "    for i in range(len(df)):\n",
    "        print(i)\n",
    "        \n",
    "        lat = df.loc[i, 'decimalLatitude']\n",
    "        lon = df.loc[i, 'decimalLongitude']\n",
    "        year = int(df.loc[i, 'year'])\n",
    "        \n",
    "        c_lat = int(round(np.interp(lat, [-90, 90], [360, 0])))  # check order of values here\n",
    "        c_lon = int(round(np.interp(lon, [-180, 180], [1, 719])))\n",
    "        lli = []\n",
    "        for j in range(19):\n",
    "            val_temp = bioclim[year-1901, j, c_lat, c_lon]\n",
    "            if np.isnan(val_temp):\n",
    "                try:\n",
    "                    a = ([bioclim[year-1901, j, c_lat-1, c_lon], \n",
    "                           bioclim[year-1901, j, c_lat+1, c_lon],\n",
    "                           bioclim[year-1901, j, c_lat, c_lon-1],\n",
    "                           bioclim[year-1901, j, c_lat, c_lon+1],\n",
    "                            bioclim[year-1901, j, c_lat+1, c_lon+1],\n",
    "                            bioclim[year-1901, j, c_lat-1, c_lon-1],\n",
    "                            bioclim[year-1901, j, c_lat-1, c_lon+1],\n",
    "                            bioclim[year-1901, j, c_lat+1, c_lon-1],\n",
    "                         bioclim[year-1901, j, c_lat+2, c_lon],\n",
    "                         bioclim[year-1901, j, c_lat-2, c_lon],\n",
    "                         bioclim[year-1901, j, c_lat, c_lon-2],\n",
    "                         bioclim[year-1901, j, c_lat, c_lon-2]])\n",
    "                    if np.isnan(a).sum()==12:    \n",
    "                        val_temp = np.nan\n",
    "                    else:\n",
    "                        val_temp = np.nanmean(a)\n",
    "                except:\n",
    "                    continue\n",
    "\n",
    "            df.loc[i, f\"b{j+1}\"] = val_temp\n",
    "    #df.dropna(inplace=True)\n",
    "    df.to_csv(\"/Users/davidschildberger/code/dadavie/planetary_garden/raw_data/data_inkl_bioclim_grs.csv\")\n",
    "    return df"
   ]
  },
  {
   "cell_type": "code",
   "execution_count": null,
   "id": "3f23a1fd",
   "metadata": {
    "scrolled": true
   },
   "outputs": [],
   "source": [
    "ddd = get_bioclim_from_plants(dd_set)\n",
    "ddd.shape"
   ]
  },
  {
   "cell_type": "code",
   "execution_count": null,
   "id": "d93da2d0",
   "metadata": {},
   "outputs": [],
   "source": [
    "ddd=ddd.dropna(subset=['b1'])"
   ]
  },
  {
   "cell_type": "code",
   "execution_count": null,
   "id": "a1cfe5c1",
   "metadata": {},
   "outputs": [],
   "source": [
    "ddd.to_csv(\"/Users/davidschildberger/code/dadavie/planetary_garden/raw_data/data_inkl_bioclim_grs.csv\")"
   ]
  },
  {
   "cell_type": "code",
   "execution_count": null,
   "id": "bd23fcf0",
   "metadata": {},
   "outputs": [],
   "source": [
    "ddd.shape"
   ]
  },
  {
   "cell_type": "markdown",
   "id": "b37188cb",
   "metadata": {},
   "source": [
    "#### Lon/Lat tests"
   ]
  },
  {
   "cell_type": "code",
   "execution_count": null,
   "id": "7591d36a",
   "metadata": {},
   "outputs": [],
   "source": [
    "ddd.loc[27528, 'decimalLatitude']"
   ]
  },
  {
   "cell_type": "code",
   "execution_count": null,
   "id": "18fa9739",
   "metadata": {},
   "outputs": [],
   "source": [
    "ddd.loc[27528, 'decimalLongitude']"
   ]
  },
  {
   "cell_type": "code",
   "execution_count": null,
   "id": "45ec508a",
   "metadata": {},
   "outputs": [],
   "source": [
    "path = f\"/Users/davidschildberger/code/dadavie/planetary_garden/raw_data/bioclim_np/\"\n",
    "filen = 'bioclim.npy'\n",
    "bioclim = np.load(path+filen)"
   ]
  },
  {
   "cell_type": "code",
   "execution_count": null,
   "id": "ca932642",
   "metadata": {},
   "outputs": [],
   "source": [
    "lat = 12.1656677\n",
    "lon = -83.053017\n",
    "\n",
    "c_lat = int(round(np.interp(lat, [-89, 89], [360, 0])))  # check order of values here\n",
    "c_lon = int(round(np.interp(lon, [-179, 179], [1, 719])))"
   ]
  },
  {
   "cell_type": "code",
   "execution_count": null,
   "id": "8ed4923a",
   "metadata": {},
   "outputs": [],
   "source": [
    "c_lat, c_lon"
   ]
  },
  {
   "cell_type": "code",
   "execution_count": null,
   "id": "7b376088",
   "metadata": {},
   "outputs": [],
   "source": [
    "import matplotlib.pyplot as plt\n",
    "plt.imshow(bioclim[0,0,:,:])\n",
    "plt.plot(c_lon,c_lat, marker='.', color=\"red\");"
   ]
  },
  {
   "cell_type": "code",
   "execution_count": null,
   "id": "42fe1fea",
   "metadata": {},
   "outputs": [],
   "source": [
    "bioclim[0,0,c_lat-2,c_lon-2]"
   ]
  },
  {
   "cell_type": "markdown",
   "id": "48a463c1",
   "metadata": {},
   "source": [
    "### Create DF for Clim Dataset of all exising lon/lat vals"
   ]
  },
  {
   "cell_type": "code",
   "execution_count": null,
   "id": "ddfaab00",
   "metadata": {},
   "outputs": [],
   "source": [
    "path = f\"/Users/davidschildberger/code/dadavie/planetary_garden/raw_data/bioclim_np/\"\n",
    "filen = 'bioclim.npy'\n",
    "bioclim = np.load(path+filen)"
   ]
  },
  {
   "cell_type": "code",
   "execution_count": null,
   "id": "e3878629",
   "metadata": {},
   "outputs": [],
   "source": [
    "def get_all_climate_lon_lat():\n",
    "    li_hist_df = []\n",
    "    for g in range(121):\n",
    "        li_clim = []\n",
    "        li_lon_lat_years = []\n",
    "        li_lon_lat = []\n",
    "        li_lon_lon = []\n",
    "        for i in range(360):\n",
    "            for j in range(720):\n",
    "                li_temp = []\n",
    "                for k in range(19):\n",
    "                    li_temp.append(bioclim[g,k,i,j])\n",
    "                li_lon_lat_years.append(f\"{g}\")\n",
    "                li_lon_lat.append(f\"{i}\")\n",
    "                li_lon_lon.append(f\"{j}\")\n",
    "                li_clim.append(li_temp)\n",
    "        aa = np.stack((np.array(li_lon_lat_years), np.array(li_lon_lat), np.array(li_lon_lon)))\n",
    "        aa = np.transpose(aa)\n",
    "        cc = np.array(li_clim)\n",
    "        uu = np.hstack((aa, cc))\n",
    "        xx = pd.DataFrame(uu)\n",
    "        xx = xx[xx[3].str.contains(\"nan\")==False]\n",
    "        li_hist_df.append(xx.to_numpy())\n",
    "    return np.array(li_hist_df)"
   ]
  },
  {
   "cell_type": "code",
   "execution_count": null,
   "id": "4590bf97",
   "metadata": {},
   "outputs": [],
   "source": [
    "d = get_all_climate_lon_lat()\n",
    "d.shape"
   ]
  },
  {
   "cell_type": "code",
   "execution_count": null,
   "id": "26f1fd0f",
   "metadata": {},
   "outputs": [],
   "source": [
    "pd.DataFrame(d[0])"
   ]
  },
  {
   "cell_type": "code",
   "execution_count": null,
   "id": "fc78cb40",
   "metadata": {},
   "outputs": [],
   "source": [
    "with load(f\"/Users/davidschildberger/code/dadavie/planetary_garden/raw_data/world_history_bioclim_allLatLon.npy\") as f:\n",
    "        np.save(f, d)"
   ]
  },
  {
   "cell_type": "markdown",
   "id": "8d7d85e9",
   "metadata": {},
   "source": [
    "### Create DF for Soilgrid Dataset of all exising lon/lat vals"
   ]
  },
  {
   "cell_type": "code",
   "execution_count": null,
   "id": "20c3a7d4",
   "metadata": {},
   "outputs": [],
   "source": [
    "data = np.load(\"/Users/davidschildberger/code/dadavie/planetary_garden/raw_data/soil_data.npy\")"
   ]
  },
  {
   "cell_type": "code",
   "execution_count": null,
   "id": "5d43f327",
   "metadata": {},
   "outputs": [],
   "source": [
    "data.shape"
   ]
  },
  {
   "cell_type": "code",
   "execution_count": null,
   "id": "7b8c38bf",
   "metadata": {},
   "outputs": [],
   "source": [
    "def get_all_soilgrid_lon_lat():\n",
    "    li_clim = []\n",
    "    li_lon_lat = []\n",
    "    li_lon_lon = []\n",
    "    for i in range(360):\n",
    "        for j in range(720):\n",
    "            li_temp = []\n",
    "            for k in range(60):\n",
    "                li_temp.append(data[k,i,j])\n",
    "            li_lon_lat.append(f\"{i}\")\n",
    "            li_lon_lon.append(f\"{j}\")\n",
    "            li_clim.append(li_temp)\n",
    "    aa = np.column_stack((li_lon_lat, li_lon_lon, li_clim))\n",
    "    xx = pd.DataFrame(aa)\n",
    "    xx.drop(xx[xx[2] == '0'].index, inplace = True)\n",
    "    return xx"
   ]
  },
  {
   "cell_type": "code",
   "execution_count": null,
   "id": "3a0ca8bc",
   "metadata": {
    "scrolled": true
   },
   "outputs": [],
   "source": [
    "bx = get_all_soilgrid_lon_lat()\n",
    "bx.shape"
   ]
  },
  {
   "cell_type": "code",
   "execution_count": null,
   "id": "13b0137c",
   "metadata": {},
   "outputs": [],
   "source": [
    "with open(\"/Users/davidschildberger/code/dadavie/planetary_garden/raw_data/world_soilgrid_allLatLon.npy\", 'wb') as f:\n",
    "        np.save(f, bx)"
   ]
  },
  {
   "cell_type": "markdown",
   "id": "b6ea58d4",
   "metadata": {},
   "source": [
    "### Merge bioclim and soilgrid df in order to interpolate soilgrid"
   ]
  },
  {
   "cell_type": "code",
   "execution_count": null,
   "id": "16062c3a",
   "metadata": {},
   "outputs": [],
   "source": [
    "data = np.load(\"/Users/davidschildberger/code/dadavie/planetary_garden/raw_data/soil_data.npy\")"
   ]
  },
  {
   "cell_type": "code",
   "execution_count": null,
   "id": "49280eea",
   "metadata": {},
   "outputs": [],
   "source": [
    "data.shape"
   ]
  },
  {
   "cell_type": "code",
   "execution_count": null,
   "id": "240cf383",
   "metadata": {},
   "outputs": [],
   "source": [
    "def get_all_climate_grid_lon_lat():\n",
    "    li_clim = []\n",
    "    li_lon_lat = []\n",
    "    li_lon_lon = []\n",
    "    for i in range(360):\n",
    "        for j in range(720):\n",
    "            li_temp = []\n",
    "            for k in range(19):\n",
    "                li_temp.append(bioclim[0,k,i,j])\n",
    "            for u in range(60):\n",
    "                li_temp.append(data[k,i,j])\n",
    "            \n",
    "            li_lon_lat.append(f\"{i}\")\n",
    "            li_lon_lon.append(f\"{j}\")\n",
    "            li_clim.append(li_temp)\n",
    "                \n",
    "    aa = np.stack((np.array(li_lon_lat), np.array(li_lon_lon)))\n",
    "    aa = np.transpose(aa)\n",
    "    cc = np.array(li_clim)\n",
    "    uu = np.hstack((aa, cc))\n",
    "    xx = pd.DataFrame(uu)\n",
    "    xx = xx[xx[3].str.contains(\"nan\")==False]\n",
    "    xx.columns = [np.arange(0,81)]\n",
    "    xx = xx.drop(xx.columns[np.arange(2,21)],axis = 1)\n",
    "    xx.columns = [np.arange(0,62)]\n",
    "    return xx"
   ]
  },
  {
   "cell_type": "code",
   "execution_count": null,
   "id": "be8b62f8",
   "metadata": {
    "scrolled": true
   },
   "outputs": [],
   "source": [
    "bb = get_all_climate_grid_lon_lat()\n",
    "bb.shape"
   ]
  },
  {
   "cell_type": "code",
   "execution_count": null,
   "id": "b863b3da",
   "metadata": {},
   "outputs": [],
   "source": [
    "with open(\"/Users/davidschildberger/code/dadavie/planetary_garden/raw_data/world_soilgrid_allLatLon_withzeros.npy\", 'wb') as f:\n",
    "        np.save(f, bx)"
   ]
  },
  {
   "cell_type": "markdown",
   "id": "54ab816c",
   "metadata": {},
   "source": [
    "### Read .csv and dump it into numpy"
   ]
  },
  {
   "cell_type": "markdown",
   "id": "4dffb0c5",
   "metadata": {},
   "source": [
    "#### pear year"
   ]
  },
  {
   "cell_type": "code",
   "execution_count": null,
   "id": "6259de14",
   "metadata": {},
   "outputs": [],
   "source": [
    "def read_csv_store_npy():\n",
    "    for j in range(1901,2022):\n",
    "        print(j)\n",
    "        path = f\"/Users/davidschildberger/code/dadavie/planetary_garden/raw_data/bioclim/{j}/\"\n",
    "        fi_n = os.listdir(path)\n",
    "        my_data = []\n",
    "        for l in fi_n:\n",
    "            my_data.append(np.genfromtxt(path+l, delimiter=','))\n",
    "    with open(f\"/Users/davidschildberger/code/dadavie/planetary_garden/raw_data/bioclim_np/yearly/{j}.npy\", 'wb') as f:\n",
    "        np.save(f, my_data)\n",
    "    return np.array(my_data)"
   ]
  },
  {
   "cell_type": "code",
   "execution_count": null,
   "id": "acdb868c",
   "metadata": {},
   "outputs": [],
   "source": [
    "ar = read_csv_store_npy()\n",
    "ar.shape"
   ]
  },
  {
   "cell_type": "markdown",
   "id": "5713acd2",
   "metadata": {},
   "source": [
    "#### all in one file"
   ]
  },
  {
   "cell_type": "code",
   "execution_count": null,
   "id": "1821cad2",
   "metadata": {},
   "outputs": [],
   "source": [
    "def read_csv_store_npy():\n",
    "    all_dat = []\n",
    "    for j in range(1901,2022):\n",
    "        print(j)\n",
    "        path = f\"/Users/davidschildberger/code/dadavie/planetary_garden/raw_data/bioclim/{j}/\"\n",
    "        fi_n = os.listdir(path)\n",
    "        my_data = []\n",
    "        for l in fi_n:\n",
    "            my_data.append(np.genfromtxt(path+l, delimiter=','))\n",
    "        all_dat.append(my_data)\n",
    "        \n",
    "    with open(f\"/Users/davidschildberger/code/dadavie/planetary_garden/raw_data/bioclim_np/Bioclim.npy\", 'wb') as f:\n",
    "        np.save(f, np.array(all_dat))\n",
    "    return np.array(all_dat)"
   ]
  },
  {
   "cell_type": "code",
   "execution_count": null,
   "id": "72bed0ec",
   "metadata": {
    "scrolled": true
   },
   "outputs": [],
   "source": [
    "read_csv_store_npy()"
   ]
  },
  {
   "cell_type": "markdown",
   "id": "19330465",
   "metadata": {},
   "source": [
    "# GBIF - multimedia - DF inkl. scraping"
   ]
  },
  {
   "cell_type": "markdown",
   "id": "2e450c91",
   "metadata": {},
   "source": [
    "## Merge DFs"
   ]
  },
  {
   "cell_type": "code",
   "execution_count": 75,
   "id": "5d5c4b1e",
   "metadata": {},
   "outputs": [
    {
     "name": "stderr",
     "output_type": "stream",
     "text": [
      "/var/folders/jj/6lhmrlt15xs297nzzcs7734w0000gn/T/ipykernel_18579/3636303481.py:1: DtypeWarning: Columns (8) have mixed types. Specify dtype option on import or set low_memory=False.\n",
      "  df_m = pd.read_csv('/Users/davidschildberger/code/dadavie/planetary_garden/raw_data/multimedia.txt', sep='\\t', index_col='gbifID')\n"
     ]
    }
   ],
   "source": [
    "df_m = pd.read_csv('/Users/davidschildberger/code/dadavie/planetary_garden/raw_data/multimedia.txt', sep='\\t', index_col='gbifID')"
   ]
  },
  {
   "cell_type": "code",
   "execution_count": 3,
   "id": "ae038577",
   "metadata": {},
   "outputs": [],
   "source": [
    "df_m = df_m[['identifier']]"
   ]
  },
  {
   "cell_type": "code",
   "execution_count": 4,
   "id": "7088b442",
   "metadata": {},
   "outputs": [],
   "source": [
    "df = pd.read_csv(\"/Users/davidschildberger/code/dadavie/planetary_garden/raw_data/data_inkl_bioclim_grs.csv\")\n",
    "df = df.set_index('gbifID')"
   ]
  },
  {
   "cell_type": "code",
   "execution_count": 5,
   "id": "53bc30d9",
   "metadata": {},
   "outputs": [],
   "source": [
    "media_df = df.merge(df_m,  left_index=True, right_index=True)"
   ]
  },
  {
   "cell_type": "code",
   "execution_count": 6,
   "id": "4eaeb33f",
   "metadata": {},
   "outputs": [
    {
     "data": {
      "text/plain": [
       "(207948, 38)"
      ]
     },
     "execution_count": 6,
     "metadata": {},
     "output_type": "execute_result"
    }
   ],
   "source": [
    "media_df.shape"
   ]
  },
  {
   "cell_type": "code",
   "execution_count": 7,
   "id": "18b5fe25",
   "metadata": {},
   "outputs": [
    {
     "data": {
      "text/plain": [
       "(207948, 1)"
      ]
     },
     "execution_count": 7,
     "metadata": {},
     "output_type": "execute_result"
    }
   ],
   "source": [
    "media_df = media_df[['identifier']]\n",
    "media_df.shape"
   ]
  },
  {
   "cell_type": "code",
   "execution_count": 8,
   "id": "dceb7ea8",
   "metadata": {},
   "outputs": [
    {
     "data": {
      "text/html": [
       "<div>\n",
       "<style scoped>\n",
       "    .dataframe tbody tr th:only-of-type {\n",
       "        vertical-align: middle;\n",
       "    }\n",
       "\n",
       "    .dataframe tbody tr th {\n",
       "        vertical-align: top;\n",
       "    }\n",
       "\n",
       "    .dataframe thead th {\n",
       "        text-align: right;\n",
       "    }\n",
       "</style>\n",
       "<table border=\"1\" class=\"dataframe\">\n",
       "  <thead>\n",
       "    <tr style=\"text-align: right;\">\n",
       "      <th></th>\n",
       "      <th>identifier</th>\n",
       "    </tr>\n",
       "    <tr>\n",
       "      <th>gbifID</th>\n",
       "      <th></th>\n",
       "    </tr>\n",
       "  </thead>\n",
       "  <tbody>\n",
       "    <tr>\n",
       "      <th>196091903</th>\n",
       "      <td>http://www1.pms-lj.si/animalia/media/Ctenophth...</td>\n",
       "    </tr>\n",
       "    <tr>\n",
       "      <th>231538729</th>\n",
       "      <td>https://app.coeli.cat/coeli/ICUB-NAT/HeritageO...</td>\n",
       "    </tr>\n",
       "    <tr>\n",
       "      <th>231538730</th>\n",
       "      <td>https://app.coeli.cat/coeli/ICUB-NAT/HeritageO...</td>\n",
       "    </tr>\n",
       "    <tr>\n",
       "      <th>231539510</th>\n",
       "      <td>https://app.coeli.cat/coeli/ICUB-NAT/HeritageO...</td>\n",
       "    </tr>\n",
       "    <tr>\n",
       "      <th>231539622</th>\n",
       "      <td>https://app.coeli.cat/coeli/ICUB-NAT/HeritageO...</td>\n",
       "    </tr>\n",
       "    <tr>\n",
       "      <th>...</th>\n",
       "      <td>...</td>\n",
       "    </tr>\n",
       "    <tr>\n",
       "      <th>3981058908</th>\n",
       "      <td>https://data.nhm.ac.uk/media/6b7e383a-a772-42f...</td>\n",
       "    </tr>\n",
       "    <tr>\n",
       "      <th>3981058908</th>\n",
       "      <td>https://data.nhm.ac.uk/media/527a3e51-3225-420...</td>\n",
       "    </tr>\n",
       "    <tr>\n",
       "      <th>3981058908</th>\n",
       "      <td>https://data.nhm.ac.uk/media/720f85ea-d413-4a0...</td>\n",
       "    </tr>\n",
       "    <tr>\n",
       "      <th>3981058908</th>\n",
       "      <td>https://data.nhm.ac.uk/media/4d68bbc4-47cf-47b...</td>\n",
       "    </tr>\n",
       "    <tr>\n",
       "      <th>3981058908</th>\n",
       "      <td>https://data.nhm.ac.uk/media/d646d5a2-2cce-481...</td>\n",
       "    </tr>\n",
       "  </tbody>\n",
       "</table>\n",
       "<p>207948 rows × 1 columns</p>\n",
       "</div>"
      ],
      "text/plain": [
       "                                                   identifier\n",
       "gbifID                                                       \n",
       "196091903   http://www1.pms-lj.si/animalia/media/Ctenophth...\n",
       "231538729   https://app.coeli.cat/coeli/ICUB-NAT/HeritageO...\n",
       "231538730   https://app.coeli.cat/coeli/ICUB-NAT/HeritageO...\n",
       "231539510   https://app.coeli.cat/coeli/ICUB-NAT/HeritageO...\n",
       "231539622   https://app.coeli.cat/coeli/ICUB-NAT/HeritageO...\n",
       "...                                                       ...\n",
       "3981058908  https://data.nhm.ac.uk/media/6b7e383a-a772-42f...\n",
       "3981058908  https://data.nhm.ac.uk/media/527a3e51-3225-420...\n",
       "3981058908  https://data.nhm.ac.uk/media/720f85ea-d413-4a0...\n",
       "3981058908  https://data.nhm.ac.uk/media/4d68bbc4-47cf-47b...\n",
       "3981058908  https://data.nhm.ac.uk/media/d646d5a2-2cce-481...\n",
       "\n",
       "[207948 rows x 1 columns]"
      ]
     },
     "execution_count": 8,
     "metadata": {},
     "output_type": "execute_result"
    }
   ],
   "source": [
    "media_df"
   ]
  },
  {
   "cell_type": "code",
   "execution_count": 9,
   "id": "32e0a39d",
   "metadata": {},
   "outputs": [],
   "source": [
    "media_df.to_csv(\"/Users/davidschildberger/code/dadavie/planetary_garden/raw_data/url_df_selection.csv\")"
   ]
  },
  {
   "cell_type": "markdown",
   "id": "d94bb005",
   "metadata": {},
   "source": [
    "## Download Images, crop and resize"
   ]
  },
  {
   "cell_type": "code",
   "execution_count": null,
   "id": "70ec1ee1",
   "metadata": {},
   "outputs": [],
   "source": [
    "def crop_max_square(pil_img):\n",
    "    return crop_center(pil_img, min(pil_img.size), min(pil_img.size))"
   ]
  },
  {
   "cell_type": "code",
   "execution_count": null,
   "id": "c9d43967",
   "metadata": {},
   "outputs": [],
   "source": [
    "def crop_center(pil_img, crop_width, crop_height):\n",
    "    img_width, img_height = pil_img.size\n",
    "    return pil_img.crop(((img_width - crop_width) // 2,\n",
    "                         (img_height - crop_height) // 2,\n",
    "                         (img_width + crop_width) // 2,\n",
    "                         (img_height + crop_height) // 2))"
   ]
  },
  {
   "cell_type": "markdown",
   "id": "334989a9",
   "metadata": {},
   "source": [
    "### scrap images - check if already there beforehand"
   ]
  },
  {
   "cell_type": "code",
   "execution_count": null,
   "id": "40bfb8c9",
   "metadata": {},
   "outputs": [],
   "source": [
    "fold_n = '/Users/davidschildberger/code/dadavie/planetary_garden/raw_data/images/'\n",
    "fi_n = os.listdir(fold_n)\n",
    "fi_n.remove('.DS_Store')\n",
    "files = [os.path.splitext(filename)[0] for filename in os.listdir(fold_n)]\n",
    "\n",
    "media_df_nodupl = media_df[~media_df.index.duplicated(keep='first')]\n",
    "list_indexes = media_df_nodupl.index\n",
    "diff_li = list(set(files) - set(list_indexes))\n",
    "random.shuffle(diff_li)\n",
    "\n",
    "for i in range(0, 1000):\n",
    "    r = requests.get(media_df_nodupl.loc[int(diff_li[i]),'identifier'], stream=True) #Get request on full_url\n",
    "    try:\n",
    "        if r.status_code == 200:                     #200 status code = OK\n",
    "            with open(f\"/Users/davidschildberger/code/dadavie/planetary_garden/raw_data/images/{int(diff_li[i])}.jpg\", 'wb') as f: \n",
    "                r.raw.decode_content = True\n",
    "                shutil.copyfileobj(r.raw, f)\n",
    "       \n",
    "    except:\n",
    "        continue\n",
    "        \n",
    "    time.sleep(random.uniform(0.5, 1))"
   ]
  },
  {
   "cell_type": "markdown",
   "id": "3caa109e",
   "metadata": {},
   "source": [
    "### crop and scale images"
   ]
  },
  {
   "cell_type": "code",
   "execution_count": 152,
   "id": "2cc7fad5",
   "metadata": {},
   "outputs": [],
   "source": [
    "fi_n = os.listdir(fold_n)\n",
    "fi_n.remove('.DS_Store')\n",
    "\n",
    "for i in range(len(fi_n)):\n",
    "    image = Image.open(f\"/Users/davidschildberger/code/dadavie/planetary_garden/raw_data/images/{fi_n[i]}\")\n",
    "    image = crop_max_square(image).resize((300, 300))\n",
    "    image.save(f\"/Users/davidschildberger/code/dadavie/planetary_garden/raw_data/images/{fi_n[i]}\") "
   ]
  },
  {
   "cell_type": "code",
   "execution_count": null,
   "id": "0e7bdfb3",
   "metadata": {},
   "outputs": [],
   "source": []
  }
 ],
 "metadata": {
  "kernelspec": {
   "display_name": "Python 3 (ipykernel)",
   "language": "python",
   "name": "python3"
  },
  "language_info": {
   "codemirror_mode": {
    "name": "ipython",
    "version": 3
   },
   "file_extension": ".py",
   "mimetype": "text/x-python",
   "name": "python",
   "nbconvert_exporter": "python",
   "pygments_lexer": "ipython3",
   "version": "3.10.6"
  },
  "toc": {
   "base_numbering": 1,
   "nav_menu": {},
   "number_sections": true,
   "sideBar": true,
   "skip_h1_title": false,
   "title_cell": "Table of Contents",
   "title_sidebar": "Contents",
   "toc_cell": false,
   "toc_position": {},
   "toc_section_display": true,
   "toc_window_display": false
  }
 },
 "nbformat": 4,
 "nbformat_minor": 5
}
