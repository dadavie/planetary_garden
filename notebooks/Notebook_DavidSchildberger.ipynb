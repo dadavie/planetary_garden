{
 "cells": [
  {
   "cell_type": "code",
   "execution_count": 3,
   "id": "d31cbc64",
   "metadata": {},
   "outputs": [],
   "source": [
    "from latlon_utils import get_climate"
   ]
  },
  {
   "cell_type": "code",
   "execution_count": 2,
   "id": "edebd575",
   "metadata": {},
   "outputs": [],
   "source": [
    "import pandas as pd\n",
    "import numpy as np"
   ]
  },
  {
   "cell_type": "code",
   "execution_count": 6,
   "id": "fb732231",
   "metadata": {},
   "outputs": [],
   "source": [
    "!export LATLONDATA=$Users/davidschildberger/03_LeWagon_Datasets/WorldClim/wc2_tavg_10m"
   ]
  },
  {
   "cell_type": "code",
   "execution_count": 10,
   "id": "53b5a973",
   "metadata": {
    "collapsed": true
   },
   "outputs": [
    {
     "name": "stdout",
     "output_type": "stream",
     "text": [
      "Requirement already satisfied: xarray in /Users/davidschildberger/.pyenv/versions/3.10.6/envs/planetary_garden/lib/python3.10/site-packages (2022.12.0)\n",
      "Requirement already satisfied: pandas>=1.3 in /Users/davidschildberger/.pyenv/versions/3.10.6/envs/planetary_garden/lib/python3.10/site-packages (from xarray) (1.5.2)\n",
      "Requirement already satisfied: packaging>=21.3 in /Users/davidschildberger/.pyenv/versions/3.10.6/envs/planetary_garden/lib/python3.10/site-packages (from xarray) (21.3)\n",
      "Requirement already satisfied: numpy>=1.20 in /Users/davidschildberger/.pyenv/versions/3.10.6/envs/planetary_garden/lib/python3.10/site-packages (from xarray) (1.23.5)\n",
      "Requirement already satisfied: pyparsing!=3.0.5,>=2.0.2 in /Users/davidschildberger/.pyenv/versions/3.10.6/envs/planetary_garden/lib/python3.10/site-packages (from packaging>=21.3->xarray) (3.0.9)\n",
      "Requirement already satisfied: pytz>=2020.1 in /Users/davidschildberger/.pyenv/versions/3.10.6/envs/planetary_garden/lib/python3.10/site-packages (from pandas>=1.3->xarray) (2022.6)\n",
      "Requirement already satisfied: python-dateutil>=2.8.1 in /Users/davidschildberger/.pyenv/versions/3.10.6/envs/planetary_garden/lib/python3.10/site-packages (from pandas>=1.3->xarray) (2.8.2)\n",
      "Requirement already satisfied: six>=1.5 in /Users/davidschildberger/.pyenv/versions/3.10.6/envs/planetary_garden/lib/python3.10/site-packages (from python-dateutil>=2.8.1->pandas>=1.3->xarray) (1.16.0)\n",
      "Collecting rasterio\n",
      "  Downloading rasterio-1.3.4-cp310-cp310-macosx_10_15_x86_64.whl (30.9 MB)\n",
      "\u001b[2K     \u001b[90m━━━━━━━━━━━━━━━━━━━━━━━━━━━━━━━━━━━━━━━━\u001b[0m \u001b[32m30.9/30.9 MB\u001b[0m \u001b[31m4.9 MB/s\u001b[0m eta \u001b[36m0:00:00\u001b[0m00:01\u001b[0m00:01\u001b[0m\n",
      "\u001b[?25hCollecting affine\n",
      "  Downloading affine-2.3.1-py2.py3-none-any.whl (16 kB)\n",
      "Collecting click>=4.0\n",
      "  Using cached click-8.1.3-py3-none-any.whl (96 kB)\n",
      "Collecting click-plugins\n",
      "  Downloading click_plugins-1.1.1-py2.py3-none-any.whl (7.5 kB)\n",
      "Collecting cligj>=0.5\n",
      "  Downloading cligj-0.7.2-py3-none-any.whl (7.1 kB)\n",
      "Requirement already satisfied: attrs in /Users/davidschildberger/.pyenv/versions/3.10.6/envs/planetary_garden/lib/python3.10/site-packages (from rasterio) (22.1.0)\n",
      "Requirement already satisfied: certifi in /Users/davidschildberger/.pyenv/versions/3.10.6/envs/planetary_garden/lib/python3.10/site-packages (from rasterio) (2022.9.24)\n",
      "Requirement already satisfied: setuptools in /Users/davidschildberger/.pyenv/versions/3.10.6/envs/planetary_garden/lib/python3.10/site-packages (from rasterio) (65.5.1)\n",
      "Requirement already satisfied: numpy>=1.18 in /Users/davidschildberger/.pyenv/versions/3.10.6/envs/planetary_garden/lib/python3.10/site-packages (from rasterio) (1.23.5)\n",
      "Collecting snuggs>=1.4.1\n",
      "  Downloading snuggs-1.4.7-py3-none-any.whl (5.4 kB)\n",
      "Requirement already satisfied: pyparsing>=2.1.6 in /Users/davidschildberger/.pyenv/versions/3.10.6/envs/planetary_garden/lib/python3.10/site-packages (from snuggs>=1.4.1->rasterio) (3.0.9)\n",
      "Installing collected packages: affine, snuggs, click, cligj, click-plugins, rasterio\n",
      "Successfully installed affine-2.3.1 click-8.1.3 click-plugins-1.1.1 cligj-0.7.2 rasterio-1.3.4 snuggs-1.4.7\n"
     ]
    }
   ],
   "source": [
    "!pip install xarray\n",
    "!pip install rasterio"
   ]
  },
  {
   "cell_type": "code",
   "execution_count": 11,
   "id": "f590f9db",
   "metadata": {},
   "outputs": [
    {
     "name": "stdout",
     "output_type": "stream",
     "text": [
      "Downloading http://biogeo.ucdavis.edu/data/worldclim/v2.1/base/wc2.1_10m_tavg.zip\n",
      "Extracting /var/folders/jj/6lhmrlt15xs297nzzcs7734w0000gn/T/worldclim_psugasm7/wc2.1_10m_tavg.zip\n",
      "Saving as netcdf file to /Users/davidschildberger/.local/share/latlon_utils/tavg_10m.nc\n"
     ]
    },
    {
     "name": "stderr",
     "output_type": "stream",
     "text": [
      "/Users/davidschildberger/.pyenv/versions/3.10.6/envs/planetary_garden/lib/python3.10/site-packages/netCDF4/utils.py:76: RuntimeWarning: overflow encountered in multiply\n",
      "  datout = np.around(scale*data)/scale\n"
     ]
    },
    {
     "name": "stdout",
     "output_type": "stream",
     "text": [
      "Downloading http://biogeo.ucdavis.edu/data/worldclim/v2.1/base/wc2.1_10m_prec.zip\n",
      "Extracting /var/folders/jj/6lhmrlt15xs297nzzcs7734w0000gn/T/worldclim_2bwagfw6/wc2.1_10m_prec.zip\n",
      "Saving as netcdf file to /Users/davidschildberger/.local/share/latlon_utils/prec_10m.nc\n"
     ]
    },
    {
     "data": {
      "text/plain": [
       "tavg  jan     0.053223\n",
       "      feb     0.958252\n",
       "      mar     4.760742\n",
       "      apr     8.333008\n",
       "      mai    13.220520\n",
       "      jun    16.089722\n",
       "      jul    17.987976\n",
       "      aug    17.847229\n",
       "      sep    13.790222\n",
       "      oct     8.807007\n",
       "      nov     4.054260\n",
       "      dec     1.496521\n",
       "      djf     0.835999\n",
       "      mam     8.771423\n",
       "      jja    17.308309\n",
       "      son     8.883830\n",
       "      ann     8.949890\n",
       "prec  jan    48.000000\n",
       "      feb    42.000000\n",
       "      mar    44.000000\n",
       "      apr    44.000000\n",
       "      mai    56.000000\n",
       "      jun    68.000000\n",
       "      jul    65.000000\n",
       "      aug    52.000000\n",
       "      sep    47.000000\n",
       "      oct    52.000000\n",
       "      nov    52.000000\n",
       "      dec    59.000000\n",
       "      djf    49.666667\n",
       "      mam    48.000000\n",
       "      jja    61.666667\n",
       "      son    50.333333\n",
       "      ann    52.416667\n",
       "Name: (50, 10), dtype: float64"
      ]
     },
     "execution_count": 11,
     "metadata": {},
     "output_type": "execute_result"
    }
   ],
   "source": [
    "get_climate(50, 10)"
   ]
  },
  {
   "cell_type": "code",
   "execution_count": null,
   "id": "2921d87c",
   "metadata": {},
   "outputs": [],
   "source": []
  }
 ],
 "metadata": {
  "kernelspec": {
   "display_name": "Python 3 (ipykernel)",
   "language": "python",
   "name": "python3"
  },
  "language_info": {
   "codemirror_mode": {
    "name": "ipython",
    "version": 3
   },
   "file_extension": ".py",
   "mimetype": "text/x-python",
   "name": "python",
   "nbconvert_exporter": "python",
   "pygments_lexer": "ipython3",
   "version": "3.10.6"
  },
  "toc": {
   "base_numbering": 1,
   "nav_menu": {},
   "number_sections": true,
   "sideBar": true,
   "skip_h1_title": false,
   "title_cell": "Table of Contents",
   "title_sidebar": "Contents",
   "toc_cell": false,
   "toc_position": {},
   "toc_section_display": true,
   "toc_window_display": false
  }
 },
 "nbformat": 4,
 "nbformat_minor": 5
}
