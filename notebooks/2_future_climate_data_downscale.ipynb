{
 "cells": [
  {
   "cell_type": "markdown",
   "id": "252538d4",
   "metadata": {},
   "source": [
    "# Import Packages"
   ]
  },
  {
   "cell_type": "code",
   "execution_count": null,
   "id": "7162c4b4",
   "metadata": {
    "code_folding": []
   },
   "outputs": [],
   "source": [
    "import rasterio\n",
    "from rasterio.enums import Resampling\n",
    "import matplotlib.pyplot as plt\n",
    "%matplotlib inline\n",
    "import pandas as pd"
   ]
  },
  {
   "cell_type": "markdown",
   "id": "8f912f4e",
   "metadata": {},
   "source": [
    "# Downscale"
   ]
  },
  {
   "cell_type": "code",
   "execution_count": null,
   "id": "e6826208",
   "metadata": {
    "code_folding": []
   },
   "outputs": [],
   "source": [
    "# Register GDAL format drivers and configuration options with a context manager.\n",
    "def downscale_geo_tiff_by_factor(input_img_path,output_img_path,scale_factor=3):\n",
    "    with rasterio.Env():\n",
    "        with rasterio.open(input_img_path) as input_dataset:\n",
    "            # scale image transform\n",
    "            transform = input_dataset.transform * input_dataset.transform.scale(\n",
    "                scale_factor,  # rows\n",
    "                scale_factor  # cols\n",
    "            )\n",
    "            out_shape=(int(input_dataset.height/scale_factor), int(input_dataset.width/scale_factor))\n",
    "            profile = input_dataset.profile\n",
    "            profile.update(transform=transform, width=out_shape[1], height=out_shape[0])\n",
    "            band_number = input_dataset.read().shape[0]\n",
    "            with rasterio.open(output_img_path, 'w', **profile) as output_dataset:\n",
    "                for i in range(band_number):\n",
    "                    data = input_dataset.read(i+1, out_shape=out_shape, resampling=Resampling.bilinear)\n",
    "                    output_dataset.write(data, i+1)"
   ]
  },
  {
   "cell_type": "code",
   "execution_count": null,
   "id": "cf6cdffd",
   "metadata": {},
   "outputs": [],
   "source": [
    "# Input file name structure\n",
    "data_path = \"../raw_data/wc2021-2100/\"\n",
    "feature_names = [\"tmin\",\"tmax\",\"prec\",\"bioc\"]\n",
    "gcm_model_name = \"ACCESS-CM2\"\n",
    "ssp_model_names = [\"ssp126\",\"ssp245\",\"ssp370\",\"ssp585\"] # [\"ssp126\",\"ssp245\",\"ssp370\",\"ssp585\"]\n",
    "year_ranges = [\"2061-2080\",\"2081-2100\"] # [\"2021-2040\",\"2041-2060\",\"2061-2080\",\"2081-2100\"]"
   ]
  },
  {
   "cell_type": "code",
   "execution_count": null,
   "id": "98ffc03e",
   "metadata": {},
   "outputs": [],
   "source": [
    "%%time\n",
    "# Downscale multi-band geotifs\n",
    "for feature_name in feature_names:\n",
    "    for ssp_model_name in ssp_model_names:\n",
    "        for year_range in year_ranges:\n",
    "            file_name = 'wc2.1_10m_'+feature_name+'_'+gcm_model_name+'_'+ssp_model_name+'_'+year_range+'.tif'\n",
    "            input_path = data_path+file_name\n",
    "            output_path = input_path[:-4]+\"_downscaled\"+input_path[-4:]\n",
    "            downscale_geo_tiff_by_factor(input_path,output_path)"
   ]
  },
  {
   "cell_type": "markdown",
   "id": "b4c22c8a",
   "metadata": {},
   "source": [
    "# Opening, Comparing and Testing"
   ]
  },
  {
   "cell_type": "code",
   "execution_count": null,
   "id": "ee4072c0",
   "metadata": {},
   "outputs": [],
   "source": [
    "# Downscale test on 'wc2.1_10m_bioc_ACCESS-CM2_ssp126_2021-2040.tif'\n",
    "input_img_path = '../raw_data/wc2021-2100/wc2.1_10m_bioc_ACCESS-CM2_ssp245_2081-2100.tif'\n",
    "output_img_path = input_img_path[:-4]+\"_downscaled\"+input_img_path[-4:]\n",
    "# downscale_geo_tiff_by_factor(input_img_path,output_img_path)\n",
    "\n",
    "# Check shapes\n",
    "with rasterio.open(input_img_path) as input_img_dataset:\n",
    "        input_img_read = input_img_dataset.read()\n",
    "\n",
    "with rasterio.open(output_img_path) as output_img_dataset:\n",
    "        output_img_read = output_img_dataset.read()\n",
    "\n",
    "print(input_img_read.shape,\"\\n\",output_img_read.shape)"
   ]
  },
  {
   "cell_type": "code",
   "execution_count": null,
   "id": "574f5603",
   "metadata": {
    "code_folding": []
   },
   "outputs": [],
   "source": [
    "# Plot input / output\n",
    "fig, axs = plt.subplots(3,2, facecolor='w', edgecolor='k')\n",
    "fig.subplots_adjust(hspace = .5, wspace=.001)\n",
    "fig.set_figheight(8)\n",
    "fig.set_figwidth(10)\n",
    "axs = axs.ravel()\n",
    "\n",
    "axs[0].imshow(input_img_read[0,:,:])\n",
    "axs[0].set_title(\"Input dataset, Band 1\")\n",
    "axs[1].imshow(output_img_read[0,:,:])\n",
    "axs[1].set_title(\"Output dataset, Band 1\")\n",
    "\n",
    "axs[2].imshow(input_img_read[1,:,:])\n",
    "axs[2].set_title(\"Input dataset, Band 2\")\n",
    "axs[3].imshow(output_img_read[1,:,:])\n",
    "axs[3].set_title(\"Output dataset, Band 2\")\n",
    "\n",
    "axs[4].imshow(input_img_read[2,:,:])\n",
    "axs[4].set_title(\"Input dataset, Band 3\")\n",
    "axs[5].imshow(output_img_read[2,:,:])\n",
    "axs[5].set_title(\"Output dataset, Band 3\");"
   ]
  },
  {
   "cell_type": "code",
   "execution_count": null,
   "id": "63afc31b",
   "metadata": {
    "code_folding": [
     0
    ]
   },
   "outputs": [],
   "source": [
    "# Notebook file size\n",
    "%ls -alth 2_future_climate_data_downscale.ipynb"
   ]
  },
  {
   "cell_type": "markdown",
   "id": "157513cf",
   "metadata": {
    "heading_collapsed": true
   },
   "source": [
    "# Comparing feature values of two datasets"
   ]
  },
  {
   "cell_type": "code",
   "execution_count": null,
   "id": "fa621bbc",
   "metadata": {
    "hidden": true
   },
   "outputs": [],
   "source": [
    "# Getting feature values from spatial data sets\n",
    "# The following function retrieves the values for given lat/lon\n",
    "def getvalue(data, lat, lon, band=0):\n",
    "    data_array = data.read()[band]\n",
    "    # since the raster is in regular lon/lat grid, we can use \n",
    "    # `data.index()` to identify the index of a given lon/lat pair\n",
    "    idx = data.index(lon, lat, precision=1E-6)    \n",
    "    return data_array[idx]"
   ]
  },
  {
   "cell_type": "code",
   "execution_count": null,
   "id": "7443d4a2",
   "metadata": {
    "hidden": true
   },
   "outputs": [],
   "source": [
    "plant_data_inkl_bioclim = pd.read_csv(\"../raw_data/plant_data_inkl_bioclim/plant_data_inkl_bioclim_101.csv\")\n",
    "test_coordinates = plant_data_inkl_bioclim.sample(n=10)[[\"decimalLatitude\",\"decimalLongitude\"]]"
   ]
  },
  {
   "cell_type": "code",
   "execution_count": null,
   "id": "d5ec8e5f",
   "metadata": {
    "hidden": true
   },
   "outputs": [],
   "source": [
    "with  rasterio.open(input_img_path) as input_img:\n",
    "    with rasterio.open(output_img_path) as output_img:\n",
    "        test_coordinates[\"bioc01_original\"] = getvalue(\n",
    "            input_img,test_coordinates[\"decimalLatitude\"],test_coordinates[\"decimalLongitude\"])\n",
    "        test_coordinates[\"bioc01_downsampled\"] = getvalue(\n",
    "            output_img,test_coordinates[\"decimalLatitude\"],test_coordinates[\"decimalLongitude\"])\n",
    "        \n",
    "        test_coordinates[\"bioc07_original\"] = getvalue(\n",
    "            input_img,test_coordinates[\"decimalLatitude\"],test_coordinates[\"decimalLongitude\"],band=6)\n",
    "        test_coordinates[\"bioc07_downsampled\"] = getvalue(\n",
    "            output_img,test_coordinates[\"decimalLatitude\"],test_coordinates[\"decimalLongitude\"],band=6)\n",
    "        \n",
    "test_coordinates"
   ]
  },
  {
   "cell_type": "markdown",
   "id": "7c29832f",
   "metadata": {
    "heading_collapsed": true
   },
   "source": [
    "# Other downscaling methods"
   ]
  },
  {
   "cell_type": "code",
   "execution_count": null,
   "id": "5f5eae3b",
   "metadata": {
    "hidden": true,
    "scrolled": true
   },
   "outputs": [],
   "source": [
    "# !pip install tifffile\n",
    "# !pip install scikit-image\n",
    "# !pip install imagecodecs\n",
    "# from tifffile import imread, imwrite\n",
    "# from skimage.transform import resize\n",
    "# import imagecodecs\n",
    "\n",
    "# data = imread(data_path+'wc2.1_10m_bioc_ACCESS-CM2_ssp126_2021-2040.tif')\n",
    "\n",
    "# resized_data = resize(data, (375, 500, 21))\n",
    "# imwrite('multi-channel_resized.tif', resized_data, planarconfig='CONTIG')"
   ]
  }
 ],
 "metadata": {
  "kernelspec": {
   "display_name": "Python 3 (ipykernel)",
   "language": "python",
   "name": "python3"
  },
  "language_info": {
   "codemirror_mode": {
    "name": "ipython",
    "version": 3
   },
   "file_extension": ".py",
   "mimetype": "text/x-python",
   "name": "python",
   "nbconvert_exporter": "python",
   "pygments_lexer": "ipython3",
   "version": "3.10.6"
  },
  "toc": {
   "base_numbering": 1,
   "nav_menu": {},
   "number_sections": true,
   "sideBar": true,
   "skip_h1_title": false,
   "title_cell": "Table of Contents",
   "title_sidebar": "Contents",
   "toc_cell": false,
   "toc_position": {},
   "toc_section_display": true,
   "toc_window_display": false
  }
 },
 "nbformat": 4,
 "nbformat_minor": 5
}
