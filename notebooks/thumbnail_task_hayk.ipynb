{
 "cells": [
  {
   "cell_type": "markdown",
   "id": "3e9415b8",
   "metadata": {},
   "source": [
    "**The Thumbnail Task for Hayk**"
   ]
  },
  {
   "cell_type": "markdown",
   "id": "62864fcc",
   "metadata": {},
   "source": [
    "### Import packages"
   ]
  },
  {
   "cell_type": "code",
   "execution_count": null,
   "id": "f7c5176d",
   "metadata": {},
   "outputs": [],
   "source": [
    "import os\n",
    "import shutil\n",
    "import numpy as np\n",
    "import pandas as pd\n",
    "import requests\n",
    "import time\n",
    "import random\n",
    "from PIL import Image, ImageDraw, ImageFilter\n",
    "\n",
    "%load_ext autoreload\n",
    "%autoreload 2"
   ]
  },
  {
   "cell_type": "code",
   "execution_count": null,
   "id": "b75f51da",
   "metadata": {},
   "outputs": [],
   "source": [
    "# Run this\n",
    "def crop_max_square(pil_img):\n",
    "    return crop_center(pil_img, min(pil_img.size), min(pil_img.size))"
   ]
  },
  {
   "cell_type": "code",
   "execution_count": null,
   "id": "204f3fde",
   "metadata": {},
   "outputs": [],
   "source": [
    "# Run this\n",
    "def crop_center(pil_img, crop_width, crop_height):\n",
    "    img_width, img_height = pil_img.size\n",
    "    return pil_img.crop(((img_width - crop_width) // 2,\n",
    "                         (img_height - crop_height) // 2,\n",
    "                         (img_width + crop_width) // 2,\n",
    "                         (img_height + crop_height) // 2))"
   ]
  },
  {
   "cell_type": "markdown",
   "id": "aa1d264b",
   "metadata": {},
   "source": [
    "### 1) read todo list"
   ]
  },
  {
   "cell_type": "code",
   "execution_count": null,
   "id": "77734ae3",
   "metadata": {},
   "outputs": [],
   "source": [
    "media_df = pd.read_csv(\"../raw_data/url_df_redflag_selection.csv\",index_col=\"gbifID\")\n",
    "media_df_nodupl = media_df[~media_df.index.duplicated(keep='first')]\n",
    "path = '../raw_data/images_dist_list/'\n",
    "file_todo = 'list_3.npy' # The list for Hayk\n",
    "files_td = np.load(path+file_todo, allow_pickle=True)"
   ]
  },
  {
   "cell_type": "markdown",
   "id": "52e27a91",
   "metadata": {},
   "source": [
    "### 2) scrap images - check if already there beforehand"
   ]
  },
  {
   "cell_type": "code",
   "execution_count": null,
   "id": "8b8450fe",
   "metadata": {},
   "outputs": [],
   "source": [
    "%%time\n",
    "## foldername for the thumbnails\n",
    "fold_n_thumb = '../raw_data/thumbnails/'\n",
    "fi_n = os.listdir(fold_n_thumb)\n",
    "#fi_n.remove('.DS_Store') ## in case you have a mac - this might be necessary\n",
    "files = [os.path.splitext(filename)[0] for filename in os.listdir(fold_n_thumb)]\n",
    "#files.remove('.DS_Store') ## in case you have a mac - this might be necessary\n",
    "\n",
    "## read out the already existing files in the folder...\n",
    "#media_df_nodupl = media_df[~media_df.index.duplicated(keep='first')]\n",
    "#list_indexes = media_df_nodupl.index\n",
    "#diff_li = list(set(list_indexes) - set(files))\n",
    "diff_li = list(set(files_td) - set(files))\n",
    "## shuffle the list - this might be necessary since requests at the same api in a row might\n",
    "## denie access\n",
    "random.shuffle(diff_li)\n",
    "\n",
    "## request and store images in \"images\" folder\n",
    "for i in range(5): # range(1000):\n",
    "    try:\n",
    "        r = requests.get(media_df_nodupl.loc[int(diff_li[i]),'identifier'], stream=True) #Get request on full_url\n",
    "#         print(r) # for debugging\n",
    "        with open(f\"../raw_data/images/{int(diff_li[i])}.jpg\", 'wb') as f: \n",
    "            r.raw.decode_content = True\n",
    "            shutil.copyfileobj(r.raw, f)\n",
    "    except:\n",
    "#         print(\"error\") # for debugging\n",
    "        continue\n",
    "        \n",
    "    time.sleep(random.uniform(0.1, 0.3))"
   ]
  },
  {
   "cell_type": "markdown",
   "id": "85740297",
   "metadata": {},
   "source": [
    "### 3) crop and scale images"
   ]
  },
  {
   "cell_type": "code",
   "execution_count": null,
   "id": "4eb65fde",
   "metadata": {},
   "outputs": [],
   "source": [
    "## get images from images folde\n",
    "fold_n_im = '../raw_data/images/'\n",
    "fi_n = os.listdir(fold_n_im)\n",
    "# fi_n.remove('.DS_Store') # Use on Mac\n",
    "\n",
    "## crop and scale images to thumnails folder\n",
    "for i in range(len(fi_n)):\n",
    "    try:\n",
    "        image = Image.open(f\"../raw_data/images/{fi_n[i]}\")\n",
    "        image = crop_max_square(image).resize((300, 300))\n",
    "        image.save(f\"../raw_data/thumbnails/{fi_n[i]}\") \n",
    "    except:\n",
    "        continue"
   ]
  }
 ],
 "metadata": {
  "kernelspec": {
   "display_name": "Python 3 (ipykernel)",
   "language": "python",
   "name": "python3"
  },
  "language_info": {
   "codemirror_mode": {
    "name": "ipython",
    "version": 3
   },
   "file_extension": ".py",
   "mimetype": "text/x-python",
   "name": "python",
   "nbconvert_exporter": "python",
   "pygments_lexer": "ipython3",
   "version": "3.10.6"
  },
  "toc": {
   "base_numbering": 1,
   "nav_menu": {},
   "number_sections": true,
   "sideBar": true,
   "skip_h1_title": false,
   "title_cell": "Table of Contents",
   "title_sidebar": "Contents",
   "toc_cell": false,
   "toc_position": {},
   "toc_section_display": true,
   "toc_window_display": false
  }
 },
 "nbformat": 4,
 "nbformat_minor": 5
}
