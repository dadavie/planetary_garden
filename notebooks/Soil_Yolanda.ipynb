{
 "cells": [
  {
   "cell_type": "code",
   "execution_count": 23,
   "id": "de7f60dc",
   "metadata": {},
   "outputs": [],
   "source": [
    "import requests\n",
    "import pandas as pd\n",
    "import numpy as np\n",
    "import soilgrids"
   ]
  },
  {
   "cell_type": "code",
   "execution_count": 30,
   "id": "a87dd3df",
   "metadata": {},
   "outputs": [],
   "source": [
    "def get_soil_data (lat:int, lon:int):\n",
    "    url=f\"https://rest.isric.org/soilgrids/v2.0/properties/query?lon={lon}&lat={lat}&property=bdod&property=cec&property=cfvo&property=clay&property=nitrogen&property=ocd&property=ocs&property=phh2o&property=sand&property=silt&property=soc&depth=0-5cm&depth=0-30cm&depth=5-15cm&depth=15-30cm&depth=30-60cm&depth=60-100cm&depth=100-200cm\"    \n",
    "    response = requests.get(url)\n",
    "    return response.json()\n",
    "    "
   ]
  },
  {
   "cell_type": "code",
   "execution_count": 31,
   "id": "a17cddb3",
   "metadata": {},
   "outputs": [],
   "source": [
    "def process_soil_dictionary (soil:dict): \n",
    "    resp=soil['properties']['layers']\n",
    "    result={}\n",
    "    for feature in resp:\n",
    "        for depth_range in feature['depths']:\n",
    "            result [f\"{feature['name']}_{depth_range['range']['top_depth']}_{depth_range['range']['bottom_depth']}\"]=depth_range.get('values').get('mean',np.nan)\n",
    "    result=pd.DataFrame(result, index=[0])\n",
    "    return result\n",
    "    \n"
   ]
  },
  {
   "cell_type": "code",
   "execution_count": 36,
   "id": "74c57956",
   "metadata": {},
   "outputs": [],
   "source": [
    "def return_soil_features (lat, lon):\n",
    "    return process_soil_dictionary(get_soil_data(lat,lon))"
   ]
  },
  {
   "cell_type": "code",
   "execution_count": 37,
   "id": "ffb31218",
   "metadata": {},
   "outputs": [
    {
     "data": {
      "text/html": [
       "<div>\n",
       "<style scoped>\n",
       "    .dataframe tbody tr th:only-of-type {\n",
       "        vertical-align: middle;\n",
       "    }\n",
       "\n",
       "    .dataframe tbody tr th {\n",
       "        vertical-align: top;\n",
       "    }\n",
       "\n",
       "    .dataframe thead th {\n",
       "        text-align: right;\n",
       "    }\n",
       "</style>\n",
       "<table border=\"1\" class=\"dataframe\">\n",
       "  <thead>\n",
       "    <tr style=\"text-align: right;\">\n",
       "      <th></th>\n",
       "      <th>bdod_0_5</th>\n",
       "      <th>bdod_5_15</th>\n",
       "      <th>bdod_15_30</th>\n",
       "      <th>bdod_30_60</th>\n",
       "      <th>bdod_60_100</th>\n",
       "      <th>bdod_100_200</th>\n",
       "      <th>cec_0_5</th>\n",
       "      <th>cec_5_15</th>\n",
       "      <th>cec_15_30</th>\n",
       "      <th>cec_30_60</th>\n",
       "      <th>...</th>\n",
       "      <th>silt_15_30</th>\n",
       "      <th>silt_30_60</th>\n",
       "      <th>silt_60_100</th>\n",
       "      <th>silt_100_200</th>\n",
       "      <th>soc_0_5</th>\n",
       "      <th>soc_5_15</th>\n",
       "      <th>soc_15_30</th>\n",
       "      <th>soc_30_60</th>\n",
       "      <th>soc_60_100</th>\n",
       "      <th>soc_100_200</th>\n",
       "    </tr>\n",
       "  </thead>\n",
       "  <tbody>\n",
       "    <tr>\n",
       "      <th>0</th>\n",
       "      <td>116</td>\n",
       "      <td>124</td>\n",
       "      <td>129</td>\n",
       "      <td>138</td>\n",
       "      <td>139</td>\n",
       "      <td>141</td>\n",
       "      <td>152</td>\n",
       "      <td>117</td>\n",
       "      <td>113</td>\n",
       "      <td>118</td>\n",
       "      <td>...</td>\n",
       "      <td>422</td>\n",
       "      <td>364</td>\n",
       "      <td>355</td>\n",
       "      <td>375</td>\n",
       "      <td>272</td>\n",
       "      <td>150</td>\n",
       "      <td>89</td>\n",
       "      <td>56</td>\n",
       "      <td>38</td>\n",
       "      <td>34</td>\n",
       "    </tr>\n",
       "  </tbody>\n",
       "</table>\n",
       "<p>1 rows × 61 columns</p>\n",
       "</div>"
      ],
      "text/plain": [
       "   bdod_0_5  bdod_5_15  bdod_15_30  bdod_30_60  bdod_60_100  bdod_100_200  \\\n",
       "0       116        124         129         138          139           141   \n",
       "\n",
       "   cec_0_5  cec_5_15  cec_15_30  cec_30_60  ...  silt_15_30  silt_30_60  \\\n",
       "0      152       117        113        118  ...         422         364   \n",
       "\n",
       "   silt_60_100  silt_100_200  soc_0_5  soc_5_15  soc_15_30  soc_30_60  \\\n",
       "0          355           375      272       150         89         56   \n",
       "\n",
       "   soc_60_100  soc_100_200  \n",
       "0          38           34  \n",
       "\n",
       "[1 rows x 61 columns]"
      ]
     },
     "execution_count": 37,
     "metadata": {},
     "output_type": "execute_result"
    }
   ],
   "source": [
    "return_soil_features (-9, -72)"
   ]
  },
  {
   "cell_type": "code",
   "execution_count": null,
   "id": "ef6500cf",
   "metadata": {},
   "outputs": [],
   "source": []
  },
  {
   "cell_type": "code",
   "execution_count": null,
   "id": "44ca1368",
   "metadata": {},
   "outputs": [],
   "source": []
  }
 ],
 "metadata": {
  "kernelspec": {
   "display_name": "Python 3 (ipykernel)",
   "language": "python",
   "name": "python3"
  },
  "language_info": {
   "codemirror_mode": {
    "name": "ipython",
    "version": 3
   },
   "file_extension": ".py",
   "mimetype": "text/x-python",
   "name": "python",
   "nbconvert_exporter": "python",
   "pygments_lexer": "ipython3",
   "version": "3.10.6"
  },
  "toc": {
   "base_numbering": 1,
   "nav_menu": {},
   "number_sections": true,
   "sideBar": true,
   "skip_h1_title": false,
   "title_cell": "Table of Contents",
   "title_sidebar": "Contents",
   "toc_cell": false,
   "toc_position": {},
   "toc_section_display": true,
   "toc_window_display": false
  }
 },
 "nbformat": 4,
 "nbformat_minor": 5
}
